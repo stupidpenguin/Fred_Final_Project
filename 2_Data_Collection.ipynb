{
 "cells": [
  {
   "cell_type": "code",
   "execution_count": 1,
   "metadata": {
    "collapsed": true
   },
   "outputs": [],
   "source": [
    "import requests\n",
    "from bs4 import BeautifulSoup\n",
    "from time import sleep\n",
    "import pandas as pd\n",
    "import re\n",
    "import json\n",
    "import os"
   ]
  },
  {
   "cell_type": "code",
   "execution_count": 2,
   "outputs": [],
   "source": [
    "# with open(file='file.json', mode='r', encoding='utf-8') as reader:\n",
    "#     store_list = json.load(reader)\n",
    "store_list = [{\"name\": \"中坡\", \"address\": \"台北市南港區中坡南路47號1樓\"},\n",
    "              {\"name\": \"中研\", \"address\": \"台北市南港區研究院路二段128號1樓(學術活動中心)\"},\n",
    "              {\"name\": \"中貿\", \"address\": \"台北市南港區經貿二路186號2樓\"},\n",
    "              {\"name\": \"玉成\", \"address\": \"台北市南港區西新里南港路三段3號1樓\"}]"
   ],
   "metadata": {
    "collapsed": false,
    "pycharm": {
     "name": "#%%\n"
    }
   }
  },
  {
   "cell_type": "code",
   "execution_count": 3,
   "outputs": [
    {
     "name": "stdout",
     "output_type": "stream",
     "text": [
      "create file\n"
     ]
    },
    {
     "data": {
      "text/plain": "    中坡  中研  中貿  玉成\n中坡   0   0   0   0\n中研   0   0   0   0\n中貿   0   0   0   0\n玉成   0   0   0   0",
      "text/html": "<div>\n<style scoped>\n    .dataframe tbody tr th:only-of-type {\n        vertical-align: middle;\n    }\n\n    .dataframe tbody tr th {\n        vertical-align: top;\n    }\n\n    .dataframe thead th {\n        text-align: right;\n    }\n</style>\n<table border=\"1\" class=\"dataframe\">\n  <thead>\n    <tr style=\"text-align: right;\">\n      <th></th>\n      <th>中坡</th>\n      <th>中研</th>\n      <th>中貿</th>\n      <th>玉成</th>\n    </tr>\n  </thead>\n  <tbody>\n    <tr>\n      <th>中坡</th>\n      <td>0</td>\n      <td>0</td>\n      <td>0</td>\n      <td>0</td>\n    </tr>\n    <tr>\n      <th>中研</th>\n      <td>0</td>\n      <td>0</td>\n      <td>0</td>\n      <td>0</td>\n    </tr>\n    <tr>\n      <th>中貿</th>\n      <td>0</td>\n      <td>0</td>\n      <td>0</td>\n      <td>0</td>\n    </tr>\n    <tr>\n      <th>玉成</th>\n      <td>0</td>\n      <td>0</td>\n      <td>0</td>\n      <td>0</td>\n    </tr>\n  </tbody>\n</table>\n</div>"
     },
     "execution_count": 3,
     "metadata": {},
     "output_type": "execute_result"
    }
   ],
   "source": [
    "if os.path.exists('adjacency_matrix.json'):\n",
    "    print('open file')\n",
    "    with open(file='adjacency_matrix.json', mode='r', encoding='utf-8') as reader:\n",
    "        adjacency_matrix = json.load(reader)\n",
    "else:\n",
    "    print('create file')\n",
    "    # option = input('Y/N')\n",
    "    # if option != 'Y':\n",
    "    #     exit()\n",
    "    adjacency_matrix = {}\n",
    "    for i in store_list:\n",
    "        adjacency_matrix[i['name']] = {}\n",
    "        for j in store_list:\n",
    "            adjacency_matrix[i['name']][j['name']] = 0\n",
    "    with open(file='adjacency_matrix.json', mode='w', encoding='utf-8') as writer:\n",
    "        json.dump(obj=adjacency_matrix, fp=writer, indent=4)\n",
    "\n",
    "pd.options.display.max_columns = None\n",
    "pd.options.display.max_rows = None\n",
    "# pd.options.display.max_columns = 10\n",
    "# pd.options.display.max_rows = 10\n",
    "pd.DataFrame.from_dict(adjacency_matrix)"
   ],
   "metadata": {
    "collapsed": false,
    "pycharm": {
     "name": "#%%\n"
    }
   }
  },
  {
   "cell_type": "code",
   "execution_count": 4,
   "outputs": [],
   "source": [
    "template = 'https://www.google.com.tw/maps/dir/{}/{}'"
   ],
   "metadata": {
    "collapsed": false,
    "pycharm": {
     "name": "#%%\n"
    }
   }
  },
  {
   "cell_type": "code",
   "execution_count": 5,
   "outputs": [],
   "source": [
    "def get_dist(soup):\n",
    "    doc = soup.prettify()\n",
    "#     pos_list = [m.start() for m in re.finditer('公里', doc)]\n",
    "#     if pos_list == []:\n",
    "#         pos_list = [m.start() for m in re.finditer('公尺', doc)]\n",
    "#     for i in pos_list:\n",
    "#         print(doc[i-20:i+2])\n",
    "\n",
    "    if doc.find('公里') != -1:\n",
    "        pos = doc.find('公里')\n",
    "        return float(doc[pos-20:pos].split('\\\"')[-1])\n",
    "\n",
    "    elif doc.find('公尺') != -1:\n",
    "        pos = doc.find('公尺')\n",
    "        return float(doc[pos-20:pos].split('\\\"')[-1]) / 1000\n",
    "    else:\n",
    "        return -1"
   ],
   "metadata": {
    "collapsed": false,
    "pycharm": {
     "name": "#%%\n"
    }
   }
  },
  {
   "cell_type": "code",
   "execution_count": 6,
   "outputs": [
    {
     "name": "stdout",
     "output_type": "stream",
     "text": [
      "中坡 <-> 中研\n",
      "https://www.google.com.tw/maps/dir/台北市南港區中坡南路47號1樓/台北市南港區研究院路二段128號1樓(學術活動中心)\n",
      "5.5 km\n",
      "--------------------------------------------------\n",
      "中坡 <-> 中貿\n",
      "https://www.google.com.tw/maps/dir/台北市南港區中坡南路47號1樓/台北市南港區經貿二路186號2樓\n",
      "5.9 km\n",
      "--------------------------------------------------\n",
      "中坡 <-> 玉成\n",
      "https://www.google.com.tw/maps/dir/台北市南港區中坡南路47號1樓/台北市南港區西新里南港路三段3號1樓\n",
      "2.2 km\n",
      "--------------------------------------------------\n",
      "中研 <-> 中貿\n",
      "https://www.google.com.tw/maps/dir/台北市南港區研究院路二段128號1樓(學術活動中心)/台北市南港區經貿二路186號2樓\n",
      "3.0 km\n",
      "--------------------------------------------------\n",
      "中研 <-> 玉成\n",
      "https://www.google.com.tw/maps/dir/台北市南港區研究院路二段128號1樓(學術活動中心)/台北市南港區西新里南港路三段3號1樓\n",
      "4.6 km\n",
      "--------------------------------------------------\n",
      "中貿 <-> 玉成\n",
      "https://www.google.com.tw/maps/dir/台北市南港區經貿二路186號2樓/台北市南港區西新里南港路三段3號1樓\n",
      "3.1 km\n",
      "--------------------------------------------------\n"
     ]
    }
   ],
   "source": [
    "flag = False\n",
    "for index, i in enumerate(store_list):\n",
    "    if flag:\n",
    "      break\n",
    "    for j in store_list[index+1:]:\n",
    "        print('{} <-> {}'.format(i['name'], j['name']))\n",
    "        if adjacency_matrix[i['name']][j['name']] != 0:\n",
    "            continue\n",
    "        url = template.format(i['address'], j['address'])\n",
    "        print(url)\n",
    "        html_doc = requests.get(url)\n",
    "        if html_doc.status_code != 200:\n",
    "          flag = True\n",
    "          print('I\\'m a robot')\n",
    "          break\n",
    "        # assert html_doc.status_code == 200\n",
    "        soup = BeautifulSoup(html_doc.text, 'html.parser')\n",
    "        dist = get_dist(soup)\n",
    "        if dist <= 0:\n",
    "          flag = True\n",
    "          print('I\\'m a robot')\n",
    "          break\n",
    "        # assert dist > 0\n",
    "        adjacency_matrix[i['name']][j['name']] = dist\n",
    "        adjacency_matrix[j['name']][i['name']] = dist\n",
    "        print('{} km'.format(dist))\n",
    "        print('-'*50)\n",
    "        sleep(1)"
   ],
   "metadata": {
    "collapsed": false,
    "pycharm": {
     "name": "#%%\n"
    }
   }
  },
  {
   "cell_type": "code",
   "execution_count": 7,
   "outputs": [
    {
     "data": {
      "text/plain": "     中坡   中研   中貿   玉成\n中坡  0.0  5.5  5.9  2.2\n中研  5.5  0.0  3.0  4.6\n中貿  5.9  3.0  0.0  3.1\n玉成  2.2  4.6  3.1  0.0",
      "text/html": "<div>\n<style scoped>\n    .dataframe tbody tr th:only-of-type {\n        vertical-align: middle;\n    }\n\n    .dataframe tbody tr th {\n        vertical-align: top;\n    }\n\n    .dataframe thead th {\n        text-align: right;\n    }\n</style>\n<table border=\"1\" class=\"dataframe\">\n  <thead>\n    <tr style=\"text-align: right;\">\n      <th></th>\n      <th>中坡</th>\n      <th>中研</th>\n      <th>中貿</th>\n      <th>玉成</th>\n    </tr>\n  </thead>\n  <tbody>\n    <tr>\n      <th>中坡</th>\n      <td>0.0</td>\n      <td>5.5</td>\n      <td>5.9</td>\n      <td>2.2</td>\n    </tr>\n    <tr>\n      <th>中研</th>\n      <td>5.5</td>\n      <td>0.0</td>\n      <td>3.0</td>\n      <td>4.6</td>\n    </tr>\n    <tr>\n      <th>中貿</th>\n      <td>5.9</td>\n      <td>3.0</td>\n      <td>0.0</td>\n      <td>3.1</td>\n    </tr>\n    <tr>\n      <th>玉成</th>\n      <td>2.2</td>\n      <td>4.6</td>\n      <td>3.1</td>\n      <td>0.0</td>\n    </tr>\n  </tbody>\n</table>\n</div>"
     },
     "execution_count": 7,
     "metadata": {},
     "output_type": "execute_result"
    }
   ],
   "source": [
    "pd.DataFrame.from_dict(adjacency_matrix)"
   ],
   "metadata": {
    "collapsed": false,
    "pycharm": {
     "name": "#%%\n"
    }
   }
  },
  {
   "cell_type": "code",
   "execution_count": 8,
   "outputs": [],
   "source": [
    "with open(file='adjacency_matrix.json', mode='w', encoding='utf-8') as writer:\n",
    "    json.dump(obj=adjacency_matrix, fp=writer, indent=4)"
   ],
   "metadata": {
    "collapsed": false,
    "pycharm": {
     "name": "#%%\n"
    }
   }
  }
 ],
 "metadata": {
  "kernelspec": {
   "display_name": "Python 3",
   "language": "python",
   "name": "python3"
  },
  "language_info": {
   "codemirror_mode": {
    "name": "ipython",
    "version": 2
   },
   "file_extension": ".py",
   "mimetype": "text/x-python",
   "name": "python",
   "nbconvert_exporter": "python",
   "pygments_lexer": "ipython2",
   "version": "2.7.6"
  }
 },
 "nbformat": 4,
 "nbformat_minor": 0
}