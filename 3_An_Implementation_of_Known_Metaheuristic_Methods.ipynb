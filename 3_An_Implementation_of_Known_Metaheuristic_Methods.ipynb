{
 "cells": [
  {
   "cell_type": "code",
   "execution_count": 6,
   "metadata": {},
   "outputs": [],
   "source": [
    "ITERATIONS = 20\n",
    "import numpy as np\n",
    "import copy\n",
    "import pandas as pd"
   ]
  },
  {
   "cell_type": "markdown",
   "source": [
    "### Print the address of all stores"
   ],
   "metadata": {
    "collapsed": false,
    "pycharm": {
     "name": "#%% md\n"
    }
   }
  },
  {
   "cell_type": "code",
   "execution_count": 105,
   "outputs": [
    {
     "data": {
      "text/plain": "   name\n0    凱松\n1    經貿\n2    馥樺\n3    中坡\n4    玉德\n5    港運\n6    向揚\n7   新福玉\n8    玉成\n9    港泰\n10   港麗\n11  港環球\n12   雄強\n13   昆陽\n14   忠陽\n15   聯坊\n16   林坊\n17   香城\n18   佳樂\n19  港高鐵\n20   鵬馳\n21   耀港\n22   中研\n23   研究\n24   庄研\n25   胡適\n26   華技\n27   慈愛\n28   重陽\n29   鑫貿\n30   中貿\n31   港捷\n32   港勝\n33   港德\n34   港興\n35   聯成",
      "text/html": "<div>\n<style scoped>\n    .dataframe tbody tr th:only-of-type {\n        vertical-align: middle;\n    }\n\n    .dataframe tbody tr th {\n        vertical-align: top;\n    }\n\n    .dataframe thead th {\n        text-align: right;\n    }\n</style>\n<table border=\"1\" class=\"dataframe\">\n  <thead>\n    <tr style=\"text-align: right;\">\n      <th></th>\n      <th>name</th>\n    </tr>\n  </thead>\n  <tbody>\n    <tr>\n      <th>0</th>\n      <td>凱松</td>\n    </tr>\n    <tr>\n      <th>1</th>\n      <td>經貿</td>\n    </tr>\n    <tr>\n      <th>2</th>\n      <td>馥樺</td>\n    </tr>\n    <tr>\n      <th>3</th>\n      <td>中坡</td>\n    </tr>\n    <tr>\n      <th>4</th>\n      <td>玉德</td>\n    </tr>\n    <tr>\n      <th>5</th>\n      <td>港運</td>\n    </tr>\n    <tr>\n      <th>6</th>\n      <td>向揚</td>\n    </tr>\n    <tr>\n      <th>7</th>\n      <td>新福玉</td>\n    </tr>\n    <tr>\n      <th>8</th>\n      <td>玉成</td>\n    </tr>\n    <tr>\n      <th>9</th>\n      <td>港泰</td>\n    </tr>\n    <tr>\n      <th>10</th>\n      <td>港麗</td>\n    </tr>\n    <tr>\n      <th>11</th>\n      <td>港環球</td>\n    </tr>\n    <tr>\n      <th>12</th>\n      <td>雄強</td>\n    </tr>\n    <tr>\n      <th>13</th>\n      <td>昆陽</td>\n    </tr>\n    <tr>\n      <th>14</th>\n      <td>忠陽</td>\n    </tr>\n    <tr>\n      <th>15</th>\n      <td>聯坊</td>\n    </tr>\n    <tr>\n      <th>16</th>\n      <td>林坊</td>\n    </tr>\n    <tr>\n      <th>17</th>\n      <td>香城</td>\n    </tr>\n    <tr>\n      <th>18</th>\n      <td>佳樂</td>\n    </tr>\n    <tr>\n      <th>19</th>\n      <td>港高鐵</td>\n    </tr>\n    <tr>\n      <th>20</th>\n      <td>鵬馳</td>\n    </tr>\n    <tr>\n      <th>21</th>\n      <td>耀港</td>\n    </tr>\n    <tr>\n      <th>22</th>\n      <td>中研</td>\n    </tr>\n    <tr>\n      <th>23</th>\n      <td>研究</td>\n    </tr>\n    <tr>\n      <th>24</th>\n      <td>庄研</td>\n    </tr>\n    <tr>\n      <th>25</th>\n      <td>胡適</td>\n    </tr>\n    <tr>\n      <th>26</th>\n      <td>華技</td>\n    </tr>\n    <tr>\n      <th>27</th>\n      <td>慈愛</td>\n    </tr>\n    <tr>\n      <th>28</th>\n      <td>重陽</td>\n    </tr>\n    <tr>\n      <th>29</th>\n      <td>鑫貿</td>\n    </tr>\n    <tr>\n      <th>30</th>\n      <td>中貿</td>\n    </tr>\n    <tr>\n      <th>31</th>\n      <td>港捷</td>\n    </tr>\n    <tr>\n      <th>32</th>\n      <td>港勝</td>\n    </tr>\n    <tr>\n      <th>33</th>\n      <td>港德</td>\n    </tr>\n    <tr>\n      <th>34</th>\n      <td>港興</td>\n    </tr>\n    <tr>\n      <th>35</th>\n      <td>聯成</td>\n    </tr>\n  </tbody>\n</table>\n</div>"
     },
     "execution_count": 105,
     "metadata": {},
     "output_type": "execute_result"
    }
   ],
   "source": [
    "df = pd.read_json(\"Stores_List.json\")\n",
    "df = df.drop(columns=['address'])\n",
    "df_list = df.iloc[:,0]\n",
    "df"
   ],
   "metadata": {
    "collapsed": false,
    "pycharm": {
     "name": "#%%\n"
    }
   }
  },
  {
   "cell_type": "markdown",
   "source": [
    "### Read the Adjacency Matrix"
   ],
   "metadata": {
    "collapsed": false,
    "pycharm": {
     "name": "#%% md\n"
    }
   }
  },
  {
   "cell_type": "code",
   "execution_count": 8,
   "outputs": [
    {
     "data": {
      "text/plain": "array([[0.  , 4.2 , 4.1 , ..., 2.1 , 2.8 , 1.8 ],\n       [5.1 , 0.  , 0.13, ..., 4.2 , 1.5 , 2.7 ],\n       [4.9 , 0.13, 0.  , ..., 4.3 , 1.4 , 2.8 ],\n       ...,\n       [2.1 , 4.3 , 4.4 , ..., 0.  , 3.4 , 1.6 ],\n       [2.9 , 1.7 , 1.2 , ..., 3.3 , 0.  , 1.8 ],\n       [1.8 , 2.7 , 2.9 , ..., 1.5 , 1.8 , 0.  ]])"
     },
     "execution_count": 8,
     "metadata": {},
     "output_type": "execute_result"
    }
   ],
   "source": [
    "Adjacency_Matrix = pd.read_csv(\"adjacency_matrix.csv\", index_col=0).to_numpy()\n",
    "Target_Data = Adjacency_Matrix\n",
    "Adjacency_Matrix"
   ],
   "metadata": {
    "collapsed": false,
    "pycharm": {
     "name": "#%%\n"
    }
   }
  },
  {
   "cell_type": "markdown",
   "source": [
    "#### A Random Generate Initial Schedule"
   ],
   "metadata": {
    "collapsed": false,
    "pycharm": {
     "name": "#%% md\n"
    }
   }
  },
  {
   "cell_type": "code",
   "execution_count": 9,
   "outputs": [
    {
     "data": {
      "text/plain": "array([29,  0,  7, 21, 27, 23, 19, 15, 33, 16, 13, 25, 24,  3,  8, 34, 35,\n        5,  6, 22, 11, 17, 26, 14, 32,  2, 30, 31,  4,  1, 18, 12, 20, 28,\n        9, 10])"
     },
     "execution_count": 9,
     "metadata": {},
     "output_type": "execute_result"
    }
   ],
   "source": [
    "baseline_schedule = list(range(len(Adjacency_Matrix)))\n",
    "baseline_schedule = np.random.permutation(baseline_schedule)\n",
    "baseline_schedule"
   ],
   "metadata": {
    "collapsed": false,
    "pycharm": {
     "name": "#%%\n"
    }
   }
  },
  {
   "cell_type": "markdown",
   "metadata": {
    "pycharm": {
     "name": "#%% md\n"
    }
   },
   "source": [
    "##### Common methods"
   ]
  },
  {
   "cell_type": "code",
   "execution_count": 77,
   "metadata": {
    "pycharm": {
     "name": "#%%\n"
    }
   },
   "outputs": [],
   "source": [
    "def Get_Schedule_Length(given_schedule):\n",
    "    # Adjust the given_schedule (schedule), for example [A, B, C] -> [A, B, C, A]\n",
    "    # then compute the travel distance of the given array.\n",
    "    given_schedule = np.append(given_schedule, given_schedule[0])\n",
    "    sum = 0\n",
    "    for j in range(len(given_schedule)-1):\n",
    "        sum += Target_Data[given_schedule[j],given_schedule[j+1]]\n",
    "    return sum\n",
    "\n",
    "def Get_Best_Neighbor(current_schedule):\n",
    "    permutation = []\n",
    "    for i in range(len(current_schedule)):\n",
    "        for j in range(i+1, len(current_schedule)):\n",
    "            neighbor = current_schedule.copy()\n",
    "            neighbor[i] = current_schedule[j]\n",
    "            neighbor[j] = current_schedule[i]\n",
    "            permutation.append(neighbor)\n",
    "    permutation = np.asarray(permutation)\n",
    "    min = np.inf\n",
    "    for k in range(len(permutation)):\n",
    "        if (Get_Schedule_Length(permutation[k]) < min):\n",
    "            min = Get_Schedule_Length(permutation[k])\n",
    "            schedule_with_shortest_distance = permutation[k]\n",
    "    return schedule_with_shortest_distance"
   ]
  },
  {
   "cell_type": "markdown",
   "metadata": {
    "pycharm": {
     "name": "#%% md\n"
    }
   },
   "source": [
    "##### 3(a) Hill Climbing"
   ]
  },
  {
   "cell_type": "code",
   "execution_count": 79,
   "metadata": {
    "pycharm": {
     "name": "#%%\n"
    }
   },
   "outputs": [],
   "source": [
    "initial_schedule = baseline_schedule\n",
    "best_schedule = initial_schedule\n",
    "best_result = Get_Schedule_Length(initial_schedule)\n",
    "\n",
    "# add the travel distance of initial schedule to the array which stored the result.\n",
    "HC = [best_result]\n",
    "\n",
    "# Start Iterations\n",
    "for i in range(ITERATIONS):# try 10000 possible route in each iteration. (much less than 15!)\n",
    "    current_schedule = Get_Best_Neighbor(best_schedule)\n",
    "    if Get_Schedule_Length(current_schedule)<best_result:\n",
    "        best_schedule = current_schedule\n",
    "        best_result = Get_Schedule_Length(current_schedule)\n",
    "    HC.append(best_result)\n",
    "# print(HC)\n",
    "HC_best_schedule = best_schedule"
   ]
  },
  {
   "cell_type": "markdown",
   "metadata": {
    "pycharm": {
     "name": "#%% md\n"
    }
   },
   "source": [
    "##### 3(b) Random Walk"
   ]
  },
  {
   "cell_type": "code",
   "execution_count": 85,
   "metadata": {
    "pycharm": {
     "name": "#%%\n"
    }
   },
   "outputs": [],
   "source": [
    "initial_schedule = baseline_schedule\n",
    "best_result = Get_Schedule_Length(initial_schedule)\n",
    "\n",
    "# add the travel distance of initial schedule to the array which stored the result.\n",
    "RW = [best_result]\n",
    "\n",
    "for i in range(ITERATIONS):\n",
    "    # random select an route from the permutation of old schedule\n",
    "    current_schedule = np.random.permutation(initial_schedule)\n",
    "    if Get_Schedule_Length(current_schedule)<best_result:\n",
    "        best_schedule = current_schedule\n",
    "        best_result = Get_Schedule_Length(current_schedule)\n",
    "    RW.append(best_result)\n",
    "\n",
    "# save the schedule with best result of RW.\n",
    "RW_best_schedule = best_schedule"
   ]
  },
  {
   "cell_type": "markdown",
   "metadata": {
    "pycharm": {
     "name": "#%% md\n"
    }
   },
   "source": [
    "##### 3(c) Genetic Algorithm - setup"
   ]
  },
  {
   "cell_type": "code",
   "execution_count": 13,
   "metadata": {
    "pycharm": {
     "name": "#%%\n"
    }
   },
   "outputs": [],
   "source": [
    "POPULATION_SIZE = 10\n",
    "CROSSOVER_PROBABILITY = 0.1\n",
    "NUMBER_OF_PAIRS_OF_MULTI_BIT_FLIP = 2\n",
    "\n",
    "def Generate_Population(initial_schedule):\n",
    "    Population = []\n",
    "    for i in range(POPULATION_SIZE):\n",
    "        Single_Creature = np.random.permutation(initial_schedule)\n",
    "        Population.append(Single_Creature)\n",
    "    return Population\n",
    "\n",
    "def Roulete_Wheel_Selection(Given_Matrix):\n",
    "    A = []\n",
    "    max = -np.inf\n",
    "    for i in range(len(Given_Matrix)):\n",
    "        schedule_length = Get_Schedule_Length(Given_Matrix[i])\n",
    "        A.append(schedule_length)\n",
    "        if schedule_length > max:\n",
    "            max = schedule_length\n",
    "\n",
    "    sum = 0\n",
    "    for j in range(len(Given_Matrix)):\n",
    "        sum += A[j]\n",
    "        A[j] = sum\n",
    "\n",
    "    Matepool = []\n",
    "    for k in range(int(len(Given_Matrix)/2)):\n",
    "        a = np.random.randint(sum)\n",
    "        i=0\n",
    "        while(a>A[i]):\n",
    "            i += 1\n",
    "        Matepool.append(Given_Matrix[i])\n",
    "\n",
    "    return Matepool\n",
    "\n",
    "def Uniform_Crossover(Given_Matrix):\n",
    "    Test_Matrix = Given_Matrix\n",
    "    for i in range(int(len(Test_Matrix)/2)):\n",
    "\n",
    "        for j in range(int(len(Test_Matrix[i]))):\n",
    "            a = np.random.uniform(0,1,1)\n",
    "            if a >= CROSSOVER_PROBABILITY:\n",
    "                # SWAP the elements among two weapons lists.\n",
    "                Test_Matrix[2*i][j], Test_Matrix[2*i+1][j] = Test_Matrix[2*i+1][j], Test_Matrix[2*i][j]\n",
    "    return Test_Matrix\n",
    "\n",
    "def Multi_Bit_Flip_Mutation(Given_Matrix, Number_of_Pairs_of_Multi_Bit_Flip):\n",
    "    Test_Matrix = Given_Matrix\n",
    "    # Doubling the population size in the step\\\n",
    "    # \\to make the amount of creatures fixed in each generations.\n",
    "    Test_Matrix = np.concatenate((Test_Matrix, Test_Matrix))\n",
    "\n",
    "    #\n",
    "    for i in range(int(len(Test_Matrix)/2)):\n",
    "        for j in range(Number_of_Pairs_of_Multi_Bit_Flip):\n",
    "            interchange_location = np.random.randint(int(len(Test_Matrix[i])),size=2)\n",
    "            Test_Matrix[i][interchange_location[0]], Test_Matrix[i][interchange_location[1]] =\\\n",
    "            Test_Matrix[i][interchange_location[1]], Test_Matrix[i][interchange_location[0]]\n",
    "\n",
    "    return Test_Matrix\n",
    "\n",
    "def Get_the_Best_Combination(Given_Matrix, print_result):\n",
    "    min = np.inf\n",
    "    for i in range(len(Given_Matrix)):\n",
    "        if Get_Schedule_Length(Given_Matrix[i]) < min:\n",
    "            min = Get_Schedule_Length(Given_Matrix[i])\n",
    "            best_combination = Given_Matrix[i]\n",
    "    if (print_result):\n",
    "        print(f'   The best combination in the current generation is: {best_combination}'\n",
    "              f'\\n    with schedule travel distance: {min}')\n",
    "    return min, best_combination"
   ]
  },
  {
   "cell_type": "markdown",
   "source": [
    "##### 3(c) Genetic Algorithm - main"
   ],
   "metadata": {
    "collapsed": false,
    "pycharm": {
     "name": "#%% md\n"
    }
   }
  },
  {
   "cell_type": "code",
   "execution_count": 95,
   "outputs": [],
   "source": [
    "initial_schedule = baseline_schedule\n",
    "best_result = Get_Schedule_Length(initial_schedule)\n",
    "\n",
    "# add the travel distance of initial schedule to the array which stored the result.\n",
    "GA = [best_result]\n",
    "\n",
    "\n",
    "Population = Generate_Population(initial_schedule)\n",
    "for iters in range(int(ITERATIONS/POPULATION_SIZE)):\n",
    "    Selected_Creatures = Roulete_Wheel_Selection(Population)\n",
    "    Syngamy = Uniform_Crossover(Selected_Creatures)\n",
    "    Next_Generation = Multi_Bit_Flip_Mutation(Syngamy,\n",
    "                                              NUMBER_OF_PAIRS_OF_MULTI_BIT_FLIP)\n",
    "    Population = Next_Generation\n",
    "    current_result, current_schedule = Get_the_Best_Combination(Next_Generation,\n",
    "                                                                print_result=0)\n",
    "\n",
    "    if Get_Schedule_Length(current_schedule)<best_result:\n",
    "        best_schedule = current_schedule\n",
    "        best_result = Get_Schedule_Length(current_schedule)\n",
    "    # Since GA is a population-wise comparison algorithms,\n",
    "    # append the best result multiple times to compare GA with other algorithms.\n",
    "    for population_size in range(POPULATION_SIZE):\n",
    "        GA.append(best_result)\n",
    "GA_best_result = GA[-1]\n",
    "GA_best_result\n",
    "# save the schedule with best result of RW\n",
    "GA_best_schedule = best_schedule"
   ],
   "metadata": {
    "collapsed": false,
    "pycharm": {
     "name": "#%%\n"
    }
   }
  },
  {
   "cell_type": "markdown",
   "metadata": {
    "pycharm": {
     "name": "#%% md\n"
    }
   },
   "source": [
    "##### 3(d) Simulated Annealing - setup"
   ]
  },
  {
   "cell_type": "code",
   "execution_count": 15,
   "metadata": {
    "pycharm": {
     "name": "#%%\n"
    }
   },
   "outputs": [],
   "source": [
    "# Hyper parameters\n",
    "NO_UPDATE_TIMES = 10e4 #10e4\n",
    "n = 2 # iterations\n",
    "c = 0.7 # temperature reduction factor\n",
    "\n",
    "# Generate Initial Temperature\n",
    "rand_4pts = []\n",
    "for i in range(4):\n",
    "    Creature = np.random.permutation(initial_schedule)\n",
    "    rand_4pts.append(Get_Schedule_Length(Creature))\n",
    "init_temp = np.average(rand_4pts)\n",
    "\n",
    "# Generate Initial Schedule\n",
    "# current_schedule = np.random.permutation(initial_schedule)\n",
    "SA = []\n",
    "\n",
    "## Some Initializations\n",
    "no_update_times = 0\n",
    "initial_schedule = baseline_schedule\n",
    "des_schedule = initial_schedule #current_schedule\n",
    "temp = init_temp    # set the temperature to initial temperature\n",
    "iters_sum = 0"
   ]
  },
  {
   "cell_type": "markdown",
   "source": [
    "##### 3(d) Simulated Annealing - main"
   ],
   "metadata": {
    "collapsed": false
   }
  },
  {
   "cell_type": "code",
   "execution_count": 16,
   "outputs": [
    {
     "name": "stdout",
     "output_type": "stream",
     "text": [
      "   The best combination over all generations is: [33 16 32 26 12  4 15 13 14  3  7  0  5 34 35  1 10  6  9 17 18 19 27 31\n",
      " 21 22 11 30 29 24 25 23 20  8  2 28]\n",
      "\n",
      "    with travel distance: 59.81600000000001\n"
     ]
    }
   ],
   "source": [
    "while no_update_times<=NO_UPDATE_TIMES:\n",
    "\n",
    "    iter = 0\n",
    "\n",
    "    while (iter <= n)&(no_update_times <= NO_UPDATE_TIMES):\n",
    "        # Compute current_state\n",
    "        current_state = Get_Schedule_Length(des_schedule)\n",
    "\n",
    "        r = np.random.permutation(des_schedule)\n",
    "        attempt_state = Get_Schedule_Length(r)\n",
    "\n",
    "        # Step 3 and Step 4\n",
    "        del_f = attempt_state - current_state\n",
    "\n",
    "        if del_f<0:\n",
    "            #print(f'del_f:{del_f}')\n",
    "            c = np.random.uniform(0, 1, 1)\n",
    "            Prob_of_X_2 = np.exp(-del_f/(1*temp))\n",
    "            #print(f' r = {r} , $P(X_2)$ = {Prob_of_X_2}')\n",
    "            if Prob_of_X_2 > c:\n",
    "                des_schedule = r\n",
    "                #print(f'! assign new design (x) = {des_schedule}')\n",
    "                SA.append(float(Get_Schedule_Length(r)))\n",
    "                current_state = attempt_state\n",
    "                temp = c*temp\n",
    "                no_update_times = 0\n",
    "        else:\n",
    "            no_update_times +=1\n",
    "\n",
    "        iter += 1\n",
    "        iters_sum += 1\n",
    "\n",
    "print(f'   The best combination over all generations is: {des_schedule}')\n",
    "print(f'\\n    with travel distance: {current_state}')\n",
    "SA_best_schedule = des_schedule"
   ],
   "metadata": {
    "collapsed": false,
    "pycharm": {
     "name": "#%%\n"
    }
   }
  },
  {
   "cell_type": "markdown",
   "metadata": {
    "pycharm": {
     "name": "#%% md\n"
    }
   },
   "source": [
    "##### 3(e) Tabu Search - setup"
   ]
  },
  {
   "cell_type": "code",
   "execution_count": 17,
   "metadata": {
    "pycharm": {
     "name": "#%%\n"
    }
   },
   "outputs": [],
   "source": [
    "# build a boolean table for TS, to determine whether swap or not\n",
    "size = len(Target_Data)\n",
    "TS_boolean_table = np.zeros((size, size), dtype=bool)\n",
    "for i in range(size):\n",
    "    TS_boolean_table[0, i] = TS_boolean_table[i, 0] = 1\n",
    "\n",
    "def Get_Permutation(current_schedule):\n",
    "    permutation = []\n",
    "    for i in range(len(current_schedule)):\n",
    "        for j in range(i+1, len(current_schedule)):\n",
    "            neighbor = current_schedule.copy()\n",
    "            neighbor[i] = current_schedule[j]\n",
    "            neighbor[j] = current_schedule[i]\n",
    "\n",
    "            # to convenient the work, I set the data structure of permutation matrix as follow\n",
    "            # i, j will memorized which cities were swapped in the current route.\n",
    "            # example:\n",
    "            #   0   1   2      3    ...   15       16      17      18\n",
    "            #   i   j   City1  City2      City14   City15  City1   0 (the place to fill in total travel distance)\n",
    "            #   .   .   .      .    ...   .        .       .       .\n",
    "            #   .   .   .      .    ...   .        .       .       .\n",
    "            #   .   .   .      .    ...   .        .       .       .\n",
    "\n",
    "            loc = [i, j]    # correspond to boolean table\n",
    "            loc.extend(neighbor)    # schedule after randomly swapping two cities\n",
    "            loc.extend([0])   # a place to memorized the city we start and another for total distance\n",
    "            permutation.append(loc)\n",
    "    permutation = np.array(permutation)\n",
    "    return permutation\n",
    "\n",
    "def Get_New_Schedule(permutation, best_result, boolean_table):\n",
    "    # declaration\n",
    "    store_i = 0\n",
    "    store_j = 0\n",
    "    current_schedule = []\n",
    "\n",
    "    # compare all possibilities route in permutation matrix, and choose the best.\n",
    "    for i in range(len(permutation)):\n",
    "        sum = Get_Schedule_Length(permutation[i, 2:2+len(Target_Data)])\n",
    "\n",
    "        if boolean_table[permutation[i,0], permutation[i,1]]!=1:\n",
    "            permutation[i,2+len(Target_Data)] = int(sum)\n",
    "            if (sum < best_result):\n",
    "                best_result = sum\n",
    "                store_i = permutation[i,0]\n",
    "                store_j = permutation[i,1]\n",
    "                current_schedule = permutation[i, 2:2+len(Target_Data)]\n",
    "\n",
    "    # mark the cities that have been swapped\n",
    "    boolean_table[store_i, store_j] = 1\n",
    "    boolean_table[store_j, store_i] = 1\n",
    "\n",
    "    return current_schedule, best_result, boolean_table"
   ]
  },
  {
   "cell_type": "markdown",
   "source": [
    "##### 3(e) Tabu Search - main"
   ],
   "metadata": {
    "collapsed": false
   }
  },
  {
   "cell_type": "code",
   "execution_count": 18,
   "metadata": {
    "pycharm": {
     "name": "#%%\n"
    }
   },
   "outputs": [
    {
     "name": "stderr",
     "output_type": "stream",
     "text": [
      "<ipython-input-18-3ce27a4d5d09>:14: DeprecationWarning: elementwise comparison failed; this will raise an error in the future.\n",
      "  if current_schedule != []:\n"
     ]
    }
   ],
   "source": [
    "initial_schedule = baseline_schedule\n",
    "current_schedule = initial_schedule\n",
    "best_schedule = current_schedule\n",
    "best_result = Get_Schedule_Length(initial_schedule)\n",
    "\n",
    "TS = [best_result]\n",
    "\n",
    "for i in range(ITERATIONS):\n",
    "    # print(f'Step:{i}')\n",
    "    permutation = Get_Permutation(best_schedule)\n",
    "    current_schedule, best_result, TS_boolean_table = Get_New_Schedule(permutation,\n",
    "                                                                       best_result,\n",
    "                                                                       TS_boolean_table)\n",
    "    if current_schedule != []:\n",
    "        best_schedule = current_schedule\n",
    "    else:\n",
    "        pass\n",
    "\n",
    "    TS.append(Get_Schedule_Length(best_schedule))\n",
    "\n",
    "TS_best_schedule = best_schedule"
   ]
  },
  {
   "cell_type": "markdown",
   "metadata": {
    "pycharm": {
     "name": "#%% md\n"
    }
   },
   "source": [
    "##### 3(f) Particle Swarm Optimization - method"
   ]
  },
  {
   "cell_type": "code",
   "execution_count": 19,
   "metadata": {
    "pycharm": {
     "name": "#%%\n"
    }
   },
   "outputs": [],
   "source": [
    "def Get_Permutation_Ver2(current_schedule, index):\n",
    "    permutation = []\n",
    "    for i in range(len(current_schedule)):\n",
    "        for j in range(i+1, len(current_schedule)):\n",
    "            neighbor = current_schedule.copy()\n",
    "            neighbor[i] = current_schedule[j]\n",
    "            neighbor[j] = current_schedule[i]\n",
    "\n",
    "            # to convenient the work, I set the data structure of permutation matrix as follow\n",
    "            # i, j will memorized which cities were swapped in the current route.\n",
    "            # for example:\n",
    "            #   0                   1   2      3    ...   35       36      37      38      39\n",
    "            #   particles' index    i   j      City1      City34    City35  City36  City1   The travel distance of the current schedule\n",
    "            #   .                   .   .      .    ...   .        .       .       .       .\n",
    "            #   .                   .   .      .    ...   .        .       .       .       .\n",
    "            #   .                   .   .      .    ...   .        .       .       .       .\n",
    "\n",
    "            loc = [index, i, j]    # correspond to boolean table\n",
    "            loc.extend(neighbor)    # schedule after randomly swapping two cities\n",
    "            loc.extend([Get_Schedule_Length(neighbor)])   # a place to memorized the city we start and another for total distance\n",
    "            permutation.append(loc)\n",
    "    permutation = np.array(permutation)\n",
    "    return permutation\n",
    "\n",
    "def Schedules_Initialization(Particles):\n",
    "    Positions = []\n",
    "    for i in range(Particles):\n",
    "        Positions.append(np.random.permutation(initial_schedule))\n",
    "    return Positions\n",
    "\n",
    "def Initialize_Velocities(Particles):\n",
    "    return np.zeros(Particles)\n",
    "\n",
    "### Get Local Best Position\n",
    "def Get_Local_Best_Schedule(Schedules, Current_Local_Best_Position):\n",
    "    for i in range(len(Schedules)):\n",
    "        if Get_Schedule_Length(Schedules[i]) > Get_Schedule_Length(Current_Local_Best_Position[i]):\n",
    "            Current_Local_Best_Position[i] = Schedules[i]\n",
    "    # print(f'===== Get_Local_Best_Schedule =====')\n",
    "    # print(f'Current_Local_Best_Position : {Current_Local_Best_Position}')\n",
    "    # for j in range(4):\n",
    "    #     print(f'Local_Best_Position_Value[{j}] : {f(Local_Best_Position[j])}')\n",
    "    return Current_Local_Best_Position\n",
    "\n",
    "def Get_Global_Best_Schedule(Local_Best_Schedules,\n",
    "                             Local_Best_Positions,\n",
    "                             Global_Best_Schedule,\n",
    "                             Global_Best_Position):\n",
    "    global_best_position = 0\n",
    "    for index in range(len(Local_Best_Schedules)):\n",
    "        # print(f'index:{index}, Local_Best_Positions[{index}]={Local_Best_Positions[index]}')\n",
    "        if Local_Best_Schedules[index][-1] <= Get_Schedule_Length(Global_Best_Schedule):\n",
    "            Global_Best_Schedule = Local_Best_Schedules[index][3:3+len(Target_Data)]\n",
    "            print(f'Global_Best_Schedule:{Global_Best_Schedule}')\n",
    "            Global_Best_Position = Local_Best_Positions[index]\n",
    "    return Global_Best_Schedule, Global_Best_Position\n",
    "\n",
    "def Get_Velocities_of_Particles(Particles,\n",
    "                                Local_Best_Position,\n",
    "                                Global_Best_Position,\n",
    "                                Current_Velocities):\n",
    "    New_Velocities = Initialize_Velocities(Particles)\n",
    "    w = 1; c_1 = 1; c_2 = 0.4\n",
    "    r_1 = np.random.uniform(0, 1, 1)\n",
    "    r_2 = np.random.uniform(0, 1, 1)\n",
    "    for i in range(Particles):\n",
    "        New_Velocities[i] = w*Current_Velocities[i]\\\n",
    "                            + c_1*r_1*(Global_Best_Position-Local_Best_Position[i])\n",
    "        New_Velocities[i] = np.round(float(New_Velocities[i]))\n",
    "    New_Velocities = New_Velocities.astype(int)\n",
    "    return New_Velocities\n",
    "\n",
    "def Get_Overall_Schdules_and_Local_Best_Schedules(Current_Schedules,\n",
    "                                                  boolean_tables):\n",
    "    Local_Best_Schedules = []\n",
    "    for i in range(len(Current_Schedules)):\n",
    "        Permutation_of_Each = Get_Permutation_Ver2(Current_Schedules[i], index= i)\n",
    "        Permutation_of_Each = np.array(Permutation_of_Each, dtype=int)\n",
    "\n",
    "        # print(f'Permutation of Each:\\n{Permutation_of_Each}')\n",
    "        # Search for local best position\n",
    "        min = np.inf\n",
    "        min_Schedule = Permutation_of_Each[0]\n",
    "        for j in range(len(Permutation_of_Each)):\n",
    "            if Permutation_of_Each[j][-1] < min:\n",
    "                index_x = Permutation_of_Each[j][1]\n",
    "                index_y = Permutation_of_Each[j][2]\n",
    "                if (boolean_tables[i][index_x][index_y]==0):\n",
    "                    min = Permutation_of_Each[j][-1]\n",
    "                    min_Schedule = Permutation_of_Each[j]\n",
    "        Local_Best_Schedules.append(min_Schedule)\n",
    "        boolean_tables[i][min_Schedule[1]][min_Schedule[2]]=1\n",
    "        boolean_tables[i][min_Schedule[2]][min_Schedule[1]]=1\n",
    "        #print(f'boolean_tables:\\n{boolean_tables}')\n",
    "        if i == 0:\n",
    "            overall_schedules = Permutation_of_Each\n",
    "        else:\n",
    "            overall_schedules = np.vstack((overall_schedules, Permutation_of_Each))\n",
    "    return overall_schedules, Local_Best_Schedules\n",
    "\n",
    "# Find the index of Local Best Schedules in all schedules sorted by travel distances.\n",
    "def Find_the_index_of_Local_Best_Schedules(Local_Best_Schedules, overall_schedules):\n",
    "    Local_Best_Positions = []\n",
    "    for i in range(len(Local_Best_Schedules)):\n",
    "        for j in range(len(overall_schedules)):\n",
    "            comparison = Local_Best_Schedules[i] == overall_schedules[j]\n",
    "            equal_arrays = comparison.all()\n",
    "            if equal_arrays:\n",
    "                Local_Best_Positions.append(j)\n",
    "\n",
    "    print(f'Local Best Positions:{Local_Best_Positions}')\n",
    "    return Local_Best_Positions\n",
    "\n",
    "def Sort_Overall_Schedules(overall_schedules):\n",
    "    return overall_schedules[np.argsort(np.negative(overall_schedules[:, -1]))]\n",
    "\n",
    "def Get_New_Schedules(New_Positions, overall_schedules):\n",
    "    New_Schedules = []\n",
    "    for i in range(len(New_Positions)):\n",
    "        New_Schedules.append(overall_schedules[New_Positions[i]][3:3+len(Target_Data)])\n",
    "    return New_Schedules"
   ]
  },
  {
   "cell_type": "markdown",
   "source": [
    "##### 3(f) Particle Swarm Optimization - setup"
   ],
   "metadata": {
    "collapsed": false
   }
  },
  {
   "cell_type": "code",
   "execution_count": 20,
   "metadata": {
    "pycharm": {
     "name": "#%%\n"
    }
   },
   "outputs": [
    {
     "name": "stdout",
     "output_type": "stream",
     "text": [
      "Global Best Schedule: \n",
      "[22  5 34  9  3  8  4  1 15 27 33  2 30 35 31 23 21 13 19 10  0 16 17 26\n",
      "  7 29 28 20 24 14 25 18  6 32 12 11]\n"
     ]
    }
   ],
   "source": [
    "PARTICLES = 4\n",
    "initial_schedule = baseline_schedule\n",
    "overall_schedules = []\n",
    "\n",
    "# build several boolean tables for each particle to conduct Tabular Search.\n",
    "size = len(Target_Data[0])\n",
    "boolean_tables = []\n",
    "for i in range(PARTICLES):\n",
    "    x = np.zeros((size, size), dtype=bool)\n",
    "    boolean_tables.append(x)\n",
    "\n",
    "Current_Schedules = Schedules_Initialization(PARTICLES)\n",
    "Current_Velocities = Initialize_Velocities(PARTICLES)\n",
    "\n",
    "# Initialize Local Best Position\n",
    "Local_Best_Schedule = Current_Schedules\n",
    "# print(f'Local Best Schedule: \\n{Local_Best_Schedule}')\n",
    "\n",
    "# Initialize Global Best Position\n",
    "Global_Best_Schedule = Current_Schedules[0]\n",
    "print(f'Global Best Schedule: \\n{Global_Best_Schedule}')\n",
    "### Arbitrarily set a position as Global Best Position from Current_Schedules\n",
    "\n",
    "Global_Best_Position = 0"
   ]
  },
  {
   "cell_type": "markdown",
   "source": [
    "##### 3(f) Particle Swarm Optimization - main"
   ],
   "metadata": {
    "collapsed": false
   }
  },
  {
   "cell_type": "code",
   "execution_count": 21,
   "metadata": {
    "pycharm": {
     "name": "#%%\n"
    }
   },
   "outputs": [
    {
     "name": "stdout",
     "output_type": "stream",
     "text": [
      "\n",
      "====== ITERS:0 ======\n",
      "Local Best Positions:[2428, 2493, 2518, 2519]\n",
      "Global_Best_Schedule:[22  5 34  9  3  8  4  7 15 27 33  2 30 35 31 23 21 13 19 10  0 16 17 26\n",
      "  1 29 28 20 24 14 25 18  6 32 12 11]\n",
      "Global_Best_Schedule:[23  4 21 14 24 26 29 33  9 25  1  2  8 32 22 18 11  0 20 10 19 16 17 27\n",
      " 31 34  7 28  3  5  6 35 12 15 30 13]\n",
      "Global_Best_Schedule:[24  9 16 31  6  0 18  4 20 17 23 29 19  1 35 14 21 30 28  8 33 27  2 12\n",
      " 10 25 13  3 15  5 32 11 34  7 22 26]\n",
      "Global_Best_Schedule:[35 18  8 32  2 17 20 34 28 19 27  0  6 11 30  7  5 12 13 29 26 16  3 33\n",
      " 25 24 15 31  1 22 10 23  4 14 21  9]\n",
      "New Positions: [2471, 2505, 2518, 2519]\n",
      "Travel Distances of each particles:[86.34, 86.34, 86.34, 86.34]\n",
      "\n",
      "====== ITERS:1 ======\n",
      "Local Best Positions:[2504, 2516, 2514, 2519]\n",
      "Global_Best_Schedule:[24  9 16 31  6  0  5  4 20 17 23 29 19  1 35 14 21 30 28  8 33 27  2 12\n",
      " 10 25 13  3 15 18 32 11 34  7 22 26]\n",
      "Global_Best_Schedule:[24  9 16 31  6  0  7  4 20 17 23 29 19  1 35 14 21 30 28  8 33 27  2 12\n",
      " 10 25 13  3 15  5 32 11 34 18 22 26]\n",
      "Global_Best_Schedule:[24  9 18 31  6  0 16  4 20 17 23 29 19  1 35 14 21 30 28  8 33 27  2 12\n",
      " 10 25 13  3 15  5 32 11 34  7 22 26]\n",
      "Global_Best_Schedule:[35 18  8 32  2 17 20 34 28 19 27  0  6 11 30  7  5 12 13 29 26 16  3 33\n",
      " 25 24 23 31  1 22 10 15  4 14 21  9]\n",
      "New Positions: [2511, 2517, 2516, 2519]\n",
      "Travel Distances of each particles:[72.49000000000001, 72.49000000000001, 72.49000000000001, 72.49000000000001]\n",
      "\n",
      "====== ITERS:2 ======\n",
      "Local Best Positions:[2514, 2519, 2516, 2509]\n",
      "Global_Best_Schedule:[24  9 16 12  6  0  7  4 20 17 23 29 19  1 35 14 21 30 28  8 33 27  2 31\n",
      " 10 25 13  3 15  5 32 11 34 18 22 26]\n",
      "Global_Best_Schedule:[35 18 29 32  2 17 20 34 28 19 27  0  6 11 30  7  5 12 13  8 15 16  3 33\n",
      " 25 24 26 31  1 22 10 23  4 14 21  9]\n",
      "New Positions: [2514, 2519, 2516, 2510]\n",
      "Travel Distances of each particles:[62.99, 62.99, 62.99, 62.99]\n",
      "\n",
      "====== ITERS:3 ======\n",
      "Local Best Positions:[2497, 2516, 2501, 2517]\n",
      "Global_Best_Schedule:[24 25 16 12  6  0  7  4 20 17 23 29 19  1 35 14 21 30 28  8 33 27  2 31\n",
      " 10  9 13  3 15  5 32 11 34 18 22 26]\n",
      "Global_Best_Schedule:[35 18 29 32  2 17 30 34 28 19 27  0  6 11 20  7  5 12 13  8 15 16  3 33\n",
      " 25 24 26 31  1 22 10 23  4 14 21  9]\n",
      "Global_Best_Schedule:[35 18 29 32  2 17 20 34 28 19 27  0  6 11 30  7  5 12 13  8 15 16  3 33\n",
      " 25 24 26 31  1 22 21 23  4 14 10  9]\n",
      "New Positions: [2503, 2516, 2506, 2517]\n",
      "Travel Distances of each particles:[58.710000000000015, 58.710000000000015, 58.710000000000015, 58.710000000000015]\n",
      "\n",
      "====== ITERS:4 ======\n",
      "Local Best Positions:[2512, 2518, 2504, 2517]\n",
      "Global_Best_Schedule:[35 18 29 32  2 17 21 34 28 19 27  0  6 11 30  7  5 12 13  8 15 16  3 33\n",
      " 10 24 26 31  1 22 25 23  4 14 20  9]\n",
      "Global_Best_Schedule:[11 18 29 32  2 17 30 34 28 19 27  0  6 35 20  7  5 12 13  8 15 16  3 33\n",
      " 25 24 26 31  1 22 10 23  4 14 21  9]\n",
      "Global_Best_Schedule:[35 18 29 32  2 17 30 34 28 19 27  0  6 11 20  7  5 12 13  8 15 16  3 33\n",
      " 25 24 26 31  1 22 21 23  4 14 10  9]\n",
      "New Positions: [2516, 2517, 2513, 2517]\n",
      "Travel Distances of each particles:[51.82000000000001, 51.82000000000001, 51.82000000000001, 51.82000000000001]\n",
      "\n",
      "====== ITERS:5 ======\n",
      "Local Best Positions:[2517, 2512, 2515, 2516]\n",
      "Global_Best_Schedule:[11 18 29 32  2 17 20 34 28 19 27  0  6 35  4  7  5 12 13  8 15 16  3 33\n",
      " 25 24 26 31  1 22 21 23 30 14 10  9]\n",
      "Global_Best_Schedule:[11 18 29 32  2 17 30 34 28 19 27  0  6 35 20  7  5 12 13  8 15 16  3 33\n",
      " 25 24 26 31  1 22 21 23  4 14 10  9]\n",
      "New Positions: [2517, 2513, 2515, 2516]\n",
      "Travel Distances of each particles:[46.480000000000004, 46.480000000000004, 46.480000000000004, 46.480000000000004]\n",
      "\n",
      "====== ITERS:6 ======\n",
      "Local Best Positions:[2518, 2498, 2510, 2519]\n",
      "Global_Best_Schedule:[11 18 29 32  2 17 19 34 28 20 27  0  6 35  4  7  5 12 13  8 15 16  3 33\n",
      " 25 24 26 31  1 22 21 23 30 14 10  9]\n",
      "Global_Best_Schedule:[11 18 29 32  2 17 30 34 28 19 27  0  6 35 20  7  5 12 13  8 15 16  3 33\n",
      " 25 24 26 22  1 31 21 23  4 14 10  9]\n",
      "New Positions: [2518, 2505, 2513, 2519]\n",
      "Travel Distances of each particles:[43.43000000000001, 43.43000000000001, 43.43000000000001, 43.43000000000001]\n",
      "\n",
      "====== ITERS:7 ======\n",
      "Local Best Positions:[2519, 2518, 2455, 2505]\n",
      "Global_Best_Schedule:[11 18 29 32  2 17 19 34 28 20 27  0  6 35  4  7  5 12 13  8 15 16  3 33\n",
      " 25 24 26 22  1 31 21 23 30 14 10  9]\n",
      "Global_Best_Schedule:[11 18 29 32  2 17 27 34 28 14 20  0  6 35  4  7  5 12 13  8 15 16  3 33\n",
      " 25 24 26 31  1 22 21 23 30 19 10  9]\n",
      "New Positions: [2518, 2518, 2488, 2512]\n",
      "Travel Distances of each particles:[40.33, 40.33, 40.33, 40.33]\n",
      "\n",
      "====== ITERS:8 ======\n",
      "Local Best Positions:[2516, 2519, 2406, 2498]\n",
      "Global_Best_Schedule:[11 18 29 32  2 17 34 27 28 14 20  0  6 35  4  7  5 12 13  8 15 16  3 33\n",
      " 25 24 26 31  1 22 21 23 30 19 10  9]\n",
      "Global_Best_Schedule:[11 18 29 32  2 17 27 34 28 14 20  0  6 35  4  7  5 12 13  8 15 16  3 33\n",
      " 25 24 26 22  1 31 21 23 30 19 10  9]\n",
      "New Positions: [2518, 2519, 2491, 2514]\n",
      "Travel Distances of each particles:[37.73, 37.73, 37.73, 37.73]\n",
      "\n",
      "====== ITERS:9 ======\n",
      "Local Best Positions:[2519, 2518, 2492, 2499]\n",
      "Global_Best_Schedule:[11 18 29 32  2 17 27 34 28  8 20  0  6 35  4  7  5 12 13 14 15 16  3 33\n",
      " 25 24 26 22  1 31 21 23 30 19 10  9]\n",
      "Global_Best_Schedule:[11 18 29 32  2 17 27 34 28  8 20  0  6 35  4  7  5 12 13 14 15 16  3 33\n",
      " 25 24 26 22  1 31 21 23 30 19 10  9]\n",
      "New Positions: [2519, 2518, 2499, 2504]\n",
      "Travel Distances of each particles:[35.61599999999999, 35.61599999999999, 35.61599999999999, 35.61599999999999]\n",
      "\n",
      "====== ITERS:10 ======\n",
      "Local Best Positions:[2512, 2515, 2444, 2504]\n",
      "Global_Best_Schedule:[11 18 29  1  2 17 27 34 28  8 20  0  6 35  4  7  5 12 13 14 15 16  3 33\n",
      " 25 24 26 22 32 31 21 23 30 19 10  9]\n",
      "Global_Best_Schedule:[11 18 29  1  2 17 27 34 28  8 20  0  6 35  4  7  5 12 13 14 15 16  3 33\n",
      " 25 24 26 22 32 31 21 23 30 19 10  9]\n",
      "Global_Best_Schedule:[11 18 29 32  2  1 27 34 28  8 20  0  6 35  4  7  5 12 13 14 15 16  3 33\n",
      " 25 24 26 22 17 31 21 23 30 19 10  9]\n",
      "New Positions: [2509, 2511, 2464, 2504]\n",
      "Travel Distances of each particles:[34.245999999999995, 34.245999999999995, 34.245999999999995, 34.245999999999995]\n",
      "\n",
      "====== ITERS:11 ======\n",
      "Local Best Positions:[2494, 2495, 2513, 2506]\n",
      "Global_Best_Schedule:[11 30 29 32  2 17 34 27 28  8 20  0  6 35  4  7  5 12 13 14 15 16  3 33\n",
      " 25 24 26 22  1 31 21 23 18 19 10  9]\n",
      "Global_Best_Schedule:[11 18 29 30  2  1 27 34 28  8 20  0  6 35  4  7  5 12 13 14 15 16  3 33\n",
      " 25 24 26 22 17 31 21 23 32 19 10  9]\n",
      "Global_Best_Schedule:[11 18 29 32  2  1 27 34 28  8 20  0  6 35  4  3  5 12 13 14 15 16  7 33\n",
      " 25 24 26 22 17 31 21 23 30 19 10  9]\n",
      "Global_Best_Schedule:[11 18 29 30  2  1 27 34 28  8 20  0  6 35  4  7  5 12 13 14 15 16  3 33\n",
      " 25 24 26 22 17 31 21 23 32 19 10  9]\n",
      "New Positions: [2505, 2505, 2507, 2506]\n",
      "Travel Distances of each particles:[33.97599999999999, 33.97599999999999, 33.97599999999999, 33.97599999999999]\n",
      "\n",
      "====== ITERS:12 ======\n",
      "Local Best Positions:[2508, 2518, 2519, 2516]\n",
      "Global_Best_Schedule:[11 18 29 30  2  1 34 27 28  8 20  0  6 35  4  7  5 12 13 14 15 16  3 33\n",
      " 25 24 26 22 17 31 21 23 32 19 10  9]\n",
      "Global_Best_Schedule:[11 18 29 32  2  1 34 27 28  8 20  0  6 35  4  3  5 12 13 14 15 16  7 33\n",
      " 25 24 26 22 17 31 21 23 30 19 10  9]\n",
      "Global_Best_Schedule:[11 18 29 30  2 17 34 27 28  8 20  0  6 35  4  7  5 12 13 14 15 16  3 33\n",
      " 26 24 25 22  1 31 21 23 32 19 10  9]\n",
      "Global_Best_Schedule:[11 18 29 30  2  1 34 27 28  8 20  0  6 35  4  7  5 12 13 14 15 16  3 33\n",
      " 25 24 26 22 17 31 21 23 32 19 10  9]\n",
      "New Positions: [2514, 2517, 2517, 2516]\n",
      "Travel Distances of each particles:[32.946, 32.946, 32.946, 32.946]\n",
      "\n",
      "====== ITERS:13 ======\n",
      "Local Best Positions:[2519, 2431, 2514, 2517]\n",
      "Global_Best_Schedule:[11 18 29 32  2 17 34 27 28  8 20  0  6 35  4  3  5 12 13 14 15 16  7 33\n",
      " 26 24 25 22 23 31 21  1 30 19 10  9]\n",
      "Global_Best_Schedule:[11 18 29  1  2 17 34 27 28  8 20  0  6 35  4  3  5 12 13 14 15 16  7 33\n",
      " 26 24 25 22 32 31 21 23 30 19 10  9]\n",
      "Global_Best_Schedule:[11 18 29 30  2  1 34 27 28  8 20  0  6 35 33  7  5 12 13 14 15 16  3  4\n",
      " 25 24 26 22 17 31 21 23 32 19 10  9]\n",
      "New Positions: [2519, 2440, 2514, 2517]\n",
      "Travel Distances of each particles:[31.896, 31.896, 31.896, 31.896]\n",
      "\n",
      "====== ITERS:14 ======\n",
      "Local Best Positions:[2519, 2497, 2455, 2518]\n",
      "Global_Best_Schedule:[11 18 29 32  2 17 34 27 28  8 20  0  6 35  4  3  5 12 13 14 15 16  7 33\n",
      " 26 24 25 22 23 21 31  1 30 19 10  9]\n",
      "New Positions: [2519, 2510, 2492, 2519]\n",
      "Travel Distances of each particles:[30.496, 30.496, 30.496, 30.496]\n",
      "\n",
      "====== ITERS:15 ======\n",
      "Local Best Positions:[2519, 2492, 2498, 2499]\n",
      "Global_Best_Schedule:[11 18 29 32  2 17 34 27 28  6 20  0  8 35  4  3  5 12 13 14 15 16  7 33\n",
      " 26 24 25 22 23 21 31  1 30 19 10  9]\n",
      "New Positions: [2519, 2505, 2508, 2508]\n",
      "Travel Distances of each particles:[29.986, 29.986, 29.986, 29.986]\n",
      "\n",
      "====== ITERS:16 ======\n",
      "Local Best Positions:[2486, 2503, 2483, 2508]\n",
      "Global_Best_Schedule:[19 18 29 32  2 17 34 27 28  6 20  0  8 35  4  3  5 12 13 14 15 16  7 33\n",
      " 26 24 25 22 23 21 31  1 30 11 10  9]\n",
      "Global_Best_Schedule:[11 19  1 32  2 17 34 27 28  8 20  0  6 35  4  3  5 12 13 14 15 16  7 33\n",
      " 26 24 25 22 23 21 31 29 30 18 10  9]\n",
      "Global_Best_Schedule:[11 18 17  1  2 29 34 27 28  8 20  0  6 35  4  3  5 12 13 14 15 16  7 33\n",
      " 26 24 25 22 23 21 31 32 30 19 10  9]\n",
      "Global_Best_Schedule:[11 18 17  1  2 29 34 27 28  8 20  0  6 35  4  3  5 12 13 14 15 16  7 33\n",
      " 26 24 25 22 23 21 31 32 30 19 10  9]\n",
      "New Positions: [2486, 2503, 2484, 2508]\n",
      "Travel Distances of each particles:[29.976000000000003, 29.976000000000003, 29.976000000000003, 29.976000000000003]\n",
      "\n",
      "====== ITERS:17 ======\n",
      "Local Best Positions:[2461, 2458, 2477, 2500]\n",
      "Global_Best_Schedule:[10 18 29 32  2 17 34 27 28  6 20  0  8 35  4  3  5 12 13 14 15 16  7 33\n",
      " 26 24 25 22 23 21 31  1 30 11 19  9]\n",
      "Global_Best_Schedule:[19 11  1 32  2 17 34 27 28  8 20  0  6 35  4  3  5 12 13 14 15 16  7 33\n",
      " 26 24 25 22 23 21 31 29 30 18 10  9]\n",
      "Global_Best_Schedule:[10 18 17 32  2 29 34 27 28  8  6  0 20 35  4  3  5 12 13 14 15 16  7 33\n",
      " 26 24 25 22 23 21 31  1 30 19 11  9]\n",
      "Global_Best_Schedule:[10 18 17  1  2 29 34 27 28  8 20  0  6 35  4  3  5 12 13 14 15 16  7 33\n",
      " 26 24 25 22 23 21 31 32 30 19 11  9]\n",
      "New Positions: [2484, 2483, 2490, 2500]\n",
      "Travel Distances of each particles:[29.415999999999997, 29.415999999999997, 29.415999999999997, 29.415999999999997]\n",
      "\n",
      "====== ITERS:18 ======\n",
      "Local Best Positions:[2374, 2378, 2516, 2450]\n",
      "Global_Best_Schedule:[18 11 17  1  2 30 34 27 28  8 20  0  6 35  4  3  5 12 13 14 15 16  7 33\n",
      " 26 24 25 22 23 21 31 32 29 19 10  9]\n",
      "Global_Best_Schedule:[11 32 17  1  2 18 34 27 28  8 20  0  6 35  4  3  5 12 13 14 15 16  7 33\n",
      " 26 24 25 22 23 21 31 29 30 19 10  9]\n",
      "Global_Best_Schedule:[11 18 17  1  2 29 34 27 28  6  8  0 20 35  4  3  5 12 13 14 15 16  7 33\n",
      " 26 24 25 22 23 21 31 32 30 19 10  9]\n",
      "New Positions: [2416, 2419, 2516, 2470]\n",
      "Travel Distances of each particles:[29.465999999999998, 29.465999999999998, 29.465999999999998, 29.465999999999998]\n",
      "\n",
      "====== ITERS:19 ======\n",
      "Local Best Positions:[2410, 2372, 2495, 2498]\n",
      "Global_Best_Schedule:[11 19 17  1  2 29 34 27 28  6  8  0 20 35  4  3  5 12 13 14 15 16  7 33\n",
      " 26 24 25 22 23 21 31 32 30 18 10  9]\n",
      "Global_Best_Schedule:[10 18 17  1  2 29 34 27 28  8 20  6 12 35  4  3  5  0 13 14 15 16  7 33\n",
      " 26 24 25 22 23 21 31 32 30 19 11  9]\n",
      "New Positions: [2450, 2429, 2496, 2498]\n",
      "Travel Distances of each particles:[29.905999999999995, 29.905999999999995, 29.905999999999995, 29.905999999999995]\n"
     ]
    }
   ],
   "source": [
    "best_result = Get_Schedule_Length(initial_schedule)\n",
    "PSO = [best_result]\n",
    "PSO_overall_best = best_result #np.inf\n",
    "\n",
    "for i in range(ITERATIONS):\n",
    "    print(f'\\n====== ITERS:{i} ======')\n",
    "    # print(f'Current Schedules: \\n{Current_Schedules}')\n",
    "    overall_schedules, Local_Best_Schedules \\\n",
    "        = Get_Overall_Schdules_and_Local_Best_Schedules(Current_Schedules,\n",
    "                                                        boolean_tables)\n",
    "    # print(f'shape of overall schedules: {np.array(overall_schedules).shape}')\n",
    "\n",
    "    # sort all schedules by travel distances.\n",
    "    overall_schedules = Sort_Overall_Schedules(overall_schedules)\n",
    "    # print(f'overall schedules after descend sorting:\\n{overall_schedules}')\n",
    "\n",
    "    # print(f'Local Best Schedules:\\n{Local_Best_Schedules}')\n",
    "    Local_Best_Positions = Find_the_index_of_Local_Best_Schedules(Local_Best_Schedules,\n",
    "                                                                  overall_schedules)\n",
    "    Global_Best_Schedule, Global_Best_Position \\\n",
    "        = Get_Global_Best_Schedule(Local_Best_Schedules,\n",
    "                                      Local_Best_Positions,\n",
    "                                      Global_Best_Schedule,\n",
    "                                   Global_Best_Position)\n",
    "    #print(f'Global Best Schedule & Position:\\n{Global_Best_Schedule, Global_Best_Position}')\n",
    "\n",
    "    New_Velocities = Get_Velocities_of_Particles(PARTICLES,\n",
    "                                                 Local_Best_Positions,\n",
    "                                                 Global_Best_Position,\n",
    "                                                 Current_Velocities)\n",
    "    #print(f'New Velocities: {New_Velocities}')\n",
    "    def Get_New_Positions(Local_Best_Positions, New_Velocities, overall_schedules):\n",
    "        New_Positions = Local_Best_Positions\n",
    "        for i in range(len(Local_Best_Positions)):\n",
    "            if Local_Best_Positions[i]+New_Velocities[i] > len(overall_schedules):\n",
    "                New_Positions[i] = len(overall_schedules)\n",
    "            else:\n",
    "                New_Positions[i] = Local_Best_Positions[i] + New_Velocities[i]\n",
    "        return New_Positions\n",
    "    New_Positions = Get_New_Positions(Local_Best_Positions, New_Velocities, overall_schedules)\n",
    "    print(f'New Positions: {New_Positions}')\n",
    "    New_Schedules = Get_New_Schedules(New_Positions, overall_schedules)\n",
    "    # print(f'New Schedules: \\n{New_Schedules}')\n",
    "    test = []\n",
    "    for i in range(PARTICLES):\n",
    "        test.append(Get_Schedule_Length(New_Schedules[0]))\n",
    "    print(f'Travel Distances of each particles:{test}')\n",
    "\n",
    "    if np.min(test) < PSO_overall_best:\n",
    "        PSO.append(np.min(test))\n",
    "        PSO_overall_best = np.min(test)\n",
    "    else:\n",
    "        PSO.append(PSO_overall_best)\n",
    "\n",
    "    Current_Schedules = New_Schedules\n",
    "\n",
    "# Select the schedule of first particle as best schedule of PSO.\n",
    "PSO_best_schedule = Current_Schedules[0]\n"
   ]
  },
  {
   "cell_type": "markdown",
   "metadata": {},
   "source": [
    "##### 3(g) Ant Colony Optimization - methods"
   ]
  },
  {
   "cell_type": "code",
   "execution_count": 22,
   "metadata": {
    "pycharm": {
     "name": "#%%\n"
    }
   },
   "outputs": [],
   "source": [
    "# Generate permutation from a single schedule.\n",
    "def Get_Permutation_Ver3(current_schedule):\n",
    "    permutation = []\n",
    "    for i in range(len(current_schedule)):\n",
    "        for j in range(i+1, len(current_schedule)):\n",
    "            neighbor = current_schedule.copy()\n",
    "            neighbor[i] = current_schedule[j]\n",
    "            neighbor[j] = current_schedule[i]\n",
    "\n",
    "            # to convenient the work, I set the data structure of permutation matrix as follow\n",
    "            # i, j will memorized which cities were swapped in the current route.\n",
    "            # example:\n",
    "            #   0   1   2      3    ...   15       16      17      18\n",
    "            #   i   j   City1  City2      City14   City15  City1   0 (the place to fill in total travel distance)\n",
    "            #   .   .   .      .    ...   .        .       .       .\n",
    "            #   .   .   .      .    ...   .        .       .       .\n",
    "            #   .   .   .      .    ...   .        .       .       .\n",
    "\n",
    "            loc = [i, j]    # correspond to boolean table\n",
    "            loc.extend(neighbor)    # schedule after randomly swapping two cities\n",
    "            loc.extend([Get_Schedule_Length(neighbor)])   # a place to memorized the city we start and another for total distance\n",
    "            permutation.append(loc)\n",
    "    permutation = np.array(permutation, dtype=int)\n",
    "    return permutation\n",
    "\n",
    "def Roulette_Wheel_Selection(schedules_list, pheromone, amount_of_selected_schedule):\n",
    "\n",
    "    A = []\n",
    "    max = -np.inf\n",
    "    for i in range(len(pheromone)):\n",
    "        x = pheromone[i]\n",
    "        A.append(x)\n",
    "        if x > max:\n",
    "            max = x\n",
    "    #print(f'A:{A}')\n",
    "    #print(f'max:{max}')\n",
    "\n",
    "    sum = 0\n",
    "    for j in range(len(pheromone)):\n",
    "        #sum = sum + np.max([1,max-A[j]])\n",
    "        sum += A[j]\n",
    "        A[j] = sum\n",
    "    #print(A)\n",
    "\n",
    "    index = []\n",
    "    Matepool = []\n",
    "    for k in range(amount_of_selected_schedule):\n",
    "        a = np.random.randint(sum)\n",
    "        #print(f'a:{a}')\n",
    "        i=0\n",
    "        while(a>A[i]):\n",
    "            i += 1\n",
    "        index.append(i)\n",
    "        Matepool.append(list(schedules_list[i]))\n",
    "    #print(f'Matepool:\\n{Matepool}')\n",
    "    #print(f'shape of Matepool: {np.array(Matepool).shape}')\n",
    "\n",
    "    return index, np.array(Matepool)\n",
    "\n",
    "# return the index of the shortest schedule from the several schedules input.\n",
    "def min_index(list):\n",
    "    index = []\n",
    "    min = np.min(list)\n",
    "    for i in range(len(list)):\n",
    "        if list[i] == min:\n",
    "            index.append(i)\n",
    "    return index, min\n",
    "\n",
    "# handle the change of pheromone in each iterations.\n",
    "def update_pheromone(pheromone_array, index_of_minimum, index, delta_tau, pdf):\n",
    "    # pdf means pheromone decay factor\n",
    "    pheromone_array *= pdf\n",
    "\n",
    "    for i in range(len(index_of_minimum)):\n",
    "        pheromone_array[index[index_of_minimum[i]]] += delta_tau\n",
    "\n",
    "    return pheromone_array"
   ]
  },
  {
   "cell_type": "markdown",
   "source": [
    "##### 3(g) Ant Colony Optimization - setup"
   ],
   "metadata": {
    "collapsed": false
   }
  },
  {
   "cell_type": "code",
   "execution_count": 99,
   "metadata": {
    "pycharm": {
     "name": "#%%\n"
    }
   },
   "outputs": [],
   "source": [
    "initial_schedule = baseline_schedule\n",
    "current_schedule = initial_schedule\n",
    "best_schedule = current_schedule\n",
    "best_result = Get_Schedule_Length(best_schedule)\n",
    "\n",
    "ACO= []\n",
    "ACO_overall_best = best_result\n",
    "ACO.append(best_result)\n",
    "ACO_boolean_table = np.zeros((len(Target_Data), len(Target_Data)), dtype=bool)"
   ]
  },
  {
   "cell_type": "markdown",
   "source": [
    "##### 3(g) Ant Colony Optimization - main"
   ],
   "metadata": {
    "collapsed": false
   }
  },
  {
   "cell_type": "code",
   "execution_count": 100,
   "metadata": {
    "pycharm": {
     "name": "#%%\n"
    }
   },
   "outputs": [],
   "source": [
    "inner_loop_iters = 10\n",
    "pheromone = []\n",
    "for j in range(ITERATIONS):   #int(ITERATIONS/inner_loop_iters)\n",
    "    #print(f'======    ITERS:{j}    ======')\n",
    "    #print(f'current_schedule: {current_schedule}')\n",
    "\n",
    "    # Get permutation from current schedule\n",
    "    permutation = Get_Permutation_Ver3(current_schedule)\n",
    "    #print(f'permutation:\\n {permutation}')\n",
    "    #print(f'pheromone: {pheromone}')\n",
    "    # check whether the pheromone list is empty, which means it has not been initialized.\n",
    "    if not len(pheromone):\n",
    "        # if the list is empty, then assign the pheromone of each schedule with default values \"1\".\n",
    "        pheromone = np.ones(len(permutation))\n",
    "        #print(f'Pheromone Initialization: {pheromone}')\n",
    "\n",
    "    for i in range(inner_loop_iters):\n",
    "        index, candidate_schedules = Roulette_Wheel_Selection(permutation, pheromone, PARTICLES)\n",
    "        #print(f'index: {index}\\n Schedules selected by Roulette Wheel Selection:\\n{candidate_schedules}')\n",
    "        distance_of_selected_schedules = candidate_schedules[:,-1]\n",
    "        index_of_minimum, min_value = min_index(distance_of_selected_schedules)\n",
    "        min = np.min(candidate_schedules[:, -1])\n",
    "\n",
    "        # Compute the new pheromone array\n",
    "        xi = 2\n",
    "        delta_tau = xi * len(index_of_minimum) * min_value / min\n",
    "        #print(f'delta_tau: {delta_tau}')\n",
    "\n",
    "        new_pheromone = update_pheromone(pheromone, index_of_minimum, index, delta_tau, pdf=0.5)\n",
    "        #print(f'new_pheromone: {new_pheromone}')\n",
    "        pheromone = new_pheromone\n",
    "\n",
    "    new_schedule = permutation[np.argmax(pheromone)]\n",
    "    #print(f'new_schedule:{new_schedule}')\n",
    "\n",
    "    avoid_repetition = copy.deepcopy(pheromone)\n",
    "\n",
    "    count = 0\n",
    "    while(ACO_boolean_table[new_schedule[0]][new_schedule[1]]==1):\n",
    "        avoid_repetition[np.argmax(avoid_repetition)] = -np.inf\n",
    "        # print(f'avoid_repetition: {avoid_repetition}')\n",
    "        new_schedule = permutation[np.argmax(avoid_repetition)]\n",
    "        # print(f'The selected new_schedule is repeated, new new_schedule is: {new_schedule}')\n",
    "        count += 1\n",
    "        if count > 20: break\n",
    "\n",
    "    ACO_boolean_table[new_schedule[0]][new_schedule[1]] = 1\n",
    "    ACO_boolean_table[new_schedule[1]][new_schedule[0]] = 1\n",
    "\n",
    "    current_schedule=new_schedule[2:2+len(Target_Data)]\n",
    "    if(new_schedule[-1]<ACO_overall_best):\n",
    "        ACO.append(new_schedule[-1])\n",
    "        ACO_overall_best = new_schedule[-1]\n",
    "        ACO_best_schedule = current_schedule\n",
    "    else:\n",
    "        ACO.append(ACO_overall_best)"
   ]
  },
  {
   "cell_type": "markdown",
   "metadata": {
    "pycharm": {
     "name": "#%% md\n"
    }
   },
   "source": [
    "---\n",
    "### 6. Find New Method by Yourself\n",
    "\n",
    "##### 6-(b) Migrating Birds Optimization, MBO\n",
    "* reference: https://link.springer.com/chapter/10.1007/978-3-642-20525-5_26"
   ]
  },
  {
   "cell_type": "code",
   "execution_count": 25,
   "outputs": [],
   "source": [
    "def leading_bird_initialization(schedule, neighborhood_size):\n",
    "    neighbor_solutions = []\n",
    "    score_of_neighbor_solutions = []\n",
    "    for i in range(neighborhood_size):\n",
    "        rp = np.random.permutation(schedule)\n",
    "        neighbor_solutions.append(rp)\n",
    "        score_of_neighbor_solutions.append(Get_Schedule_Length(rp))\n",
    "    return np.array(neighbor_solutions), np.array(score_of_neighbor_solutions)\n",
    "\n",
    "def append_random_schedules(initial_schedule, given_schedules, given_scores, k):\n",
    "    for q in range(k-len(given_schedules)):\n",
    "        rp = np.random.permutation(initial_schedule)\n",
    "        given_schedules.append(rp)\n",
    "        given_scores.append(Get_Schedule_Length(rp))\n",
    "\n",
    "    return np.array(given_schedules), np.array(given_scores)"
   ],
   "metadata": {
    "collapsed": false,
    "pycharm": {
     "name": "#%%\n"
    }
   }
  },
  {
   "cell_type": "markdown",
   "source": [
    "##### 6-(b) Migrating Birds Optimization, MBO - setup"
   ],
   "metadata": {
    "collapsed": false
   }
  },
  {
   "cell_type": "code",
   "execution_count": 26,
   "outputs": [],
   "source": [
    "# the number of initial solutions\n",
    "n = 51 # 2*positive_integer + 1, 51\n",
    "# the number of neighbor solutions to be considered\n",
    "k = 5\n",
    "# the number of neighbor solutions to be shared with next solution\n",
    "x = 1\n",
    "# number of tours\n",
    "m = 10\n",
    "\n",
    "initial_schedule = baseline_schedule\n",
    "best_result = Get_Schedule_Length(initial_schedule)\n",
    "best_score_of_each_bird = np.full(n, best_result)\n",
    "best_schedule_of_each_bird = []\n",
    "for p in range(n):\n",
    "    best_schedule_of_each_bird.append(initial_schedule)"
   ],
   "metadata": {
    "collapsed": false,
    "pycharm": {
     "name": "#%%\n"
    }
   }
  },
  {
   "cell_type": "markdown",
   "source": [
    "##### 6-(b) Migrating Birds Optimization, MBO - main"
   ],
   "metadata": {
    "collapsed": false
   }
  },
  {
   "cell_type": "code",
   "execution_count": 27,
   "outputs": [],
   "source": [
    "MBO = []\n",
    "MBO.append(best_result)\n",
    "for iterations in range(20):\n",
    "    for tours in range(m):\n",
    "        for i in range(n):\n",
    "            schedules_not_selected = []\n",
    "            if i == 0:\n",
    "                score_list = []; leading_bird_schedules = []\n",
    "                if tours == 0:\n",
    "                    leading_bird_schedules, score_list = append_random_schedules(initial_schedule, leading_bird_schedules, score_list, k)\n",
    "                else:\n",
    "                    leading_bird_schedules.append(best_schedule_of_each_bird[0])\n",
    "                    score_list.append(best_score_of_each_bird[0])\n",
    "                    leading_bird_schedules, score_list = append_random_schedules(initial_schedule, leading_bird_schedules, score_list, k)\n",
    "\n",
    "                x = np.argmin(score_list)\n",
    "                if score_list[x] < best_score_of_each_bird[i]:\n",
    "                    best_schedule_of_each_bird[i] = leading_bird_schedules[x]\n",
    "                    best_score_of_each_bird[i] = score_list[x]\n",
    "\n",
    "                score_list = np.delete(score_list, x)\n",
    "                leading_bird_schedules = np.delete(leading_bird_schedules, x, axis=0)\n",
    "\n",
    "            elif i == 1:\n",
    "                schedules = []; scores = []\n",
    "                half = int(len(leading_bird_schedules)/2)\n",
    "                for j in range(half):\n",
    "                    schedules.append(leading_bird_schedules[j])\n",
    "                    scores.append(Get_Schedule_Length(leading_bird_schedules[j]))\n",
    "\n",
    "                schedules, scores = append_random_schedules(initial_schedule, schedules, scores, k)\n",
    "                odd_min_index = np.argmin(scores)\n",
    "\n",
    "                if scores[x] < best_score_of_each_bird[i]:\n",
    "                    best_schedule_of_each_bird[i] = schedules[odd_min_index]\n",
    "                    best_score_of_each_bird[i] = scores[odd_min_index]\n",
    "\n",
    "                odd_schedules = np.delete(schedules, odd_min_index, axis=0)\n",
    "\n",
    "            elif i == 2:\n",
    "\n",
    "                schedules = []; scores = []    # print(f'leading_bird_schedules: \\n{leading_bird_schedules}')\n",
    "                for j in range(half+1, k-1):\n",
    "                    schedules.append(leading_bird_schedules[j])\n",
    "                    scores.append(Get_Schedule_Length(leading_bird_schedules[j]))\n",
    "                schedules, scores = append_random_schedules(initial_schedule, schedules, scores, k)\n",
    "\n",
    "                even_min_index = np.argmin(scores)\n",
    "\n",
    "                if scores[x] < best_score_of_each_bird[i]:\n",
    "                    best_schedule_of_each_bird[i] = schedules[even_min_index]\n",
    "                    best_score_of_each_bird[i] = scores[even_min_index]\n",
    "\n",
    "                even_schedules = np.delete(schedules, even_min_index, axis=0)\n",
    "\n",
    "            elif (i > 2) & (i % 2==1 ):\n",
    "                schedules = []; scores = []\n",
    "                for j in range(len(odd_schedules)):\n",
    "                    schedules.append(odd_schedules[j])\n",
    "                    scores.append(Get_Schedule_Length(odd_schedules[j]))\n",
    "                schedules, scores = append_random_schedules(initial_schedule, schedules, scores, k)\n",
    "\n",
    "                odd_min_index = np.argmin(scores)\n",
    "                # print(odd_min_index)\n",
    "                if scores[x] < best_score_of_each_bird[i]:\n",
    "                    best_schedule_of_each_bird[i] = schedules[odd_min_index]\n",
    "                    best_score_of_each_bird[i] = scores[odd_min_index]\n",
    "\n",
    "                odd_schedules = np.delete(schedules, odd_min_index, axis=0)\n",
    "\n",
    "            elif (i > 2) & (i % 2 ==0):\n",
    "                schedules = []; scores = []\n",
    "                for j in range(len(even_schedules)):\n",
    "                    schedules.append(even_schedules[j])\n",
    "                    scores.append(Get_Schedule_Length(even_schedules[j]))\n",
    "                schedules, scores = append_random_schedules(initial_schedule, schedules, scores, k)\n",
    "\n",
    "                even_min_index = np.argmin(scores)\n",
    "                if scores[x] < best_score_of_each_bird[i]:\n",
    "                    best_schedule_of_each_bird[i] = schedules[even_min_index]\n",
    "                    best_score_of_each_bird[i] = scores[even_min_index]\n",
    "                even_schedules = np.delete(schedules, even_min_index, axis=0)\n",
    "            else:\n",
    "                pass\n",
    "        index_of_best_bird = np.argmin(best_score_of_each_bird)\n",
    "        temp_score = best_score_of_each_bird[index_of_best_bird]\n",
    "        temp_schedule = best_schedule_of_each_bird[index_of_best_bird]\n",
    "\n",
    "        for b in range(index_of_best_bird, 0, -1):\n",
    "            best_schedule_of_each_bird[b] = best_schedule_of_each_bird[b-1]\n",
    "            best_score_of_each_bird[b] = best_score_of_each_bird[b-1]\n",
    "\n",
    "        best_score_of_each_bird[0] = temp_score\n",
    "        best_schedule_of_each_bird[0] = temp_schedule\n",
    "\n",
    "        # print(f'best_score_of_each_bird after pulling the best to top of swarm: {best_score_of_each_bird}')\n",
    "        # print(f'best_schedule_of_each_bird after pulling the best to top of swarm: \\n{best_schedule_of_each_bird}')\n",
    "\n",
    "    MBO.append(best_score_of_each_bird[0])\n",
    "    MBO_best_schedule = best_schedule_of_each_bird[0]"
   ],
   "metadata": {
    "collapsed": false,
    "pycharm": {
     "name": "#%%\n"
    }
   }
  },
  {
   "cell_type": "markdown",
   "metadata": {
    "pycharm": {
     "name": "#%% md\n"
    }
   },
   "source": [
    "---\n",
    "#### FE plot"
   ]
  },
  {
   "cell_type": "code",
   "execution_count": 101,
   "metadata": {
    "pycharm": {
     "name": "#%%\n"
    }
   },
   "outputs": [
    {
     "data": {
      "text/plain": "<Figure size 576x432 with 1 Axes>",
      "image/png": "[encoded data removed]"
     },
     "metadata": {
      "needs_background": "light"
     },
     "output_type": "display_data"
    }
   ],
   "source": [
    "DECIMAL = 2\n",
    "import matplotlib.pyplot as plt\n",
    "plot1 = plt.figure(figsize=(8,6))\n",
    "plot1 = plt.stairs(RW, label=f'1.Random Walk: {np.round_(RW[-1],DECIMAL)}', baseline=None)\n",
    "plot1 = plt.stairs(HC, label=f'2.Hill Climbing: {np.round_(HC[-1],DECIMAL)}', baseline=None)\n",
    "plot1 = plt.stairs(GA, label=f'3.Genetic Algorithm: {np.round_(GA[-1],DECIMAL)}', baseline=None)\n",
    "plot1 = plt.stairs(SA, label=f'4.Simulated Annealing: {np.round_(SA[-1],DECIMAL)}', baseline=None)\n",
    "plot1 = plt.stairs(TS, label=f'5.Tabular Search: {np.round_(TS[-1],DECIMAL)}', baseline=None)\n",
    "plot1 = plt.stairs(PSO, label=f'6.Particle Swarm Optimization: {np.round_(PSO[-1],DECIMAL)}', baseline=None)\n",
    "plot1 = plt.stairs(ACO, label=f'7.Ant Colony Optimization: {np.round_(ACO[-1],DECIMAL)}', baseline=None)\n",
    "plot1 = plt.stairs(MBO, label=f'8.(Bonus) Migrating Birds Optimization: {np.round_(MBO[-1],DECIMAL)}', baseline=None)\n",
    "\n",
    "plot1 = plt.xlabel('Iterations')\n",
    "plot1 = plt.ylabel('Travel Distances')\n",
    "\n",
    "plot1 = plt.title('FE plot')\n",
    "# plt.xlim()\n",
    "\n",
    "plot1 = plt.grid(axis='both', color='0.95')\n",
    "\n",
    "plot1 = plt.legend(loc=3)\n",
    "\n",
    "plt.show(plot1)\n"
   ]
  },
  {
   "cell_type": "markdown",
   "source": [
    "### 4-b. 繪製路線圖"
   ],
   "metadata": {
    "collapsed": false,
    "pycharm": {
     "name": "#%% md\n"
    }
   }
  },
  {
   "cell_type": "code",
   "execution_count": 29,
   "metadata": {
    "pycharm": {
     "name": "#%%\n"
    }
   },
   "outputs": [],
   "source": [
    "# 便利商店的經緯度座標\n",
    "geo_coord = np.array([(25.043153347867666, 121.58364425468034),(25.041103173123904, 121.61312713693661),(25.059037382086778, 121.61525870440428),\n",
    "             (25.054135538699917, 121.59225228351623),(25.045224145218747, 121.58356789516085),(25.056046383097616, 121.59432076817417),\n",
    "             (25.038599280843084, 121.6172302909103),(25.054579208833932, 121.6077386970096),(25.050836556515183, 121.59401133933852),\n",
    "             (25.050348657250424, 121.59465155412765),(25.046477143123493, 121.58770249830508),(25.04778866040208, 121.61614100015376),\n",
    "             (25.044505947139307, 121.61672871919316),(25.05681262836782, 121.59861266632555),(25.055271630568217, 121.61327731050314),\n",
    "             (25.050601597971102, 121.58046181604894),(25.053003150477217, 121.60628007187141),(25.053298575131006, 121.60734751235167),\n",
    "             (25.056649286065145, 121.61848773878559),(25.05655074372385, 121.61573383748998),(25.049074757954397, 121.58171149331223),\n",
    "             (25.039865311593264, 121.59193683508798),(25.056914138727585, 121.6062759774173),(25.053149114168047, 121.60720915468067),\n",
    "             (25.052742853642453, 121.60477548906213),(25.03500778797283, 121.61420715789247),(25.049276439127613, 121.58981008666036),\n",
    "             (25.057273370401063, 121.60135560810153),(25.041868212329888, 121.58810847556839),(25.056769966718267, 121.61300978166763),\n",
    "             (25.049343957442062, 121.5941502816675),(25.046641462836426, 121.5882561239963),(25.05948581387493, 121.61386015283227),\n",
    "             (25.053475268988816, 121.58971595098346),(25.052500392976036, 121.61631031050298),(25.059036644156418, 121.61619866817416)])\n",
    "\n",
    "# 設定地圖中心點\n",
    "center = [np.mean(geo_coord[:,0]-0.003), np.mean(geo_coord[:,1])]"
   ]
  },
  {
   "cell_type": "code",
   "execution_count": 30,
   "outputs": [],
   "source": [
    "# 依照自己設定的便利商店順序，對經緯度資料作排序（無關路線圖繪製）\n",
    "abc = pd.read_json(\"file.json\")\n",
    "abc['geoloc'] = geo_coord.tolist()\n",
    "abc = abc.drop(columns=['address'])\n",
    "sort = pd.merge(df,abc, how='inner', on=['name'])\n",
    "geo_coord = np.array(sort[\"geoloc\"].to_list())"
   ],
   "metadata": {
    "collapsed": false,
    "pycharm": {
     "name": "#%%\n"
    }
   }
  },
  {
   "cell_type": "code",
   "execution_count": 118,
   "outputs": [
    {
     "data": {
      "text/plain": "<folium.folium.Map at 0x255bd1cd250>",
      "text/html": "<div style=\"width:100%;\"><div style=\"position:relative;width:100%;height:0;padding-bottom:60%;\"><span style=\"color:#565656\">Make this Notebook Trusted to load map: File -> Trust Notebook</span><iframe src=\"about:blank\" style=\"position:absolute;width:100%;height:100%;left:0;top:0;border:none !important;\" data-html=%3C%21DOCTYPE%20html%3E%0A%3Chead%3E%20%20%20%20%0A%20%20%20%20%3Cmeta%20http-equiv%3D%22content-type%22%20content%3D%22text/html%3B%20charset%3DUTF-8%22%20/%3E%0A%20%20%20%20%0A%20%20%20%20%20%20%20%20%3Cscript%3E%0A%20%20%20%20%20%20%20%20%20%20%20%20L_NO_TOUCH%20%3D%20false%3B%0A%20%20%20%20%20%20%20%20%20%20%20%20L_DISABLE_3D%20%3D%20false%3B%0A%20%20%20%20%20%20%20%20%3C/script%3E%0A%20%20%20%20%0A%20%20%20%20%3Cstyle%3Ehtml%2C%20body%20%7Bwidth%3A%20100%25%3Bheight%3A%20100%25%3Bmargin%3A%200%3Bpadding%3A%200%3B%7D%3C/style%3E%0A%20%20%20%20%3Cstyle%3E%23map%20%7Bposition%3Aabsolute%3Btop%3A0%3Bbottom%3A0%3Bright%3A0%3Bleft%3A0%3B%7D%3C/style%3E%0A%20%20%20%20%3Cscript%20src%3D%22https%3A//cdn.jsdelivr.net/npm/leaflet%401.6.0/dist/leaflet.js%22%3E%3C/script%3E%0A%20%20%20%20%3Cscript%20src%3D%22https%3A//code.jquery.com/jquery-1.12.4.min.js%22%3E%3C/script%3E%0A%20%20%20%20%3Cscript%20src%3D%22https%3A//maxcdn.bootstrapcdn.com/bootstrap/3.2.0/js/bootstrap.min.js%22%3E%3C/script%3E%0A%20%20%20%20%3Cscript%20src%3D%22https%3A//cdnjs.cloudflare.com/ajax/libs/Leaflet.awesome-markers/2.0.2/leaflet.awesome-markers.js%22%3E%3C/script%3E%0A%20%20%20%20%3Clink%20rel%3D%22stylesheet%22%20href%3D%22https%3A//cdn.jsdelivr.net/npm/leaflet%401.6.0/dist/leaflet.css%22/%3E%0A%20%20%20%20%3Clink%20rel%3D%22stylesheet%22%20href%3D%22https%3A//maxcdn.bootstrapcdn.com/bootstrap/3.2.0/css/bootstrap.min.css%22/%3E%0A%20%20%20%20%3Clink%20rel%3D%22stylesheet%22%20href%3D%22https%3A//maxcdn.bootstrapcdn.com/bootstrap/3.2.0/css/bootstrap-theme.min.css%22/%3E%0A%20%20%20%20%3Clink%20rel%3D%22stylesheet%22%20href%3D%22https%3A//maxcdn.bootstrapcdn.com/font-awesome/4.6.3/css/font-awesome.min.css%22/%3E%0A%20%20%20%20%3Clink%20rel%3D%22stylesheet%22%20href%3D%22https%3A//cdnjs.cloudflare.com/ajax/libs/Leaflet.awesome-markers/2.0.2/leaflet.awesome-markers.css%22/%3E%0A%20%20%20%20%3Clink%20rel%3D%22stylesheet%22%20href%3D%22https%3A//cdn.jsdelivr.net/gh/python-visualization/folium/folium/templates/leaflet.awesome.rotate.min.css%22/%3E%0A%20%20%20%20%0A%20%20%20%20%20%20%20%20%20%20%20%20%3Cmeta%20name%3D%22viewport%22%20content%3D%22width%3Ddevice-width%2C%0A%20%20%20%20%20%20%20%20%20%20%20%20%20%20%20%20initial-scale%3D1.0%2C%20maximum-scale%3D1.0%2C%20user-scalable%3Dno%22%20/%3E%0A%20%20%20%20%20%20%20%20%20%20%20%20%3Cstyle%3E%0A%20%20%20%20%20%20%20%20%20%20%20%20%20%20%20%20%23map_473682c95f9e4a7490ef414fff4a6b4d%20%7B%0A%20%20%20%20%20%20%20%20%20%20%20%20%20%20%20%20%20%20%20%20position%3A%20relative%3B%0A%20%20%20%20%20%20%20%20%20%20%20%20%20%20%20%20%20%20%20%20width%3A%20100.0%25%3B%0A%20%20%20%20%20%20%20%20%20%20%20%20%20%20%20%20%20%20%20%20height%3A%20100.0%25%3B%0A%20%20%20%20%20%20%20%20%20%20%20%20%20%20%20%20%20%20%20%20left%3A%200.0%25%3B%0A%20%20%20%20%20%20%20%20%20%20%20%20%20%20%20%20%20%20%20%20top%3A%200.0%25%3B%0A%20%20%20%20%20%20%20%20%20%20%20%20%20%20%20%20%7D%0A%20%20%20%20%20%20%20%20%20%20%20%20%3C/style%3E%0A%20%20%20%20%20%20%20%20%0A%3C/head%3E%0A%3Cbody%3E%20%20%20%20%0A%20%20%20%20%0A%20%20%20%20%20%20%20%20%20%20%20%20%3Cdiv%20class%3D%22folium-map%22%20id%3D%22map_473682c95f9e4a7490ef414fff4a6b4d%22%20%3E%3C/div%3E%0A%20%20%20%20%20%20%20%20%0A%3C/body%3E%0A%3Cscript%3E%20%20%20%20%0A%20%20%20%20%0A%20%20%20%20%20%20%20%20%20%20%20%20var%20map_473682c95f9e4a7490ef414fff4a6b4d%20%3D%20L.map%28%0A%20%20%20%20%20%20%20%20%20%20%20%20%20%20%20%20%22map_473682c95f9e4a7490ef414fff4a6b4d%22%2C%0A%20%20%20%20%20%20%20%20%20%20%20%20%20%20%20%20%7B%0A%20%20%20%20%20%20%20%20%20%20%20%20%20%20%20%20%20%20%20%20center%3A%20%5B25.047734681372685%2C%20121.60204076785817%5D%2C%0A%20%20%20%20%20%20%20%20%20%20%20%20%20%20%20%20%20%20%20%20crs%3A%20L.CRS.EPSG3857%2C%0A%20%20%20%20%20%20%20%20%20%20%20%20%20%20%20%20%20%20%20%20zoom%3A%2014%2C%0A%20%20%20%20%20%20%20%20%20%20%20%20%20%20%20%20%20%20%20%20zoomControl%3A%20true%2C%0A%20%20%20%20%20%20%20%20%20%20%20%20%20%20%20%20%20%20%20%20preferCanvas%3A%20false%2C%0A%20%20%20%20%20%20%20%20%20%20%20%20%20%20%20%20%7D%0A%20%20%20%20%20%20%20%20%20%20%20%20%29%3B%0A%0A%20%20%20%20%20%20%20%20%20%20%20%20%0A%0A%20%20%20%20%20%20%20%20%0A%20%20%20%20%0A%20%20%20%20%20%20%20%20%20%20%20%20var%20tile_layer_dd902583726e488abf8b7d9aefc4cc34%20%3D%20L.tileLayer%28%0A%20%20%20%20%20%20%20%20%20%20%20%20%20%20%20%20%22https%3A//%7Bs%7D.tile.openstreetmap.org/%7Bz%7D/%7Bx%7D/%7By%7D.png%22%2C%0A%20%20%20%20%20%20%20%20%20%20%20%20%20%20%20%20%7B%22attribution%22%3A%20%22Data%20by%20%5Cu0026copy%3B%20%5Cu003ca%20href%3D%5C%22http%3A//openstreetmap.org%5C%22%5Cu003eOpenStreetMap%5Cu003c/a%5Cu003e%2C%20under%20%5Cu003ca%20href%3D%5C%22http%3A//www.openstreetmap.org/copyright%5C%22%5Cu003eODbL%5Cu003c/a%5Cu003e.%22%2C%20%22detectRetina%22%3A%20false%2C%20%22maxNativeZoom%22%3A%2018%2C%20%22maxZoom%22%3A%2018%2C%20%22minZoom%22%3A%200%2C%20%22noWrap%22%3A%20false%2C%20%22opacity%22%3A%201%2C%20%22subdomains%22%3A%20%22abc%22%2C%20%22tms%22%3A%20false%7D%0A%20%20%20%20%20%20%20%20%20%20%20%20%29.addTo%28map_473682c95f9e4a7490ef414fff4a6b4d%29%3B%0A%20%20%20%20%20%20%20%20%0A%20%20%20%20%0A%20%20%20%20%20%20%20%20%20%20%20%20var%20marker_1efa7c60e4e640c4950d26eae638a1ef%20%3D%20L.marker%28%0A%20%20%20%20%20%20%20%20%20%20%20%20%20%20%20%20%5B25.050601597971102%2C%20121.58046181604894%5D%2C%0A%20%20%20%20%20%20%20%20%20%20%20%20%20%20%20%20%7B%7D%0A%20%20%20%20%20%20%20%20%20%20%20%20%29.addTo%28map_473682c95f9e4a7490ef414fff4a6b4d%29%3B%0A%20%20%20%20%20%20%20%20%0A%20%20%20%20%0A%20%20%20%20%20%20%20%20%20%20%20%20var%20icon_ef8fc9a9864a43d29bc1dfb674971908%20%3D%20L.AwesomeMarkers.icon%28%0A%20%20%20%20%20%20%20%20%20%20%20%20%20%20%20%20%7B%22extraClasses%22%3A%20%22fa-rotate-0%22%2C%20%22icon%22%3A%20%22info-sign%22%2C%20%22iconColor%22%3A%20%22white%22%2C%20%22markerColor%22%3A%20%22cadetblue%22%2C%20%22prefix%22%3A%20%22glyphicon%22%7D%0A%20%20%20%20%20%20%20%20%20%20%20%20%29%3B%0A%20%20%20%20%20%20%20%20%20%20%20%20marker_1efa7c60e4e640c4950d26eae638a1ef.setIcon%28icon_ef8fc9a9864a43d29bc1dfb674971908%29%3B%0A%20%20%20%20%20%20%20%20%0A%20%20%20%20%0A%20%20%20%20%20%20%20%20%20%20%20%20var%20marker_38526dacd9be4ce6b4e546536487c145%20%3D%20L.marker%28%0A%20%20%20%20%20%20%20%20%20%20%20%20%20%20%20%20%5B25.056769966718267%2C%20121.61300978166763%5D%2C%0A%20%20%20%20%20%20%20%20%20%20%20%20%20%20%20%20%7B%7D%0A%20%20%20%20%20%20%20%20%20%20%20%20%29.addTo%28map_473682c95f9e4a7490ef414fff4a6b4d%29%3B%0A%20%20%20%20%20%20%20%20%0A%20%20%20%20%0A%20%20%20%20%20%20%20%20%20%20%20%20var%20icon_69f2c527ba4447e2a2159aa65e72ca61%20%3D%20L.AwesomeMarkers.icon%28%0A%20%20%20%20%20%20%20%20%20%20%20%20%20%20%20%20%7B%22extraClasses%22%3A%20%22fa-rotate-0%22%2C%20%22icon%22%3A%20%22info-sign%22%2C%20%22iconColor%22%3A%20%22white%22%2C%20%22markerColor%22%3A%20%22cadetblue%22%2C%20%22prefix%22%3A%20%22glyphicon%22%7D%0A%20%20%20%20%20%20%20%20%20%20%20%20%29%3B%0A%20%20%20%20%20%20%20%20%20%20%20%20marker_38526dacd9be4ce6b4e546536487c145.setIcon%28icon_69f2c527ba4447e2a2159aa65e72ca61%29%3B%0A%20%20%20%20%20%20%20%20%0A%20%20%20%20%0A%20%20%20%20%20%20%20%20%20%20%20%20var%20marker_5d7a3146529748c5ba04c2c725bc683d%20%3D%20L.marker%28%0A%20%20%20%20%20%20%20%20%20%20%20%20%20%20%20%20%5B25.05948581387493%2C%20121.61386015283227%5D%2C%0A%20%20%20%20%20%20%20%20%20%20%20%20%20%20%20%20%7B%7D%0A%20%20%20%20%20%20%20%20%20%20%20%20%29.addTo%28map_473682c95f9e4a7490ef414fff4a6b4d%29%3B%0A%20%20%20%20%20%20%20%20%0A%20%20%20%20%0A%20%20%20%20%20%20%20%20%20%20%20%20var%20icon_5b0f2cb85787441a82b922c405d2d663%20%3D%20L.AwesomeMarkers.icon%28%0A%20%20%20%20%20%20%20%20%20%20%20%20%20%20%20%20%7B%22extraClasses%22%3A%20%22fa-rotate-0%22%2C%20%22icon%22%3A%20%22info-sign%22%2C%20%22iconColor%22%3A%20%22white%22%2C%20%22markerColor%22%3A%20%22cadetblue%22%2C%20%22prefix%22%3A%20%22glyphicon%22%7D%0A%20%20%20%20%20%20%20%20%20%20%20%20%29%3B%0A%20%20%20%20%20%20%20%20%20%20%20%20marker_5d7a3146529748c5ba04c2c725bc683d.setIcon%28icon_5b0f2cb85787441a82b922c405d2d663%29%3B%0A%20%20%20%20%20%20%20%20%0A%20%20%20%20%0A%20%20%20%20%20%20%20%20%20%20%20%20var%20marker_e10eed785f14493e93be9068368b3750%20%3D%20L.marker%28%0A%20%20%20%20%20%20%20%20%20%20%20%20%20%20%20%20%5B25.043153347867666%2C%20121.58364425468034%5D%2C%0A%20%20%20%20%20%20%20%20%20%20%20%20%20%20%20%20%7B%7D%0A%20%20%20%20%20%20%20%20%20%20%20%20%29.addTo%28map_473682c95f9e4a7490ef414fff4a6b4d%29%3B%0A%20%20%20%20%20%20%20%20%0A%20%20%20%20%0A%20%20%20%20%20%20%20%20%20%20%20%20var%20icon_b8cff727530540a3b768728846b905d0%20%3D%20L.AwesomeMarkers.icon%28%0A%20%20%20%20%20%20%20%20%20%20%20%20%20%20%20%20%7B%22extraClasses%22%3A%20%22fa-rotate-0%22%2C%20%22icon%22%3A%20%22info-sign%22%2C%20%22iconColor%22%3A%20%22white%22%2C%20%22markerColor%22%3A%20%22cadetblue%22%2C%20%22prefix%22%3A%20%22glyphicon%22%7D%0A%20%20%20%20%20%20%20%20%20%20%20%20%29%3B%0A%20%20%20%20%20%20%20%20%20%20%20%20marker_e10eed785f14493e93be9068368b3750.setIcon%28icon_b8cff727530540a3b768728846b905d0%29%3B%0A%20%20%20%20%20%20%20%20%0A%20%20%20%20%0A%20%20%20%20%20%20%20%20%20%20%20%20var%20marker_cd53bbf826cc4f41afbdbda91a0d9b6c%20%3D%20L.marker%28%0A%20%20%20%20%20%20%20%20%20%20%20%20%20%20%20%20%5B25.045224145218747%2C%20121.58356789516085%5D%2C%0A%20%20%20%20%20%20%20%20%20%20%20%20%20%20%20%20%7B%7D%0A%20%20%20%20%20%20%20%20%20%20%20%20%29.addTo%28map_473682c95f9e4a7490ef414fff4a6b4d%29%3B%0A%20%20%20%20%20%20%20%20%0A%20%20%20%20%0A%20%20%20%20%20%20%20%20%20%20%20%20var%20icon_5f0e709a714f4c4d974f26b3d1fbd99c%20%3D%20L.AwesomeMarkers.icon%28%0A%20%20%20%20%20%20%20%20%20%20%20%20%20%20%20%20%7B%22extraClasses%22%3A%20%22fa-rotate-0%22%2C%20%22icon%22%3A%20%22info-sign%22%2C%20%22iconColor%22%3A%20%22white%22%2C%20%22markerColor%22%3A%20%22cadetblue%22%2C%20%22prefix%22%3A%20%22glyphicon%22%7D%0A%20%20%20%20%20%20%20%20%20%20%20%20%29%3B%0A%20%20%20%20%20%20%20%20%20%20%20%20marker_cd53bbf826cc4f41afbdbda91a0d9b6c.setIcon%28icon_5f0e709a714f4c4d974f26b3d1fbd99c%29%3B%0A%20%20%20%20%20%20%20%20%0A%20%20%20%20%0A%20%20%20%20%20%20%20%20%20%20%20%20var%20marker_9797ce5e215f4af281cd5b1a7fc6ded6%20%3D%20L.marker%28%0A%20%20%20%20%20%20%20%20%20%20%20%20%20%20%20%20%5B25.049074757954397%2C%20121.58171149331223%5D%2C%0A%20%20%20%20%20%20%20%20%20%20%20%20%20%20%20%20%7B%7D%0A%20%20%20%20%20%20%20%20%20%20%20%20%29.addTo%28map_473682c95f9e4a7490ef414fff4a6b4d%29%3B%0A%20%20%20%20%20%20%20%20%0A%20%20%20%20%0A%20%20%20%20%20%20%20%20%20%20%20%20var%20icon_27d60beb918146029ec3ab47d8b1cc01%20%3D%20L.AwesomeMarkers.icon%28%0A%20%20%20%20%20%20%20%20%20%20%20%20%20%20%20%20%7B%22extraClasses%22%3A%20%22fa-rotate-0%22%2C%20%22icon%22%3A%20%22info-sign%22%2C%20%22iconColor%22%3A%20%22white%22%2C%20%22markerColor%22%3A%20%22cadetblue%22%2C%20%22prefix%22%3A%20%22glyphicon%22%7D%0A%20%20%20%20%20%20%20%20%20%20%20%20%29%3B%0A%20%20%20%20%20%20%20%20%20%20%20%20marker_9797ce5e215f4af281cd5b1a7fc6ded6.setIcon%28icon_27d60beb918146029ec3ab47d8b1cc01%29%3B%0A%20%20%20%20%20%20%20%20%0A%20%20%20%20%0A%20%20%20%20%20%20%20%20%20%20%20%20var%20marker_3641706cbfcd45618c007acfc3f8b740%20%3D%20L.marker%28%0A%20%20%20%20%20%20%20%20%20%20%20%20%20%20%20%20%5B25.056046383097616%2C%20121.59432076817417%5D%2C%0A%20%20%20%20%20%20%20%20%20%20%20%20%20%20%20%20%7B%7D%0A%20%20%20%20%20%20%20%20%20%20%20%20%29.addTo%28map_473682c95f9e4a7490ef414fff4a6b4d%29%3B%0A%20%20%20%20%20%20%20%20%0A%20%20%20%20%0A%20%20%20%20%20%20%20%20%20%20%20%20var%20icon_2110d3923ad04a619228242d03aeff48%20%3D%20L.AwesomeMarkers.icon%28%0A%20%20%20%20%20%20%20%20%20%20%20%20%20%20%20%20%7B%22extraClasses%22%3A%20%22fa-rotate-0%22%2C%20%22icon%22%3A%20%22info-sign%22%2C%20%22iconColor%22%3A%20%22white%22%2C%20%22markerColor%22%3A%20%22cadetblue%22%2C%20%22prefix%22%3A%20%22glyphicon%22%7D%0A%20%20%20%20%20%20%20%20%20%20%20%20%29%3B%0A%20%20%20%20%20%20%20%20%20%20%20%20marker_3641706cbfcd45618c007acfc3f8b740.setIcon%28icon_2110d3923ad04a619228242d03aeff48%29%3B%0A%20%20%20%20%20%20%20%20%0A%20%20%20%20%0A%20%20%20%20%20%20%20%20%20%20%20%20var%20marker_e9b3711159a14ad6a96141bc33c069b6%20%3D%20L.marker%28%0A%20%20%20%20%20%20%20%20%20%20%20%20%20%20%20%20%5B25.041868212329888%2C%20121.58810847556839%5D%2C%0A%20%20%20%20%20%20%20%20%20%20%20%20%20%20%20%20%7B%7D%0A%20%20%20%20%20%20%20%20%20%20%20%20%29.addTo%28map_473682c95f9e4a7490ef414fff4a6b4d%29%3B%0A%20%20%20%20%20%20%20%20%0A%20%20%20%20%0A%20%20%20%20%20%20%20%20%20%20%20%20var%20icon_467725acec4f40869a10e8155765c280%20%3D%20L.AwesomeMarkers.icon%28%0A%20%20%20%20%20%20%20%20%20%20%20%20%20%20%20%20%7B%22extraClasses%22%3A%20%22fa-rotate-0%22%2C%20%22icon%22%3A%20%22info-sign%22%2C%20%22iconColor%22%3A%20%22white%22%2C%20%22markerColor%22%3A%20%22cadetblue%22%2C%20%22prefix%22%3A%20%22glyphicon%22%7D%0A%20%20%20%20%20%20%20%20%20%20%20%20%29%3B%0A%20%20%20%20%20%20%20%20%20%20%20%20marker_e9b3711159a14ad6a96141bc33c069b6.setIcon%28icon_467725acec4f40869a10e8155765c280%29%3B%0A%20%20%20%20%20%20%20%20%0A%20%20%20%20%0A%20%20%20%20%20%20%20%20%20%20%20%20var%20marker_57db737c744540d7ab70b66ff9aefeec%20%3D%20L.marker%28%0A%20%20%20%20%20%20%20%20%20%20%20%20%20%20%20%20%5B25.054135538699917%2C%20121.59225228351623%5D%2C%0A%20%20%20%20%20%20%20%20%20%20%20%20%20%20%20%20%7B%7D%0A%20%20%20%20%20%20%20%20%20%20%20%20%29.addTo%28map_473682c95f9e4a7490ef414fff4a6b4d%29%3B%0A%20%20%20%20%20%20%20%20%0A%20%20%20%20%0A%20%20%20%20%20%20%20%20%20%20%20%20var%20icon_3d7b2ac9a0b44b08bb8e4c4ed8ed911f%20%3D%20L.AwesomeMarkers.icon%28%0A%20%20%20%20%20%20%20%20%20%20%20%20%20%20%20%20%7B%22extraClasses%22%3A%20%22fa-rotate-0%22%2C%20%22icon%22%3A%20%22info-sign%22%2C%20%22iconColor%22%3A%20%22white%22%2C%20%22markerColor%22%3A%20%22cadetblue%22%2C%20%22prefix%22%3A%20%22glyphicon%22%7D%0A%20%20%20%20%20%20%20%20%20%20%20%20%29%3B%0A%20%20%20%20%20%20%20%20%20%20%20%20marker_57db737c744540d7ab70b66ff9aefeec.setIcon%28icon_3d7b2ac9a0b44b08bb8e4c4ed8ed911f%29%3B%0A%20%20%20%20%20%20%20%20%0A%20%20%20%20%0A%20%20%20%20%20%20%20%20%20%20%20%20var%20marker_1d86b8e960a04c758f0f6629334ee4d7%20%3D%20L.marker%28%0A%20%20%20%20%20%20%20%20%20%20%20%20%20%20%20%20%5B25.053003150477217%2C%20121.60628007187141%5D%2C%0A%20%20%20%20%20%20%20%20%20%20%20%20%20%20%20%20%7B%7D%0A%20%20%20%20%20%20%20%20%20%20%20%20%29.addTo%28map_473682c95f9e4a7490ef414fff4a6b4d%29%3B%0A%20%20%20%20%20%20%20%20%0A%20%20%20%20%0A%20%20%20%20%20%20%20%20%20%20%20%20var%20icon_4f3304f4b7964de08e65f22b9c85d3c5%20%3D%20L.AwesomeMarkers.icon%28%0A%20%20%20%20%20%20%20%20%20%20%20%20%20%20%20%20%7B%22extraClasses%22%3A%20%22fa-rotate-0%22%2C%20%22icon%22%3A%20%22info-sign%22%2C%20%22iconColor%22%3A%20%22white%22%2C%20%22markerColor%22%3A%20%22cadetblue%22%2C%20%22prefix%22%3A%20%22glyphicon%22%7D%0A%20%20%20%20%20%20%20%20%20%20%20%20%29%3B%0A%20%20%20%20%20%20%20%20%20%20%20%20marker_1d86b8e960a04c758f0f6629334ee4d7.setIcon%28icon_4f3304f4b7964de08e65f22b9c85d3c5%29%3B%0A%20%20%20%20%20%20%20%20%0A%20%20%20%20%0A%20%20%20%20%20%20%20%20%20%20%20%20var%20marker_e7155deeb03049af805b3829852003a2%20%3D%20L.marker%28%0A%20%20%20%20%20%20%20%20%20%20%20%20%20%20%20%20%5B25.052742853642453%2C%20121.60477548906213%5D%2C%0A%20%20%20%20%20%20%20%20%20%20%20%20%20%20%20%20%7B%7D%0A%20%20%20%20%20%20%20%20%20%20%20%20%29.addTo%28map_473682c95f9e4a7490ef414fff4a6b4d%29%3B%0A%20%20%20%20%20%20%20%20%0A%20%20%20%20%0A%20%20%20%20%20%20%20%20%20%20%20%20var%20icon_713a545bcc9f461cad205371890dc09c%20%3D%20L.AwesomeMarkers.icon%28%0A%20%20%20%20%20%20%20%20%20%20%20%20%20%20%20%20%7B%22extraClasses%22%3A%20%22fa-rotate-0%22%2C%20%22icon%22%3A%20%22info-sign%22%2C%20%22iconColor%22%3A%20%22white%22%2C%20%22markerColor%22%3A%20%22cadetblue%22%2C%20%22prefix%22%3A%20%22glyphicon%22%7D%0A%20%20%20%20%20%20%20%20%20%20%20%20%29%3B%0A%20%20%20%20%20%20%20%20%20%20%20%20marker_e7155deeb03049af805b3829852003a2.setIcon%28icon_713a545bcc9f461cad205371890dc09c%29%3B%0A%20%20%20%20%20%20%20%20%0A%20%20%20%20%0A%20%20%20%20%20%20%20%20%20%20%20%20var%20marker_be610620e291449a81a012606c68df0c%20%3D%20L.marker%28%0A%20%20%20%20%20%20%20%20%20%20%20%20%20%20%20%20%5B25.053149114168047%2C%20121.60720915468067%5D%2C%0A%20%20%20%20%20%20%20%20%20%20%20%20%20%20%20%20%7B%7D%0A%20%20%20%20%20%20%20%20%20%20%20%20%29.addTo%28map_473682c95f9e4a7490ef414fff4a6b4d%29%3B%0A%20%20%20%20%20%20%20%20%0A%20%20%20%20%0A%20%20%20%20%20%20%20%20%20%20%20%20var%20icon_6379b187ef2c471fb5bf04d86a1651a3%20%3D%20L.AwesomeMarkers.icon%28%0A%20%20%20%20%20%20%20%20%20%20%20%20%20%20%20%20%7B%22extraClasses%22%3A%20%22fa-rotate-0%22%2C%20%22icon%22%3A%20%22info-sign%22%2C%20%22iconColor%22%3A%20%22white%22%2C%20%22markerColor%22%3A%20%22cadetblue%22%2C%20%22prefix%22%3A%20%22glyphicon%22%7D%0A%20%20%20%20%20%20%20%20%20%20%20%20%29%3B%0A%20%20%20%20%20%20%20%20%20%20%20%20marker_be610620e291449a81a012606c68df0c.setIcon%28icon_6379b187ef2c471fb5bf04d86a1651a3%29%3B%0A%20%20%20%20%20%20%20%20%0A%20%20%20%20%0A%20%20%20%20%20%20%20%20%20%20%20%20var%20marker_755e92ca3de84966a025e5717acd3387%20%3D%20L.marker%28%0A%20%20%20%20%20%20%20%20%20%20%20%20%20%20%20%20%5B25.049276439127613%2C%20121.58981008666036%5D%2C%0A%20%20%20%20%20%20%20%20%20%20%20%20%20%20%20%20%7B%7D%0A%20%20%20%20%20%20%20%20%20%20%20%20%29.addTo%28map_473682c95f9e4a7490ef414fff4a6b4d%29%3B%0A%20%20%20%20%20%20%20%20%0A%20%20%20%20%0A%20%20%20%20%20%20%20%20%20%20%20%20var%20icon_f5caf6b0e8364fefb31694fe36df2c79%20%3D%20L.AwesomeMarkers.icon%28%0A%20%20%20%20%20%20%20%20%20%20%20%20%20%20%20%20%7B%22extraClasses%22%3A%20%22fa-rotate-0%22%2C%20%22icon%22%3A%20%22info-sign%22%2C%20%22iconColor%22%3A%20%22white%22%2C%20%22markerColor%22%3A%20%22cadetblue%22%2C%20%22prefix%22%3A%20%22glyphicon%22%7D%0A%20%20%20%20%20%20%20%20%20%20%20%20%29%3B%0A%20%20%20%20%20%20%20%20%20%20%20%20marker_755e92ca3de84966a025e5717acd3387.setIcon%28icon_f5caf6b0e8364fefb31694fe36df2c79%29%3B%0A%20%20%20%20%20%20%20%20%0A%20%20%20%20%0A%20%20%20%20%20%20%20%20%20%20%20%20var%20marker_72bdb8961af046fb807192ad38964a1f%20%3D%20L.marker%28%0A%20%20%20%20%20%20%20%20%20%20%20%20%20%20%20%20%5B25.050348657250424%2C%20121.59465155412765%5D%2C%0A%20%20%20%20%20%20%20%20%20%20%20%20%20%20%20%20%7B%7D%0A%20%20%20%20%20%20%20%20%20%20%20%20%29.addTo%28map_473682c95f9e4a7490ef414fff4a6b4d%29%3B%0A%20%20%20%20%20%20%20%20%0A%20%20%20%20%0A%20%20%20%20%20%20%20%20%20%20%20%20var%20icon_2d071eb15a3e4bc7b07fd842094f7bf3%20%3D%20L.AwesomeMarkers.icon%28%0A%20%20%20%20%20%20%20%20%20%20%20%20%20%20%20%20%7B%22extraClasses%22%3A%20%22fa-rotate-0%22%2C%20%22icon%22%3A%20%22info-sign%22%2C%20%22iconColor%22%3A%20%22white%22%2C%20%22markerColor%22%3A%20%22cadetblue%22%2C%20%22prefix%22%3A%20%22glyphicon%22%7D%0A%20%20%20%20%20%20%20%20%20%20%20%20%29%3B%0A%20%20%20%20%20%20%20%20%20%20%20%20marker_72bdb8961af046fb807192ad38964a1f.setIcon%28icon_2d071eb15a3e4bc7b07fd842094f7bf3%29%3B%0A%20%20%20%20%20%20%20%20%0A%20%20%20%20%0A%20%20%20%20%20%20%20%20%20%20%20%20var%20marker_dfb4b2506d0541cf9a0a60bda6df0140%20%3D%20L.marker%28%0A%20%20%20%20%20%20%20%20%20%20%20%20%20%20%20%20%5B25.050836556515183%2C%20121.59401133933852%5D%2C%0A%20%20%20%20%20%20%20%20%20%20%20%20%20%20%20%20%7B%7D%0A%20%20%20%20%20%20%20%20%20%20%20%20%29.addTo%28map_473682c95f9e4a7490ef414fff4a6b4d%29%3B%0A%20%20%20%20%20%20%20%20%0A%20%20%20%20%0A%20%20%20%20%20%20%20%20%20%20%20%20var%20icon_3724cbea5a8f4b2da8bc90df2e1dedc6%20%3D%20L.AwesomeMarkers.icon%28%0A%20%20%20%20%20%20%20%20%20%20%20%20%20%20%20%20%7B%22extraClasses%22%3A%20%22fa-rotate-0%22%2C%20%22icon%22%3A%20%22info-sign%22%2C%20%22iconColor%22%3A%20%22white%22%2C%20%22markerColor%22%3A%20%22cadetblue%22%2C%20%22prefix%22%3A%20%22glyphicon%22%7D%0A%20%20%20%20%20%20%20%20%20%20%20%20%29%3B%0A%20%20%20%20%20%20%20%20%20%20%20%20marker_dfb4b2506d0541cf9a0a60bda6df0140.setIcon%28icon_3724cbea5a8f4b2da8bc90df2e1dedc6%29%3B%0A%20%20%20%20%20%20%20%20%0A%20%20%20%20%0A%20%20%20%20%20%20%20%20%20%20%20%20var%20marker_3f9770e835d34cbb872051bc1b93a099%20%3D%20L.marker%28%0A%20%20%20%20%20%20%20%20%20%20%20%20%20%20%20%20%5B25.046641462836426%2C%20121.5882561239963%5D%2C%0A%20%20%20%20%20%20%20%20%20%20%20%20%20%20%20%20%7B%7D%0A%20%20%20%20%20%20%20%20%20%20%20%20%29.addTo%28map_473682c95f9e4a7490ef414fff4a6b4d%29%3B%0A%20%20%20%20%20%20%20%20%0A%20%20%20%20%0A%20%20%20%20%20%20%20%20%20%20%20%20var%20icon_cd862b00adda4dfe80a264ecbc9cda36%20%3D%20L.AwesomeMarkers.icon%28%0A%20%20%20%20%20%20%20%20%20%20%20%20%20%20%20%20%7B%22extraClasses%22%3A%20%22fa-rotate-0%22%2C%20%22icon%22%3A%20%22info-sign%22%2C%20%22iconColor%22%3A%20%22white%22%2C%20%22markerColor%22%3A%20%22cadetblue%22%2C%20%22prefix%22%3A%20%22glyphicon%22%7D%0A%20%20%20%20%20%20%20%20%20%20%20%20%29%3B%0A%20%20%20%20%20%20%20%20%20%20%20%20marker_3f9770e835d34cbb872051bc1b93a099.setIcon%28icon_cd862b00adda4dfe80a264ecbc9cda36%29%3B%0A%20%20%20%20%20%20%20%20%0A%20%20%20%20%0A%20%20%20%20%20%20%20%20%20%20%20%20var%20marker_4b9e28fd032d4a479fb3af99ec77918e%20%3D%20L.marker%28%0A%20%20%20%20%20%20%20%20%20%20%20%20%20%20%20%20%5B25.046477143123493%2C%20121.58770249830508%5D%2C%0A%20%20%20%20%20%20%20%20%20%20%20%20%20%20%20%20%7B%7D%0A%20%20%20%20%20%20%20%20%20%20%20%20%29.addTo%28map_473682c95f9e4a7490ef414fff4a6b4d%29%3B%0A%20%20%20%20%20%20%20%20%0A%20%20%20%20%0A%20%20%20%20%20%20%20%20%20%20%20%20var%20icon_6668df02e18c486fb6cc8a57e3d521ad%20%3D%20L.AwesomeMarkers.icon%28%0A%20%20%20%20%20%20%20%20%20%20%20%20%20%20%20%20%7B%22extraClasses%22%3A%20%22fa-rotate-0%22%2C%20%22icon%22%3A%20%22info-sign%22%2C%20%22iconColor%22%3A%20%22white%22%2C%20%22markerColor%22%3A%20%22cadetblue%22%2C%20%22prefix%22%3A%20%22glyphicon%22%7D%0A%20%20%20%20%20%20%20%20%20%20%20%20%29%3B%0A%20%20%20%20%20%20%20%20%20%20%20%20marker_4b9e28fd032d4a479fb3af99ec77918e.setIcon%28icon_6668df02e18c486fb6cc8a57e3d521ad%29%3B%0A%20%20%20%20%20%20%20%20%0A%20%20%20%20%0A%20%20%20%20%20%20%20%20%20%20%20%20var%20marker_e60ef1a2fd15490d9c5db58c02617cab%20%3D%20L.marker%28%0A%20%20%20%20%20%20%20%20%20%20%20%20%20%20%20%20%5B25.055271630568217%2C%20121.61327731050314%5D%2C%0A%20%20%20%20%20%20%20%20%20%20%20%20%20%20%20%20%7B%7D%0A%20%20%20%20%20%20%20%20%20%20%20%20%29.addTo%28map_473682c95f9e4a7490ef414fff4a6b4d%29%3B%0A%20%20%20%20%20%20%20%20%0A%20%20%20%20%0A%20%20%20%20%20%20%20%20%20%20%20%20var%20icon_4eddcb82498e437a90e1e2ee1a5db697%20%3D%20L.AwesomeMarkers.icon%28%0A%20%20%20%20%20%20%20%20%20%20%20%20%20%20%20%20%7B%22extraClasses%22%3A%20%22fa-rotate-0%22%2C%20%22icon%22%3A%20%22info-sign%22%2C%20%22iconColor%22%3A%20%22white%22%2C%20%22markerColor%22%3A%20%22cadetblue%22%2C%20%22prefix%22%3A%20%22glyphicon%22%7D%0A%20%20%20%20%20%20%20%20%20%20%20%20%29%3B%0A%20%20%20%20%20%20%20%20%20%20%20%20marker_e60ef1a2fd15490d9c5db58c02617cab.setIcon%28icon_4eddcb82498e437a90e1e2ee1a5db697%29%3B%0A%20%20%20%20%20%20%20%20%0A%20%20%20%20%0A%20%20%20%20%20%20%20%20%20%20%20%20var%20marker_f62c95ace8dd43fe818354a31d0bf2f1%20%3D%20L.marker%28%0A%20%20%20%20%20%20%20%20%20%20%20%20%20%20%20%20%5B25.054579208833932%2C%20121.6077386970096%5D%2C%0A%20%20%20%20%20%20%20%20%20%20%20%20%20%20%20%20%7B%7D%0A%20%20%20%20%20%20%20%20%20%20%20%20%29.addTo%28map_473682c95f9e4a7490ef414fff4a6b4d%29%3B%0A%20%20%20%20%20%20%20%20%0A%20%20%20%20%0A%20%20%20%20%20%20%20%20%20%20%20%20var%20icon_220e85a81ca24a48927f3b8328a80c9e%20%3D%20L.AwesomeMarkers.icon%28%0A%20%20%20%20%20%20%20%20%20%20%20%20%20%20%20%20%7B%22extraClasses%22%3A%20%22fa-rotate-0%22%2C%20%22icon%22%3A%20%22info-sign%22%2C%20%22iconColor%22%3A%20%22white%22%2C%20%22markerColor%22%3A%20%22cadetblue%22%2C%20%22prefix%22%3A%20%22glyphicon%22%7D%0A%20%20%20%20%20%20%20%20%20%20%20%20%29%3B%0A%20%20%20%20%20%20%20%20%20%20%20%20marker_f62c95ace8dd43fe818354a31d0bf2f1.setIcon%28icon_220e85a81ca24a48927f3b8328a80c9e%29%3B%0A%20%20%20%20%20%20%20%20%0A%20%20%20%20%0A%20%20%20%20%20%20%20%20%20%20%20%20var%20marker_e8be51826d05459fa3ee1ef2f6367b0a%20%3D%20L.marker%28%0A%20%20%20%20%20%20%20%20%20%20%20%20%20%20%20%20%5B25.053298575131006%2C%20121.60734751235167%5D%2C%0A%20%20%20%20%20%20%20%20%20%20%20%20%20%20%20%20%7B%7D%0A%20%20%20%20%20%20%20%20%20%20%20%20%29.addTo%28map_473682c95f9e4a7490ef414fff4a6b4d%29%3B%0A%20%20%20%20%20%20%20%20%0A%20%20%20%20%0A%20%20%20%20%20%20%20%20%20%20%20%20var%20icon_4a70e8feb33045bcb17d15756d36b282%20%3D%20L.AwesomeMarkers.icon%28%0A%20%20%20%20%20%20%20%20%20%20%20%20%20%20%20%20%7B%22extraClasses%22%3A%20%22fa-rotate-0%22%2C%20%22icon%22%3A%20%22info-sign%22%2C%20%22iconColor%22%3A%20%22white%22%2C%20%22markerColor%22%3A%20%22cadetblue%22%2C%20%22prefix%22%3A%20%22glyphicon%22%7D%0A%20%20%20%20%20%20%20%20%20%20%20%20%29%3B%0A%20%20%20%20%20%20%20%20%20%20%20%20marker_e8be51826d05459fa3ee1ef2f6367b0a.setIcon%28icon_4a70e8feb33045bcb17d15756d36b282%29%3B%0A%20%20%20%20%20%20%20%20%0A%20%20%20%20%0A%20%20%20%20%20%20%20%20%20%20%20%20var%20marker_4486396554234252a79fb2edeb3e1a37%20%3D%20L.marker%28%0A%20%20%20%20%20%20%20%20%20%20%20%20%20%20%20%20%5B25.053475268988816%2C%20121.58971595098346%5D%2C%0A%20%20%20%20%20%20%20%20%20%20%20%20%20%20%20%20%7B%7D%0A%20%20%20%20%20%20%20%20%20%20%20%20%29.addTo%28map_473682c95f9e4a7490ef414fff4a6b4d%29%3B%0A%20%20%20%20%20%20%20%20%0A%20%20%20%20%0A%20%20%20%20%20%20%20%20%20%20%20%20var%20icon_8c017a392306435b991619986d2bb70b%20%3D%20L.AwesomeMarkers.icon%28%0A%20%20%20%20%20%20%20%20%20%20%20%20%20%20%20%20%7B%22extraClasses%22%3A%20%22fa-rotate-0%22%2C%20%22icon%22%3A%20%22info-sign%22%2C%20%22iconColor%22%3A%20%22white%22%2C%20%22markerColor%22%3A%20%22cadetblue%22%2C%20%22prefix%22%3A%20%22glyphicon%22%7D%0A%20%20%20%20%20%20%20%20%20%20%20%20%29%3B%0A%20%20%20%20%20%20%20%20%20%20%20%20marker_4486396554234252a79fb2edeb3e1a37.setIcon%28icon_8c017a392306435b991619986d2bb70b%29%3B%0A%20%20%20%20%20%20%20%20%0A%20%20%20%20%0A%20%20%20%20%20%20%20%20%20%20%20%20var%20marker_a79b2fe3c856411d8a95dd99e1d7cdb9%20%3D%20L.marker%28%0A%20%20%20%20%20%20%20%20%20%20%20%20%20%20%20%20%5B25.052500392976036%2C%20121.61631031050298%5D%2C%0A%20%20%20%20%20%20%20%20%20%20%20%20%20%20%20%20%7B%7D%0A%20%20%20%20%20%20%20%20%20%20%20%20%29.addTo%28map_473682c95f9e4a7490ef414fff4a6b4d%29%3B%0A%20%20%20%20%20%20%20%20%0A%20%20%20%20%0A%20%20%20%20%20%20%20%20%20%20%20%20var%20icon_0334c4ba44eb40cc9c985fe593c437cc%20%3D%20L.AwesomeMarkers.icon%28%0A%20%20%20%20%20%20%20%20%20%20%20%20%20%20%20%20%7B%22extraClasses%22%3A%20%22fa-rotate-0%22%2C%20%22icon%22%3A%20%22info-sign%22%2C%20%22iconColor%22%3A%20%22white%22%2C%20%22markerColor%22%3A%20%22cadetblue%22%2C%20%22prefix%22%3A%20%22glyphicon%22%7D%0A%20%20%20%20%20%20%20%20%20%20%20%20%29%3B%0A%20%20%20%20%20%20%20%20%20%20%20%20marker_a79b2fe3c856411d8a95dd99e1d7cdb9.setIcon%28icon_0334c4ba44eb40cc9c985fe593c437cc%29%3B%0A%20%20%20%20%20%20%20%20%0A%20%20%20%20%0A%20%20%20%20%20%20%20%20%20%20%20%20var%20marker_2ce9e618ed8a4664ba5ee78dc826d420%20%3D%20L.marker%28%0A%20%20%20%20%20%20%20%20%20%20%20%20%20%20%20%20%5B25.041103173123904%2C%20121.61312713693661%5D%2C%0A%20%20%20%20%20%20%20%20%20%20%20%20%20%20%20%20%7B%7D%0A%20%20%20%20%20%20%20%20%20%20%20%20%29.addTo%28map_473682c95f9e4a7490ef414fff4a6b4d%29%3B%0A%20%20%20%20%20%20%20%20%0A%20%20%20%20%0A%20%20%20%20%20%20%20%20%20%20%20%20var%20icon_ef944e02b56946b1b2c471c763cc0458%20%3D%20L.AwesomeMarkers.icon%28%0A%20%20%20%20%20%20%20%20%20%20%20%20%20%20%20%20%7B%22extraClasses%22%3A%20%22fa-rotate-0%22%2C%20%22icon%22%3A%20%22info-sign%22%2C%20%22iconColor%22%3A%20%22white%22%2C%20%22markerColor%22%3A%20%22cadetblue%22%2C%20%22prefix%22%3A%20%22glyphicon%22%7D%0A%20%20%20%20%20%20%20%20%20%20%20%20%29%3B%0A%20%20%20%20%20%20%20%20%20%20%20%20marker_2ce9e618ed8a4664ba5ee78dc826d420.setIcon%28icon_ef944e02b56946b1b2c471c763cc0458%29%3B%0A%20%20%20%20%20%20%20%20%0A%20%20%20%20%0A%20%20%20%20%20%20%20%20%20%20%20%20var%20marker_ce6d02a373014b9aab6c7c1dee10fc64%20%3D%20L.marker%28%0A%20%20%20%20%20%20%20%20%20%20%20%20%20%20%20%20%5B25.04778866040208%2C%20121.61614100015376%5D%2C%0A%20%20%20%20%20%20%20%20%20%20%20%20%20%20%20%20%7B%7D%0A%20%20%20%20%20%20%20%20%20%20%20%20%29.addTo%28map_473682c95f9e4a7490ef414fff4a6b4d%29%3B%0A%20%20%20%20%20%20%20%20%0A%20%20%20%20%0A%20%20%20%20%20%20%20%20%20%20%20%20var%20icon_8c9bf045b1674625a3103cc580f9f2cd%20%3D%20L.AwesomeMarkers.icon%28%0A%20%20%20%20%20%20%20%20%20%20%20%20%20%20%20%20%7B%22extraClasses%22%3A%20%22fa-rotate-0%22%2C%20%22icon%22%3A%20%22info-sign%22%2C%20%22iconColor%22%3A%20%22white%22%2C%20%22markerColor%22%3A%20%22cadetblue%22%2C%20%22prefix%22%3A%20%22glyphicon%22%7D%0A%20%20%20%20%20%20%20%20%20%20%20%20%29%3B%0A%20%20%20%20%20%20%20%20%20%20%20%20marker_ce6d02a373014b9aab6c7c1dee10fc64.setIcon%28icon_8c9bf045b1674625a3103cc580f9f2cd%29%3B%0A%20%20%20%20%20%20%20%20%0A%20%20%20%20%0A%20%20%20%20%20%20%20%20%20%20%20%20var%20marker_72b71750b8354155a3dc00abae7cff82%20%3D%20L.marker%28%0A%20%20%20%20%20%20%20%20%20%20%20%20%20%20%20%20%5B25.038599280843084%2C%20121.6172302909103%5D%2C%0A%20%20%20%20%20%20%20%20%20%20%20%20%20%20%20%20%7B%7D%0A%20%20%20%20%20%20%20%20%20%20%20%20%29.addTo%28map_473682c95f9e4a7490ef414fff4a6b4d%29%3B%0A%20%20%20%20%20%20%20%20%0A%20%20%20%20%0A%20%20%20%20%20%20%20%20%20%20%20%20var%20icon_52e3708960d940bcbe9739e6142f4433%20%3D%20L.AwesomeMarkers.icon%28%0A%20%20%20%20%20%20%20%20%20%20%20%20%20%20%20%20%7B%22extraClasses%22%3A%20%22fa-rotate-0%22%2C%20%22icon%22%3A%20%22info-sign%22%2C%20%22iconColor%22%3A%20%22white%22%2C%20%22markerColor%22%3A%20%22cadetblue%22%2C%20%22prefix%22%3A%20%22glyphicon%22%7D%0A%20%20%20%20%20%20%20%20%20%20%20%20%29%3B%0A%20%20%20%20%20%20%20%20%20%20%20%20marker_72b71750b8354155a3dc00abae7cff82.setIcon%28icon_52e3708960d940bcbe9739e6142f4433%29%3B%0A%20%20%20%20%20%20%20%20%0A%20%20%20%20%0A%20%20%20%20%20%20%20%20%20%20%20%20var%20marker_9b9676986b804888842c644a358d2fe2%20%3D%20L.marker%28%0A%20%20%20%20%20%20%20%20%20%20%20%20%20%20%20%20%5B25.044505947139307%2C%20121.61672871919316%5D%2C%0A%20%20%20%20%20%20%20%20%20%20%20%20%20%20%20%20%7B%7D%0A%20%20%20%20%20%20%20%20%20%20%20%20%29.addTo%28map_473682c95f9e4a7490ef414fff4a6b4d%29%3B%0A%20%20%20%20%20%20%20%20%0A%20%20%20%20%0A%20%20%20%20%20%20%20%20%20%20%20%20var%20icon_c094863dc5d84deeacaca93752c999ee%20%3D%20L.AwesomeMarkers.icon%28%0A%20%20%20%20%20%20%20%20%20%20%20%20%20%20%20%20%7B%22extraClasses%22%3A%20%22fa-rotate-0%22%2C%20%22icon%22%3A%20%22info-sign%22%2C%20%22iconColor%22%3A%20%22white%22%2C%20%22markerColor%22%3A%20%22cadetblue%22%2C%20%22prefix%22%3A%20%22glyphicon%22%7D%0A%20%20%20%20%20%20%20%20%20%20%20%20%29%3B%0A%20%20%20%20%20%20%20%20%20%20%20%20marker_9b9676986b804888842c644a358d2fe2.setIcon%28icon_c094863dc5d84deeacaca93752c999ee%29%3B%0A%20%20%20%20%20%20%20%20%0A%20%20%20%20%0A%20%20%20%20%20%20%20%20%20%20%20%20var%20marker_749746e6813e4d9aa53a6ceb6e49eae1%20%3D%20L.marker%28%0A%20%20%20%20%20%20%20%20%20%20%20%20%20%20%20%20%5B25.03500778797283%2C%20121.61420715789247%5D%2C%0A%20%20%20%20%20%20%20%20%20%20%20%20%20%20%20%20%7B%7D%0A%20%20%20%20%20%20%20%20%20%20%20%20%29.addTo%28map_473682c95f9e4a7490ef414fff4a6b4d%29%3B%0A%20%20%20%20%20%20%20%20%0A%20%20%20%20%0A%20%20%20%20%20%20%20%20%20%20%20%20var%20icon_650b226e6fbb4fc5890a1dd359ffc885%20%3D%20L.AwesomeMarkers.icon%28%0A%20%20%20%20%20%20%20%20%20%20%20%20%20%20%20%20%7B%22extraClasses%22%3A%20%22fa-rotate-0%22%2C%20%22icon%22%3A%20%22info-sign%22%2C%20%22iconColor%22%3A%20%22white%22%2C%20%22markerColor%22%3A%20%22cadetblue%22%2C%20%22prefix%22%3A%20%22glyphicon%22%7D%0A%20%20%20%20%20%20%20%20%20%20%20%20%29%3B%0A%20%20%20%20%20%20%20%20%20%20%20%20marker_749746e6813e4d9aa53a6ceb6e49eae1.setIcon%28icon_650b226e6fbb4fc5890a1dd359ffc885%29%3B%0A%20%20%20%20%20%20%20%20%0A%20%20%20%20%0A%20%20%20%20%20%20%20%20%20%20%20%20var%20marker_320c68ba01ea41f6974e438b277bdb33%20%3D%20L.marker%28%0A%20%20%20%20%20%20%20%20%20%20%20%20%20%20%20%20%5B25.057273370401063%2C%20121.60135560810153%5D%2C%0A%20%20%20%20%20%20%20%20%20%20%20%20%20%20%20%20%7B%7D%0A%20%20%20%20%20%20%20%20%20%20%20%20%29.addTo%28map_473682c95f9e4a7490ef414fff4a6b4d%29%3B%0A%20%20%20%20%20%20%20%20%0A%20%20%20%20%0A%20%20%20%20%20%20%20%20%20%20%20%20var%20icon_4e403e23c97344ab94d4759f27b5e21f%20%3D%20L.AwesomeMarkers.icon%28%0A%20%20%20%20%20%20%20%20%20%20%20%20%20%20%20%20%7B%22extraClasses%22%3A%20%22fa-rotate-0%22%2C%20%22icon%22%3A%20%22info-sign%22%2C%20%22iconColor%22%3A%20%22white%22%2C%20%22markerColor%22%3A%20%22cadetblue%22%2C%20%22prefix%22%3A%20%22glyphicon%22%7D%0A%20%20%20%20%20%20%20%20%20%20%20%20%29%3B%0A%20%20%20%20%20%20%20%20%20%20%20%20marker_320c68ba01ea41f6974e438b277bdb33.setIcon%28icon_4e403e23c97344ab94d4759f27b5e21f%29%3B%0A%20%20%20%20%20%20%20%20%0A%20%20%20%20%0A%20%20%20%20%20%20%20%20%20%20%20%20var%20marker_a5edf1c3f9554849bd79aeaf8a29f338%20%3D%20L.marker%28%0A%20%20%20%20%20%20%20%20%20%20%20%20%20%20%20%20%5B25.05681262836782%2C%20121.59861266632555%5D%2C%0A%20%20%20%20%20%20%20%20%20%20%20%20%20%20%20%20%7B%7D%0A%20%20%20%20%20%20%20%20%20%20%20%20%29.addTo%28map_473682c95f9e4a7490ef414fff4a6b4d%29%3B%0A%20%20%20%20%20%20%20%20%0A%20%20%20%20%0A%20%20%20%20%20%20%20%20%20%20%20%20var%20icon_0075413b292c4d318dc1d08ac397831e%20%3D%20L.AwesomeMarkers.icon%28%0A%20%20%20%20%20%20%20%20%20%20%20%20%20%20%20%20%7B%22extraClasses%22%3A%20%22fa-rotate-0%22%2C%20%22icon%22%3A%20%22info-sign%22%2C%20%22iconColor%22%3A%20%22white%22%2C%20%22markerColor%22%3A%20%22cadetblue%22%2C%20%22prefix%22%3A%20%22glyphicon%22%7D%0A%20%20%20%20%20%20%20%20%20%20%20%20%29%3B%0A%20%20%20%20%20%20%20%20%20%20%20%20marker_a5edf1c3f9554849bd79aeaf8a29f338.setIcon%28icon_0075413b292c4d318dc1d08ac397831e%29%3B%0A%20%20%20%20%20%20%20%20%0A%20%20%20%20%0A%20%20%20%20%20%20%20%20%20%20%20%20var%20marker_10de14cd198345bf965b05448411b170%20%3D%20L.marker%28%0A%20%20%20%20%20%20%20%20%20%20%20%20%20%20%20%20%5B25.059036644156418%2C%20121.61619866817416%5D%2C%0A%20%20%20%20%20%20%20%20%20%20%20%20%20%20%20%20%7B%7D%0A%20%20%20%20%20%20%20%20%20%20%20%20%29.addTo%28map_473682c95f9e4a7490ef414fff4a6b4d%29%3B%0A%20%20%20%20%20%20%20%20%0A%20%20%20%20%0A%20%20%20%20%20%20%20%20%20%20%20%20var%20icon_7db6f27a35df4e0a8474db3388091856%20%3D%20L.AwesomeMarkers.icon%28%0A%20%20%20%20%20%20%20%20%20%20%20%20%20%20%20%20%7B%22extraClasses%22%3A%20%22fa-rotate-0%22%2C%20%22icon%22%3A%20%22info-sign%22%2C%20%22iconColor%22%3A%20%22white%22%2C%20%22markerColor%22%3A%20%22cadetblue%22%2C%20%22prefix%22%3A%20%22glyphicon%22%7D%0A%20%20%20%20%20%20%20%20%20%20%20%20%29%3B%0A%20%20%20%20%20%20%20%20%20%20%20%20marker_10de14cd198345bf965b05448411b170.setIcon%28icon_7db6f27a35df4e0a8474db3388091856%29%3B%0A%20%20%20%20%20%20%20%20%0A%20%20%20%20%0A%20%20%20%20%20%20%20%20%20%20%20%20var%20marker_0704404828bc4d0ebca40946dc7f7ced%20%3D%20L.marker%28%0A%20%20%20%20%20%20%20%20%20%20%20%20%20%20%20%20%5B25.059037382086778%2C%20121.61525870440428%5D%2C%0A%20%20%20%20%20%20%20%20%20%20%20%20%20%20%20%20%7B%7D%0A%20%20%20%20%20%20%20%20%20%20%20%20%29.addTo%28map_473682c95f9e4a7490ef414fff4a6b4d%29%3B%0A%20%20%20%20%20%20%20%20%0A%20%20%20%20%0A%20%20%20%20%20%20%20%20%20%20%20%20var%20icon_624a27889d3b480fb84a89ede60d5a07%20%3D%20L.AwesomeMarkers.icon%28%0A%20%20%20%20%20%20%20%20%20%20%20%20%20%20%20%20%7B%22extraClasses%22%3A%20%22fa-rotate-0%22%2C%20%22icon%22%3A%20%22info-sign%22%2C%20%22iconColor%22%3A%20%22white%22%2C%20%22markerColor%22%3A%20%22cadetblue%22%2C%20%22prefix%22%3A%20%22glyphicon%22%7D%0A%20%20%20%20%20%20%20%20%20%20%20%20%29%3B%0A%20%20%20%20%20%20%20%20%20%20%20%20marker_0704404828bc4d0ebca40946dc7f7ced.setIcon%28icon_624a27889d3b480fb84a89ede60d5a07%29%3B%0A%20%20%20%20%20%20%20%20%0A%20%20%20%20%0A%20%20%20%20%20%20%20%20%20%20%20%20var%20marker_3414a8c0f6e348e8878ee781a707c540%20%3D%20L.marker%28%0A%20%20%20%20%20%20%20%20%20%20%20%20%20%20%20%20%5B25.056649286065145%2C%20121.61848773878559%5D%2C%0A%20%20%20%20%20%20%20%20%20%20%20%20%20%20%20%20%7B%7D%0A%20%20%20%20%20%20%20%20%20%20%20%20%29.addTo%28map_473682c95f9e4a7490ef414fff4a6b4d%29%3B%0A%20%20%20%20%20%20%20%20%0A%20%20%20%20%0A%20%20%20%20%20%20%20%20%20%20%20%20var%20icon_1605013a1be24faeb3e5315c28d7cdb1%20%3D%20L.AwesomeMarkers.icon%28%0A%20%20%20%20%20%20%20%20%20%20%20%20%20%20%20%20%7B%22extraClasses%22%3A%20%22fa-rotate-0%22%2C%20%22icon%22%3A%20%22info-sign%22%2C%20%22iconColor%22%3A%20%22white%22%2C%20%22markerColor%22%3A%20%22cadetblue%22%2C%20%22prefix%22%3A%20%22glyphicon%22%7D%0A%20%20%20%20%20%20%20%20%20%20%20%20%29%3B%0A%20%20%20%20%20%20%20%20%20%20%20%20marker_3414a8c0f6e348e8878ee781a707c540.setIcon%28icon_1605013a1be24faeb3e5315c28d7cdb1%29%3B%0A%20%20%20%20%20%20%20%20%0A%20%20%20%20%0A%20%20%20%20%20%20%20%20%20%20%20%20var%20marker_472a4619048c4833954b9ebb49c86a7f%20%3D%20L.marker%28%0A%20%20%20%20%20%20%20%20%20%20%20%20%20%20%20%20%5B25.05655074372385%2C%20121.61573383748998%5D%2C%0A%20%20%20%20%20%20%20%20%20%20%20%20%20%20%20%20%7B%7D%0A%20%20%20%20%20%20%20%20%20%20%20%20%29.addTo%28map_473682c95f9e4a7490ef414fff4a6b4d%29%3B%0A%20%20%20%20%20%20%20%20%0A%20%20%20%20%0A%20%20%20%20%20%20%20%20%20%20%20%20var%20icon_ee93234ed2e44e34ae0849330c249107%20%3D%20L.AwesomeMarkers.icon%28%0A%20%20%20%20%20%20%20%20%20%20%20%20%20%20%20%20%7B%22extraClasses%22%3A%20%22fa-rotate-0%22%2C%20%22icon%22%3A%20%22info-sign%22%2C%20%22iconColor%22%3A%20%22white%22%2C%20%22markerColor%22%3A%20%22cadetblue%22%2C%20%22prefix%22%3A%20%22glyphicon%22%7D%0A%20%20%20%20%20%20%20%20%20%20%20%20%29%3B%0A%20%20%20%20%20%20%20%20%20%20%20%20marker_472a4619048c4833954b9ebb49c86a7f.setIcon%28icon_ee93234ed2e44e34ae0849330c249107%29%3B%0A%20%20%20%20%20%20%20%20%0A%20%20%20%20%0A%20%20%20%20%20%20%20%20%20%20%20%20var%20marker_dbb300e9d8844c92a384608b389709fa%20%3D%20L.marker%28%0A%20%20%20%20%20%20%20%20%20%20%20%20%20%20%20%20%5B25.039865311593264%2C%20121.59193683508798%5D%2C%0A%20%20%20%20%20%20%20%20%20%20%20%20%20%20%20%20%7B%7D%0A%20%20%20%20%20%20%20%20%20%20%20%20%29.addTo%28map_473682c95f9e4a7490ef414fff4a6b4d%29%3B%0A%20%20%20%20%20%20%20%20%0A%20%20%20%20%0A%20%20%20%20%20%20%20%20%20%20%20%20var%20icon_6ea3355898bb4bcba84de48c9b848dbe%20%3D%20L.AwesomeMarkers.icon%28%0A%20%20%20%20%20%20%20%20%20%20%20%20%20%20%20%20%7B%22extraClasses%22%3A%20%22fa-rotate-0%22%2C%20%22icon%22%3A%20%22info-sign%22%2C%20%22iconColor%22%3A%20%22white%22%2C%20%22markerColor%22%3A%20%22cadetblue%22%2C%20%22prefix%22%3A%20%22glyphicon%22%7D%0A%20%20%20%20%20%20%20%20%20%20%20%20%29%3B%0A%20%20%20%20%20%20%20%20%20%20%20%20marker_dbb300e9d8844c92a384608b389709fa.setIcon%28icon_6ea3355898bb4bcba84de48c9b848dbe%29%3B%0A%20%20%20%20%20%20%20%20%0A%20%20%20%20%0A%20%20%20%20%20%20%20%20%20%20%20%20var%20marker_6dfd25df974d4b109cb8644668985d66%20%3D%20L.marker%28%0A%20%20%20%20%20%20%20%20%20%20%20%20%20%20%20%20%5B25.056914138727585%2C%20121.6062759774173%5D%2C%0A%20%20%20%20%20%20%20%20%20%20%20%20%20%20%20%20%7B%7D%0A%20%20%20%20%20%20%20%20%20%20%20%20%29.addTo%28map_473682c95f9e4a7490ef414fff4a6b4d%29%3B%0A%20%20%20%20%20%20%20%20%0A%20%20%20%20%0A%20%20%20%20%20%20%20%20%20%20%20%20var%20icon_3685c9ecc10941f094f8683b59967d78%20%3D%20L.AwesomeMarkers.icon%28%0A%20%20%20%20%20%20%20%20%20%20%20%20%20%20%20%20%7B%22extraClasses%22%3A%20%22fa-rotate-0%22%2C%20%22icon%22%3A%20%22info-sign%22%2C%20%22iconColor%22%3A%20%22white%22%2C%20%22markerColor%22%3A%20%22cadetblue%22%2C%20%22prefix%22%3A%20%22glyphicon%22%7D%0A%20%20%20%20%20%20%20%20%20%20%20%20%29%3B%0A%20%20%20%20%20%20%20%20%20%20%20%20marker_6dfd25df974d4b109cb8644668985d66.setIcon%28icon_3685c9ecc10941f094f8683b59967d78%29%3B%0A%20%20%20%20%20%20%20%20%0A%20%20%20%20%0A%20%20%20%20%20%20%20%20%20%20%20%20var%20marker_b65389fd8a304cd8b34e714b460794e1%20%3D%20L.marker%28%0A%20%20%20%20%20%20%20%20%20%20%20%20%20%20%20%20%5B25.049343957442062%2C%20121.5941502816675%5D%2C%0A%20%20%20%20%20%20%20%20%20%20%20%20%20%20%20%20%7B%7D%0A%20%20%20%20%20%20%20%20%20%20%20%20%29.addTo%28map_473682c95f9e4a7490ef414fff4a6b4d%29%3B%0A%20%20%20%20%20%20%20%20%0A%20%20%20%20%0A%20%20%20%20%20%20%20%20%20%20%20%20var%20icon_cf4ec0a8f1f74698a4d33f3635078077%20%3D%20L.AwesomeMarkers.icon%28%0A%20%20%20%20%20%20%20%20%20%20%20%20%20%20%20%20%7B%22extraClasses%22%3A%20%22fa-rotate-0%22%2C%20%22icon%22%3A%20%22info-sign%22%2C%20%22iconColor%22%3A%20%22white%22%2C%20%22markerColor%22%3A%20%22cadetblue%22%2C%20%22prefix%22%3A%20%22glyphicon%22%7D%0A%20%20%20%20%20%20%20%20%20%20%20%20%29%3B%0A%20%20%20%20%20%20%20%20%20%20%20%20marker_b65389fd8a304cd8b34e714b460794e1.setIcon%28icon_cf4ec0a8f1f74698a4d33f3635078077%29%3B%0A%20%20%20%20%20%20%20%20%0A%20%20%20%20%0A%20%20%20%20%20%20%20%20%20%20%20%20var%20poly_line_cef6b486cddc489eafb5780266ab45c7%20%3D%20L.polyline%28%0A%20%20%20%20%20%20%20%20%20%20%20%20%20%20%20%20%5B%5B25.053149114168047%2C%20121.60720915468067%5D%2C%20%5B25.054579208833932%2C%20121.6077386970096%5D%2C%20%5B25.055271630568217%2C%20121.61327731050314%5D%2C%20%5B25.056769966718267%2C%20121.61300978166763%5D%2C%20%5B25.05948581387493%2C%20121.61386015283227%5D%2C%20%5B25.059036644156418%2C%20121.61619866817416%5D%2C%20%5B25.056914138727585%2C%20121.6062759774173%5D%2C%20%5B25.057273370401063%2C%20121.60135560810153%5D%2C%20%5B25.05681262836782%2C%20121.59861266632555%5D%2C%20%5B25.056046383097616%2C%20121.59432076817417%5D%2C%20%5B25.054135538699917%2C%20121.59225228351623%5D%2C%20%5B25.050601597971102%2C%20121.58046181604894%5D%2C%20%5B25.053475268988816%2C%20121.58971595098346%5D%2C%20%5B25.039865311593264%2C%20121.59193683508798%5D%2C%20%5B25.045224145218747%2C%20121.58356789516085%5D%2C%20%5B25.043153347867666%2C%20121.58364425468034%5D%2C%20%5B25.049074757954397%2C%20121.58171149331223%5D%2C%20%5B25.049276439127613%2C%20121.58981008666036%5D%2C%20%5B25.050348657250424%2C%20121.59465155412765%5D%2C%20%5B25.050836556515183%2C%20121.59401133933852%5D%2C%20%5B25.046641462836426%2C%20121.5882561239963%5D%2C%20%5B25.046477143123493%2C%20121.58770249830508%5D%2C%20%5B25.041868212329888%2C%20121.58810847556839%5D%2C%20%5B25.049343957442062%2C%20121.5941502816675%5D%2C%20%5B25.03500778797283%2C%20121.61420715789247%5D%2C%20%5B25.038599280843084%2C%20121.6172302909103%5D%2C%20%5B25.044505947139307%2C%20121.61672871919316%5D%2C%20%5B25.041103173123904%2C%20121.61312713693661%5D%2C%20%5B25.04778866040208%2C%20121.61614100015376%5D%2C%20%5B25.052500392976036%2C%20121.61631031050298%5D%2C%20%5B25.056649286065145%2C%20121.61848773878559%5D%2C%20%5B25.05655074372385%2C%20121.61573383748998%5D%2C%20%5B25.059037382086778%2C%20121.61525870440428%5D%2C%20%5B25.053298575131006%2C%20121.60734751235167%5D%2C%20%5B25.052742853642453%2C%20121.60477548906213%5D%2C%20%5B25.053003150477217%2C%20121.60628007187141%5D%2C%20%5B25.053149114168047%2C%20121.60720915468067%5D%5D%2C%0A%20%20%20%20%20%20%20%20%20%20%20%20%20%20%20%20%7B%22bubblingMouseEvents%22%3A%20true%2C%20%22color%22%3A%20%22black%22%2C%20%22dashArray%22%3A%20null%2C%20%22dashOffset%22%3A%20null%2C%20%22fill%22%3A%20false%2C%20%22fillColor%22%3A%20%22black%22%2C%20%22fillOpacity%22%3A%200.2%2C%20%22fillRule%22%3A%20%22evenodd%22%2C%20%22lineCap%22%3A%20%22round%22%2C%20%22lineJoin%22%3A%20%22round%22%2C%20%22noClip%22%3A%20false%2C%20%22opacity%22%3A%200.7%2C%20%22smoothFactor%22%3A%201.0%2C%20%22stroke%22%3A%20true%2C%20%22weight%22%3A%203%7D%0A%20%20%20%20%20%20%20%20%20%20%20%20%29.addTo%28map_473682c95f9e4a7490ef414fff4a6b4d%29%3B%0A%20%20%20%20%20%20%20%20%0A%3C/script%3E onload=\"this.contentDocument.open();this.contentDocument.write(    decodeURIComponent(this.getAttribute('data-html')));this.contentDocument.close();\" allowfullscreen webkitallowfullscreen mozallowfullscreen></iframe></div></div>"
     },
     "execution_count": 118,
     "metadata": {},
     "output_type": "execute_result"
    }
   ],
   "source": [
    "# output the optimal path\n",
    "from folium import plugins\n",
    "import folium\n",
    "import os\n",
    "import io\n",
    "from PIL import Image\n",
    "map = folium.Map(center, zoom_start=14)\n",
    "Target_Schedule = PSO_best_schedule\n",
    "Target_Schedule = np.append(Target_Schedule, Target_Schedule[0])\n",
    "path = geo_coord[Target_Schedule]\n",
    "\n",
    "for j in range(len(geo_coord)):\n",
    "    marker = folium.Marker(location= list(geo_coord[j]),\n",
    "                           icon=folium.Icon(color='cadetblue'),)\n",
    "    map.add_child(child=marker)\n",
    "\n",
    "route = folium.PolyLine(locations = path,\n",
    "                       weight=3,\n",
    "                       color='black',\n",
    "                       opacity=0.7).add_to(map)\n",
    "\n",
    "# image_data = map._to_png(5)\n",
    "# # image = Image.open(io.BytesIO(image_data))\n",
    "# # map.save(os.path.join(r'maps_with_the_routes/ACO.png'))\n",
    "map"
   ],
   "metadata": {
    "collapsed": false,
    "pycharm": {
     "name": "#%%\n"
    }
   }
  },
  {
   "cell_type": "markdown",
   "source": [
    "### Print the travel distances and travel path"
   ],
   "metadata": {
    "collapsed": false,
    "pycharm": {
     "name": "#%% md\n"
    }
   }
  },
  {
   "cell_type": "code",
   "execution_count": 117,
   "outputs": [
    {
     "name": "stdout",
     "output_type": "stream",
     "text": [
      "凱松->經貿->耀港->港捷->佳樂->林坊->新福玉->港德->鑫貿->研究->港麗->港運->雄強->聯成->玉成->中貿->昆陽->華技->港勝->重陽->向揚->忠陽->港興->港環球->中研->庄研->胡適->香城->玉德->鵬馳->港泰->慈愛->馥樺->港高鐵->中坡->聯坊\n",
      "\n",
      "凱松->港運->耀港->中研->胡適->研究->港高鐵->聯坊->港德->新福玉->中坡->玉德->林坊->雄強->忠陽->昆陽->聯成->玉成->向揚->慈愛->港興->佳樂->華技->庄研->港勝->馥樺->中貿->港捷->鑫貿->經貿->香城->港環球->港泰->港麗->重陽->鵬馳\n",
      "\n",
      "凱松->港運->忠陽->馥樺->港環球->玉成->港捷->港泰->耀港->庄研->華技->雄強->中貿->研究->新福玉->港麗->佳樂->重陽->胡適->林坊->港勝->鑫貿->經貿->香城->港興->聯成->昆陽->中坡->玉德->向揚->鵬馳->聯坊->港高鐵->慈愛->中研->港德\n",
      "\n",
      "凱松->港運->港興->聯成->經貿->港麗->向揚->港泰->香城->佳樂->港高鐵->慈愛->港捷->耀港->中研->港環球->中貿->鑫貿->庄研->胡適->研究->鵬馳->玉成->馥樺->重陽->港德->林坊->港勝->華技->雄強->玉德->聯坊->昆陽->忠陽->中坡->新福玉\n",
      "\n",
      "凱松->新福玉->港德->林坊->中研->胡適->香城->鵬馳->玉成->忠陽->昆陽->聯成->向揚->港興->耀港->庄研->華技->研究->港勝->港捷->中貿->馥樺->佳樂->港高鐵->港環球->港麗->港泰->慈愛->重陽->經貿->鑫貿->雄強->聯坊->玉德->中坡->港運\n",
      "\n",
      "凱松->鵬馳->港德->玉德->中坡->港運->雄強->昆陽->忠陽->聯坊->林坊->新福玉->聯成->華技->庄研->胡適->中研->研究->耀港->港捷->港勝->中貿->港高鐵->港麗->港泰->港環球->佳樂->香城->經貿->馥樺->鑫貿->港興->慈愛->重陽->向揚->玉成\n",
      "\n",
      "凱松->新福玉->向揚->研究->港高鐵->聯坊->港德->林坊->中坡->胡適->庄研->昆陽->玉成->忠陽->聯成->港運->耀港->中研->港環球->香城->華技->港興->慈愛->馥樺->中貿->港捷->玉德->經貿->佳樂->雄強->鵬馳->重陽->港泰->港麗->港勝->鑫貿\n",
      "\n",
      "凱松->港麗->中研->港環球->昆陽->玉德->鵬馳->港興->慈愛->向揚->耀港->庄研->馥樺->港泰->華技->胡適->聯坊->港捷->研究->玉成->中坡->港運->雄強->香城->中貿->鑫貿->港勝->佳樂->重陽->聯成->忠陽->林坊->經貿->港高鐵->港德->新福玉\n",
      "\n"
     ]
    }
   ],
   "source": [
    "def print_travel_path(given_list):\n",
    "    temp = []\n",
    "    given_list = list(given_list)\n",
    "    # 將凱松門市設為起點，調整門市index順序\n",
    "    for j in range(len(given_list)):\n",
    "        if given_list[0] != 0:\n",
    "            temp.append(given_list[0])\n",
    "            given_list.pop(0)\n",
    "    given_list.extend(temp)\n",
    "    # print(f'given_list: {given_list}')\n",
    "\n",
    "    # 列印出門市順序\n",
    "    for i in range(len(given_list)):\n",
    "        if i == len(given_list)-1:\n",
    "            print(f'{df_list[given_list[i]]}', end = '\\n\\n')\n",
    "        else:\n",
    "            print(f'{df_list[given_list[i]]}', end = '->')\n",
    "\n",
    "print_travel_path(RW_best_schedule)\n",
    "print_travel_path(HC_best_schedule)\n",
    "print_travel_path(GA_best_schedule)\n",
    "print_travel_path(SA_best_schedule)\n",
    "print_travel_path(TS_best_schedule)\n",
    "print_travel_path(PSO_best_schedule)\n",
    "print_travel_path(ACO_best_schedule)\n",
    "print_travel_path(MBO_best_schedule)"
   ],
   "metadata": {
    "collapsed": false,
    "pycharm": {
     "name": "#%%\n"
    }
   }
  }
 ],
 "metadata": {
  "kernelspec": {
   "display_name": "Python 3",
   "language": "python",
   "name": "python3"
  },
  "language_info": {
   "codemirror_mode": {
    "name": "ipython",
    "version": 3
   },
   "file_extension": ".py",
   "mimetype": "text/x-python",
   "name": "python",
   "nbconvert_exporter": "python",
   "pygments_lexer": "ipython3",
   "version": "3.8.10"
  }
 },
 "nbformat": 4,
 "nbformat_minor": 1
}