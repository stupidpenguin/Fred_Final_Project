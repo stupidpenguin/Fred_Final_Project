{
 "cells": [
  {
   "cell_type": "code",
   "execution_count": 459,
   "metadata": {
    "collapsed": true
   },
   "outputs": [
    {
     "name": "stdout",
     "output_type": "stream",
     "text": [
      "[[ 0  4  8  2  8  5  4  4  2  2]\n",
      " [ 4  0  8 10  7  3  9  2  7  3]\n",
      " [ 8  8  0 10  4  8  5  9  5  4]\n",
      " [ 2 10 10  0  5  6  2  6  6  2]\n",
      " [ 8  7  4  5  0  2  3  1  3  3]\n",
      " [ 5  3  8  6  2  0  9  9  5  6]\n",
      " [ 4  9  5  2  3  9  0  6  1  6]\n",
      " [ 4  2  9  6  1  9  6  0  1  8]\n",
      " [ 2  7  5  6  3  5  1  1  0  2]\n",
      " [ 2  3  4  2  3  6  6  8  2  0]]\n"
     ]
    }
   ],
   "source": [
    "TEST_MATRIX_SIZE = 10\n",
    "ITERATIONS = 200\n",
    "import numpy as np\n",
    "\n",
    "\n",
    "# Generate a small test set\n",
    "Test_Adjacency_Matrix = np.random.randint(10, size=(TEST_MATRIX_SIZE,TEST_MATRIX_SIZE))\n",
    "Test_Adjacency_Matrix = np.add(Test_Adjacency_Matrix, np.ones(TEST_MATRIX_SIZE, dtype=int))\n",
    "\n",
    "for i in range(len(Test_Adjacency_Matrix[0])):\n",
    "    for j in range(i , len(Test_Adjacency_Matrix[1])):\n",
    "        if (i==j):\n",
    "            Test_Adjacency_Matrix[i][j] = 0\n",
    "        else:\n",
    "            Test_Adjacency_Matrix[i,j] = Test_Adjacency_Matrix[j,i]\n",
    "\n",
    "print(Test_Adjacency_Matrix)\n",
    "\n",
    "Target_Data = Test_Adjacency_Matrix"
   ]
  },
  {
   "cell_type": "markdown",
   "source": [
    "##### Some settings"
   ],
   "metadata": {
    "collapsed": false,
    "pycharm": {
     "name": "#%% md\n"
    }
   }
  },
  {
   "cell_type": "code",
   "execution_count": 460,
   "outputs": [],
   "source": [
    "initial_schedule = list(range(len(Target_Data)))"
   ],
   "metadata": {
    "collapsed": false,
    "pycharm": {
     "name": "#%%\n"
    }
   }
  },
  {
   "cell_type": "markdown",
   "source": [
    "##### Some methods"
   ],
   "metadata": {
    "collapsed": false,
    "pycharm": {
     "name": "#%% md\n"
    }
   }
  },
  {
   "cell_type": "code",
   "execution_count": 461,
   "outputs": [],
   "source": [
    "def Get_Schedule_Length(given_schedule):\n",
    "    # Adjust the given_schedule (schedule), for example [A, B, C] -> [A, B, C, A]\n",
    "    # then compute the travel distance of the given array.\n",
    "    given_schedule = np.append(given_schedule, given_schedule[0])\n",
    "    sum = 0\n",
    "    for j in range(len(given_schedule)-1):\n",
    "        sum += Target_Data[given_schedule[j],given_schedule[j+1]]\n",
    "    return sum"
   ],
   "metadata": {
    "collapsed": false,
    "pycharm": {
     "name": "#%%\n"
    }
   }
  },
  {
   "cell_type": "markdown",
   "source": [
    "##### 3(a) Hill Climbing"
   ],
   "metadata": {
    "collapsed": false,
    "pycharm": {
     "name": "#%% md\n"
    }
   }
  },
  {
   "cell_type": "code",
   "execution_count": 462,
   "outputs": [],
   "source": [
    "best_schedule = initial_schedule\n",
    "best_result = Get_Schedule_Length(initial_schedule)\n",
    "\n",
    "HC = []\n",
    "HC.append(best_result)\n",
    "\n",
    "# Start Iterations\n",
    "for i in range(ITERATIONS):\n",
    "    for j in range(1000): # try 10000 possible route in each iteration. (much less than 15!)\n",
    "        current_schedule = np.random.permutation(best_schedule)\n",
    "        if(Get_Schedule_Length(current_schedule)<best_result):\n",
    "            best_schedule = current_schedule\n",
    "            best_result = Get_Schedule_Length(current_schedule)\n",
    "    HC.append(best_result)\n",
    "# print(HC)\n",
    "HC_best_schedule = best_schedule"
   ],
   "metadata": {
    "collapsed": false,
    "pycharm": {
     "name": "#%%\n"
    }
   }
  },
  {
   "cell_type": "markdown",
   "source": [
    "##### 3(b) Random Walk"
   ],
   "metadata": {
    "collapsed": false,
    "pycharm": {
     "name": "#%% md\n"
    }
   }
  },
  {
   "cell_type": "code",
   "execution_count": 463,
   "outputs": [],
   "source": [
    "best_result = Get_Schedule_Length(initial_schedule)\n",
    "best_schedule = initial_schedule\n",
    "RW = []\n",
    "RW.append(best_result)\n",
    "\n",
    "for i in range(ITERATIONS):\n",
    "    # random select an route from the permutation of old schedule\n",
    "    current_schedule = np.random.permutation(best_schedule)\n",
    "    if(Get_Schedule_Length(current_schedule)<best_result):\n",
    "        best_schedule = current_schedule\n",
    "        best_result = Get_Schedule_Length(current_schedule)\n",
    "    RW.append(best_result)\n",
    "\n",
    "RW_best_schedule = best_schedule"
   ],
   "metadata": {
    "collapsed": false,
    "pycharm": {
     "name": "#%%\n"
    }
   }
  },
  {
   "cell_type": "markdown",
   "source": [
    "##### 3(c) Genetic Algorithm"
   ],
   "metadata": {
    "collapsed": false,
    "pycharm": {
     "name": "#%% md\n"
    }
   }
  },
  {
   "cell_type": "code",
   "execution_count": 464,
   "outputs": [],
   "source": [
    "POPULATION_SIZE = 10\n",
    "CROSSOVER_PROBABILITY = 0.1\n",
    "NUMBER_OF_PAIRS_OF_MULTI_BIT_FLIP = 2\n",
    "\n",
    "def Generate_Population(initial_schedule):\n",
    "    Population = []\n",
    "    for i in range(POPULATION_SIZE):\n",
    "        Single_Creature = np.random.permutation(initial_schedule)\n",
    "        Population.append(Single_Creature)\n",
    "    return Population\n",
    "\n",
    "def Roulete_Wheel_Selection(Given_Matrix):\n",
    "    A = []\n",
    "    max = -np.inf\n",
    "    for i in range(len(Given_Matrix)):\n",
    "        schedule_length = Get_Schedule_Length(Given_Matrix[i])\n",
    "        A.append(schedule_length)\n",
    "        if schedule_length > max:\n",
    "            max = schedule_length\n",
    "\n",
    "    sum = 0\n",
    "    for j in range(len(Given_Matrix)):\n",
    "        sum += A[j]\n",
    "        A[j] = sum\n",
    "\n",
    "    Matepool = []\n",
    "    for k in range(int(len(Given_Matrix)/2)):\n",
    "        a = np.random.randint(sum)\n",
    "        i=0\n",
    "        while(a>A[i]):\n",
    "            i += 1\n",
    "        Matepool.append(Given_Matrix[i])\n",
    "\n",
    "    return Matepool\n",
    "\n",
    "def Uniform_Crossover(Given_Matrix):\n",
    "    Test_Matrix = Given_Matrix\n",
    "    for i in range(int(len(Test_Matrix)/2)):\n",
    "\n",
    "        for j in range(int(len(Test_Matrix[i]))):\n",
    "            a = np.random.uniform(0,1,1)\n",
    "            if a >= CROSSOVER_PROBABILITY:\n",
    "                # SWAP the elements among two weapons lists.\n",
    "                Test_Matrix[2*i][j], Test_Matrix[2*i+1][j] = Test_Matrix[2*i+1][j], Test_Matrix[2*i][j]\n",
    "    return Test_Matrix\n",
    "\n",
    "def Multi_Bit_Flip_Mutation(Given_Matrix, Number_of_Pairs_of_Multi_Bit_Flip):\n",
    "    Test_Matrix = Given_Matrix\n",
    "    # Doubling the population size in the step\\\n",
    "    # \\to make the amount of creatures fixed in each generations.\n",
    "    Test_Matrix = np.concatenate((Test_Matrix, Test_Matrix))\n",
    "\n",
    "    #\n",
    "    for i in range(int(len(Test_Matrix)/2)):\n",
    "        for j in range(Number_of_Pairs_of_Multi_Bit_Flip):\n",
    "            interchange_location = np.random.randint(int(len(Test_Matrix[i])),size=2)\n",
    "            Test_Matrix[i][interchange_location[0]], Test_Matrix[i][interchange_location[1]] =\\\n",
    "            Test_Matrix[i][interchange_location[1]], Test_Matrix[i][interchange_location[0]]\n",
    "\n",
    "    return Test_Matrix\n",
    "\n",
    "def Get_the_Best_Combination(Given_Matrix, print_result):\n",
    "    min = np.inf\n",
    "    for i in range(len(Given_Matrix)):\n",
    "        if Get_Schedule_Length(Given_Matrix[i]) < min:\n",
    "            min = Get_Schedule_Length(Given_Matrix[i])\n",
    "            best_combination = Given_Matrix[i]\n",
    "    if (print_result):\n",
    "        print(f'   The best combination in the current generation is: {best_combination}'\n",
    "              f'\\n    with schedule travel distance: {min}')\n",
    "    return min, best_combination\n",
    "\n",
    "initial_schedule = list(range(len(Target_Data)))\n",
    "\n",
    "GA = []\n",
    "best_result = np.inf\n",
    "Population = Generate_Population(initial_schedule)\n",
    "for iters in range(int(ITERATIONS/POPULATION_SIZE)):\n",
    "    Selected_Creatures = Roulete_Wheel_Selection(Population)\n",
    "    Syngamy = Uniform_Crossover(Selected_Creatures)\n",
    "    Next_Generation = Multi_Bit_Flip_Mutation(Syngamy,\n",
    "                                              NUMBER_OF_PAIRS_OF_MULTI_BIT_FLIP)\n",
    "    Population = Next_Generation\n",
    "    current_result, current_schedule = Get_the_Best_Combination(Next_Generation,\n",
    "                                                                print_result=0)\n",
    "\n",
    "    if(Get_Schedule_Length(current_schedule)<best_result):\n",
    "        best_schedule = current_schedule\n",
    "        best_result = Get_Schedule_Length(current_schedule)\n",
    "    # Since GA is a population-wise comparison algorithms,\n",
    "    # append the best result multiple times to compare GA with other algorithms.\n",
    "    for population_size in range(POPULATION_SIZE):\n",
    "        GA.append(best_result)"
   ],
   "metadata": {
    "collapsed": false,
    "pycharm": {
     "name": "#%%\n"
    }
   }
  },
  {
   "cell_type": "markdown",
   "source": [
    "##### 3(d) Simulated Annealing"
   ],
   "metadata": {
    "collapsed": false,
    "pycharm": {
     "name": "#%% md\n"
    }
   }
  },
  {
   "cell_type": "code",
   "execution_count": 465,
   "outputs": [
    {
     "name": "stderr",
     "output_type": "stream",
     "text": [
      "<ipython-input-465-4a034b8211a1>:40: RuntimeWarning: overflow encountered in exp\n",
      "  Prob_of_X_2 = np.exp(-del_f/(1*temp))\n"
     ]
    },
    {
     "name": "stdout",
     "output_type": "stream",
     "text": [
      "   The best combination over all generations is: [8 6 3 0 9 2 4 5 1 7]\n",
      "\n",
      "    with travel distance: 23\n"
     ]
    }
   ],
   "source": [
    "# Hyperparameters\n",
    "NO_UPDATE_TIMES = 10e5 #10e4\n",
    "\n",
    "# Generate Initial Temperature\n",
    "rand_4pts = []\n",
    "for i in range(4):\n",
    "    Creature = np.random.permutation(initial_schedule)\n",
    "    rand_4pts.append(Get_Schedule_Length(Creature))\n",
    "init_temp = np.average(rand_4pts)\n",
    "\n",
    "# Generate Initial Schedule\n",
    "current_schedule = np.random.permutation(initial_schedule)\n",
    "SA = []\n",
    "\n",
    "## Some Initializations\n",
    "n = 2 # iterations\n",
    "c = 0.7 # temperature reduction factor\n",
    "no_update_times = 0\n",
    "des_schedule = current_schedule\n",
    "temp = init_temp\n",
    "iters_sum = 0\n",
    "\n",
    "while(no_update_times<=NO_UPDATE_TIMES):\n",
    "\n",
    "    iter = 0\n",
    "\n",
    "    while((iter<=n)&(no_update_times<=NO_UPDATE_TIMES)):\n",
    "        # Compute current_state\n",
    "        current_state = Get_Schedule_Length(des_schedule)\n",
    "\n",
    "        r = np.random.permutation(des_schedule)\n",
    "        attempt_state = Get_Schedule_Length(r)\n",
    "\n",
    "        # Step 3 and Step 4\n",
    "        del_f = attempt_state - current_state\n",
    "\n",
    "        if del_f<0:\n",
    "            #print(f'del_f:{del_f}')\n",
    "            c = np.random.uniform(0, 1, 1)\n",
    "            Prob_of_X_2 = np.exp(-del_f/(1*temp))\n",
    "            #print(f' r = {r} , $P(X_2)$ = {Prob_of_X_2}')\n",
    "            if Prob_of_X_2 > c:\n",
    "                des_schedule = r\n",
    "                #print(f'! assign new design (x) = {des_schedule}')\n",
    "                SA.append(float(Get_Schedule_Length(r)))\n",
    "                current_state = attempt_state\n",
    "                temp = c*temp\n",
    "                no_update_times = 0\n",
    "        else:\n",
    "            no_update_times +=1\n",
    "\n",
    "        iter += 1\n",
    "        iters_sum += 1\n",
    "\n",
    "print(f'   The best combination over all generations is: {des_schedule}')\n",
    "print(f'\\n    with travel distance: {current_state}')"
   ],
   "metadata": {
    "collapsed": false,
    "pycharm": {
     "name": "#%%\n"
    }
   }
  },
  {
   "cell_type": "markdown",
   "source": [
    "##### 3(e) Tabu Search"
   ],
   "metadata": {
    "collapsed": false,
    "pycharm": {
     "name": "#%% md\n"
    }
   }
  },
  {
   "cell_type": "code",
   "execution_count": 466,
   "outputs": [],
   "source": [
    "# build a boolean table for TS, to determine whether swap or not\n",
    "size = len(Target_Data)\n",
    "TS_boolean_table = np.zeros((size, size), dtype=bool)\n",
    "for i in range(size):\n",
    "    TS_boolean_table[0, i] = TS_boolean_table[i, 0] = 1\n",
    "\n",
    "def Get_Permutation(current_schedule):\n",
    "    permutation = []\n",
    "    for i in range(len(current_schedule)):\n",
    "        for j in range(i+1, len(current_schedule)):\n",
    "            neighbor = current_schedule.copy()\n",
    "            neighbor[i] = current_schedule[j]\n",
    "            neighbor[j] = current_schedule[i]\n",
    "\n",
    "            # to convenient the work, I set the data structure of permutation matrix as follow\n",
    "            # i, j will memorized which cities were swapped in the current route.\n",
    "            # example:\n",
    "            #   0   1   2      3    ...   15       16      17      18\n",
    "            #   i   j   City1  City2      City14   City15  City1   0 (the place to fill in total travel distance)\n",
    "            #   .   .   .      .    ...   .        .       .       .\n",
    "            #   .   .   .      .    ...   .        .       .       .\n",
    "            #   .   .   .      .    ...   .        .       .       .\n",
    "\n",
    "            loc = [i, j]    # correspond to boolean table\n",
    "            loc.extend(neighbor)    # schedule after randomly swapping two cities\n",
    "            loc.extend([0,0])   # a place to memorized the city we start and another for total distance\n",
    "            permutation.append(loc)\n",
    "    permutation = np.array(permutation)\n",
    "    return permutation\n",
    "\n",
    "def Get_New_Schedule(permutation, best_result, boolean_table):\n",
    "    # declaration\n",
    "    store_i = 0\n",
    "    store_j = 0\n",
    "    current_schedule = []\n",
    "\n",
    "    # compare all possibilities route in permutation matrix, and choose the best.\n",
    "    for i in range(len(permutation)):\n",
    "        sum = Get_Schedule_Length(permutation[i, 2:2+len(Target_Data)])\n",
    "\n",
    "        if boolean_table[permutation[i,0], permutation[i,1]]!=1:\n",
    "            permutation[i,2+len(Target_Data)+1] = int(sum)\n",
    "            if (sum < best_result):\n",
    "                best_result = sum\n",
    "                store_i = permutation[i,0]\n",
    "                store_j = permutation[i,1]\n",
    "                current_schedule = permutation[i, 2:2+len(Target_Data)]\n",
    "\n",
    "    # mark the cities that have been swapped\n",
    "    boolean_table[store_i, store_j] = 1\n",
    "    boolean_table[store_j, store_i] = 1\n",
    "\n",
    "    return current_schedule, best_result, boolean_table"
   ],
   "metadata": {
    "collapsed": false,
    "pycharm": {
     "name": "#%%\n"
    }
   }
  },
  {
   "cell_type": "code",
   "execution_count": 467,
   "outputs": [
    {
     "name": "stderr",
     "output_type": "stream",
     "text": [
      "<ipython-input-467-a4cacc8dff55>:14: DeprecationWarning: elementwise comparison failed; this will raise an error in the future.\n",
      "  if current_schedule != []:\n"
     ]
    }
   ],
   "source": [
    "current_schedule = initial_schedule\n",
    "TS = []\n",
    "\n",
    "best_schedule = current_schedule\n",
    "best_result = Get_Schedule_Length(initial_schedule)\n",
    "TS.append(best_result)\n",
    "\n",
    "for i in range(ITERATIONS):\n",
    "    # print(f'Step:{i}')\n",
    "    permutation = Get_Permutation(best_schedule)\n",
    "    current_schedule, best_result, TS_boolean_table = Get_New_Schedule(permutation,\n",
    "                                                                       best_result,\n",
    "                                                                       TS_boolean_table)\n",
    "    if current_schedule != []:\n",
    "        best_schedule = current_schedule\n",
    "    else:\n",
    "        pass\n",
    "\n",
    "    TS.append(Get_Schedule_Length(best_schedule))\n",
    "\n",
    "best_result = Get_Schedule_Length(best_schedule)\n",
    "TS_best_schedule = best_schedule"
   ],
   "metadata": {
    "collapsed": false,
    "pycharm": {
     "name": "#%%\n"
    }
   }
  },
  {
   "cell_type": "code",
   "execution_count": 468,
   "outputs": [
    {
     "data": {
      "text/plain": "<Figure size 432x288 with 1 Axes>",
      "image/png": "[encoded data removed]"
     },
     "metadata": {
      "needs_background": "light"
     },
     "output_type": "display_data"
    }
   ],
   "source": [
    "import matplotlib.pyplot as plt\n",
    "plot1 = plt.stairs(RW, label=f'Random Walk: {RW[-1]}', baseline=None)\n",
    "plot1 = plt.stairs(HC, label=f'Hill Climbing: {HC[-1]}', baseline=None)\n",
    "plot1 = plt.stairs(GA, label=f'Genetic Algorithm: {GA[-1]}', baseline=None)\n",
    "plot1 = plt.stairs(SA, label=f'Simulated Annealing: {SA[-1]}', baseline=None)\n",
    "plot1 = plt.stairs(TS, label=f'Tabular Search: {TS[-1]}', baseline=None)\n",
    "\n",
    "plot1 = plt.xlabel('Iterations')\n",
    "plot1 = plt.ylabel('Travel Distances')\n",
    "plot1 = plt.title('FE plot')\n",
    "# plt.xlim()\n",
    "\n",
    "plot1 = plt.grid(axis='both', color='0.95')\n",
    "\n",
    "plot1 = plt.legend(loc=3)\n",
    "\n",
    "plot1 = plt.show()"
   ],
   "metadata": {
    "collapsed": false,
    "pycharm": {
     "name": "#%%\n"
    }
   }
  },
  {
   "cell_type": "code",
   "execution_count": 469,
   "outputs": [
    {
     "name": "stdout",
     "output_type": "stream",
     "text": [
      "[50.0, 45.0, 35.0, 33.0, 30.0, 29.0, 27.0, 26.0, 25.0, 23.0]\n",
      "[6 3 0 9 2 4 5 1 7 8]\n",
      "[0 3 6 2 4 5 1 7 8 9]\n"
     ]
    }
   ],
   "source": [
    "print(SA)\n",
    "print(HC_best_schedule)\n",
    "print(TS_best_schedule)"
   ],
   "metadata": {
    "collapsed": false,
    "pycharm": {
     "name": "#%%\n"
    }
   }
  }
 ],
 "metadata": {
  "kernelspec": {
   "display_name": "Python 3",
   "language": "python",
   "name": "python3"
  },
  "language_info": {
   "codemirror_mode": {
    "name": "ipython",
    "version": 2
   },
   "file_extension": ".py",
   "mimetype": "text/x-python",
   "name": "python",
   "nbconvert_exporter": "python",
   "pygments_lexer": "ipython2",
   "version": "2.7.6"
  }
 },
 "nbformat": 4,
 "nbformat_minor": 0
}