{
 "cells": [
  {
   "cell_type": "code",
   "execution_count": 278,
   "metadata": {
    "collapsed": true
   },
   "outputs": [
    {
     "name": "stdout",
     "output_type": "stream",
     "text": [
      "[[0 2 1 2 2]\n",
      " [2 0 6 6 3]\n",
      " [1 6 0 6 6]\n",
      " [2 6 6 0 3]\n",
      " [2 3 6 3 0]]\n"
     ]
    }
   ],
   "source": [
    "TEST_MATRIX_SIZE = 5\n",
    "ITERATIONS = 20\n",
    "import numpy as np\n",
    "\n",
    "\n",
    "# Generate a small test set\n",
    "Test_Adjacency_Matrix = np.random.randint(10, size=(TEST_MATRIX_SIZE,TEST_MATRIX_SIZE))\n",
    "Test_Adjacency_Matrix = np.add(Test_Adjacency_Matrix, np.ones(TEST_MATRIX_SIZE, dtype=int))\n",
    "\n",
    "for i in range(len(Test_Adjacency_Matrix[0])):\n",
    "    for j in range(i , len(Test_Adjacency_Matrix[1])):\n",
    "        if (i==j):\n",
    "            Test_Adjacency_Matrix[i][j] = 0\n",
    "        else:\n",
    "            Test_Adjacency_Matrix[i,j] = Test_Adjacency_Matrix[j,i]\n",
    "\n",
    "print(Test_Adjacency_Matrix)"
   ]
  },
  {
   "cell_type": "markdown",
   "source": [
    "##### Some settings"
   ],
   "metadata": {
    "collapsed": false,
    "pycharm": {
     "name": "#%% md\n"
    }
   }
  },
  {
   "cell_type": "code",
   "execution_count": 279,
   "outputs": [],
   "source": [
    "initial_schedule = list(range(len(Test_Adjacency_Matrix)))"
   ],
   "metadata": {
    "collapsed": false,
    "pycharm": {
     "name": "#%%\n"
    }
   }
  },
  {
   "cell_type": "markdown",
   "source": [
    "##### Some methods"
   ],
   "metadata": {
    "collapsed": false,
    "pycharm": {
     "name": "#%% md\n"
    }
   }
  },
  {
   "cell_type": "code",
   "execution_count": 280,
   "outputs": [],
   "source": [
    "def Get_Schedule_Length(given_schedule):\n",
    "    # Adjust the given_schedule (schedule), for example [A, B, C] -> [A, B, C, A]\n",
    "    # then compute the travel distance of the given array.\n",
    "    given_schedule = np.append(given_schedule, given_schedule[0])\n",
    "    sum = 0\n",
    "    for j in range(len(given_schedule)-1):\n",
    "        sum += Test_Adjacency_Matrix[given_schedule[j],given_schedule[j+1]]\n",
    "    return sum\n",
    "\n",
    "def Get_Permutation(current_schedule):\n",
    "    permutation = []\n",
    "    # for i in range(len(current_schedule)):\n",
    "    #     for j in range(i+1, len(current_schedule)):\n",
    "    #         neighbor = current_schedule.copy()\n",
    "    #         neighbor[i] = current_schedule[j]\n",
    "    #         neighbor[j] = current_schedule[i]\n",
    "    #         permutation.append(neighbor)\n",
    "    # permutation = np.array(permutation)\n",
    "    permutation = np.random.permutation(current_schedule)\n",
    "    return permutation"
   ],
   "metadata": {
    "collapsed": false,
    "pycharm": {
     "name": "#%%\n"
    }
   }
  },
  {
   "cell_type": "markdown",
   "source": [
    "##### 3(a) Hill Climbing"
   ],
   "metadata": {
    "collapsed": false,
    "pycharm": {
     "name": "#%% md\n"
    }
   }
  },
  {
   "cell_type": "code",
   "execution_count": 281,
   "outputs": [],
   "source": [
    "best_schedule = initial_schedule\n",
    "best_result = np.inf\n",
    "\n",
    "HC = []\n",
    "\n",
    "# Start Iterations\n",
    "for i in range(ITERATIONS):\n",
    "    for j in range(1000): # try 1000 possible route in each iteration. (much less than 15!)\n",
    "        current_schedule = np.random.permutation(best_schedule)\n",
    "        if(Get_Schedule_Length(current_schedule)<best_result):\n",
    "            best_schedule = current_schedule\n",
    "            best_result = Get_Schedule_Length(current_schedule)\n",
    "    HC.append(best_result)\n",
    "# print(HC)\n",
    "HC_best_schedule = best_schedule"
   ],
   "metadata": {
    "collapsed": false,
    "pycharm": {
     "name": "#%%\n"
    }
   }
  },
  {
   "cell_type": "markdown",
   "source": [
    "##### 3(b) Random Walk"
   ],
   "metadata": {
    "collapsed": false,
    "pycharm": {
     "name": "#%% md\n"
    }
   }
  },
  {
   "cell_type": "code",
   "execution_count": 282,
   "outputs": [],
   "source": [
    "best_result = Get_Schedule_Length(initial_schedule)\n",
    "best_schedule = initial_schedule\n",
    "RW = []\n",
    "RW.append(best_result)\n",
    "\n",
    "for i in range(ITERATIONS):\n",
    "    # random select an route from the permutation of old schedule\n",
    "    current_schedule = np.random.permutation(best_schedule)\n",
    "    if(Get_Schedule_Length(current_schedule)<best_result):\n",
    "        best_schedule = current_schedule\n",
    "        best_result = Get_Schedule_Length(current_schedule)\n",
    "    RW.append(best_result)\n",
    "\n",
    "RW_best_schedule = best_schedule"
   ],
   "metadata": {
    "collapsed": false,
    "pycharm": {
     "name": "#%%\n"
    }
   }
  },
  {
   "cell_type": "markdown",
   "source": [
    "##### 3(c) Genetic Algorithm"
   ],
   "metadata": {
    "collapsed": false,
    "pycharm": {
     "name": "#%% md\n"
    }
   }
  },
  {
   "cell_type": "code",
   "execution_count": 283,
   "outputs": [],
   "source": [
    "POPULATION_SIZE = 10\n",
    "CROSSOVER_PROBABILITY = 0.1\n",
    "NUMBER_OF_PAIRS_OF_MULTI_BIT_FLIP = 2\n",
    "\n",
    "def Generate_Population(initial_schedule):\n",
    "    Population = []\n",
    "    for i in range(POPULATION_SIZE):\n",
    "        Single_Creature = Get_Permutation(initial_schedule)\n",
    "        Population.append(Single_Creature)\n",
    "    return Population\n",
    "\n",
    "def Roulete_Wheel_Selection(Given_Matrix):\n",
    "    A = []\n",
    "    max = -np.inf\n",
    "    for i in range(len(Given_Matrix)):\n",
    "        schedule_length = Get_Schedule_Length(Given_Matrix[i])\n",
    "        A.append(schedule_length)\n",
    "        if schedule_length > max:\n",
    "            max = schedule_length\n",
    "\n",
    "    sum = 0\n",
    "    for j in range(len(Given_Matrix)):\n",
    "        sum += A[j]\n",
    "        A[j] = sum\n",
    "\n",
    "    Matepool = []\n",
    "    for k in range(int(len(Given_Matrix)/2)):\n",
    "        a = np.random.randint(sum)\n",
    "        i=0\n",
    "        while(a>A[i]):\n",
    "            i += 1\n",
    "        Matepool.append(Given_Matrix[i])\n",
    "\n",
    "    return Matepool\n",
    "\n",
    "def Uniform_Crossover(Given_Matrix):\n",
    "    Test_Matrix = Given_Matrix\n",
    "    for i in range(int(len(Test_Matrix)/2)):\n",
    "\n",
    "        for j in range(int(len(Test_Matrix[i]))):\n",
    "            a = np.random.uniform(0,1,1)\n",
    "            if a >= CROSSOVER_PROBABILITY:\n",
    "                # SWAP the elements among two weapons lists.\n",
    "                Test_Matrix[2*i][j], Test_Matrix[2*i+1][j] = Test_Matrix[2*i+1][j], Test_Matrix[2*i][j]\n",
    "    return Test_Matrix\n",
    "\n",
    "def Multi_Bit_Flip_Mutation(Given_Matrix, Number_of_Pairs_of_Multi_Bit_Flip):\n",
    "    Test_Matrix = Given_Matrix\n",
    "    # Doubling the population size in the step\\\n",
    "    # \\to make the amount of creatures fixed in each generations.\n",
    "    Test_Matrix = np.concatenate((Test_Matrix, Test_Matrix))\n",
    "\n",
    "    #\n",
    "    for i in range(int(len(Test_Matrix)/2)):\n",
    "        for j in range(Number_of_Pairs_of_Multi_Bit_Flip):\n",
    "            interchange_location = np.random.randint(int(len(Test_Matrix[i])),size=2)\n",
    "            Test_Matrix[i][interchange_location[0]], Test_Matrix[i][interchange_location[1]] =\\\n",
    "            Test_Matrix[i][interchange_location[1]], Test_Matrix[i][interchange_location[0]]\n",
    "\n",
    "    return Test_Matrix\n",
    "\n",
    "def Get_the_Best_Combination(Given_Matrix, print_result):\n",
    "    min = np.inf\n",
    "    for i in range(len(Given_Matrix)):\n",
    "        if Get_Schedule_Length(Given_Matrix[i]) < min:\n",
    "            min = Get_Schedule_Length(Given_Matrix[i])\n",
    "            best_combination = Given_Matrix[i]\n",
    "    if (print_result):\n",
    "        print(f'   The best combination in the current generation is: {best_combination}'\n",
    "              f'\\n    with schedule travel distance: {min}')\n",
    "    return min, best_combination\n",
    "\n",
    "initial_schedule = list(range(len(Test_Adjacency_Matrix)))\n",
    "\n",
    "GA = []\n",
    "best_result = np.inf\n",
    "Population = Generate_Population(initial_schedule)\n",
    "for iters in range(int(ITERATIONS/POPULATION_SIZE)):\n",
    "    Selected_Creatures = Roulete_Wheel_Selection(Population)\n",
    "    Syngamy = Uniform_Crossover(Selected_Creatures)\n",
    "    Next_Generation = Multi_Bit_Flip_Mutation(Syngamy,\n",
    "                                              NUMBER_OF_PAIRS_OF_MULTI_BIT_FLIP)\n",
    "    Population = Next_Generation\n",
    "    current_result, current_schedule = Get_the_Best_Combination(Next_Generation,\n",
    "                                                                print_result=0)\n",
    "\n",
    "    if(Get_Schedule_Length(current_schedule)<best_result):\n",
    "        best_schedule = current_schedule\n",
    "        best_result = Get_Schedule_Length(current_schedule)\n",
    "    # Since GA is a population-wise comparison algorithms,\n",
    "    # append the best result multiple times to compare GA with other algorithms.\n",
    "    for population_size in range(POPULATION_SIZE):\n",
    "        GA.append(best_result)"
   ],
   "metadata": {
    "collapsed": false,
    "pycharm": {
     "name": "#%%\n"
    }
   }
  },
  {
   "cell_type": "code",
   "execution_count": 284,
   "outputs": [
    {
     "data": {
      "text/plain": "<Figure size 432x288 with 1 Axes>",
      "image/png": "[encoded data removed]"
     },
     "metadata": {
      "needs_background": "light"
     },
     "output_type": "display_data"
    }
   ],
   "source": [
    "import matplotlib.pyplot as plt\n",
    "plot1 = plt.stairs(RW, label=f'Random Walk: {RW[-1]}', baseline=None)\n",
    "plot1 = plt.stairs(HC, label=f'Hill Climbing: {HC[-1]}', baseline=None)\n",
    "plot1 = plt.stairs(GA, label=f'Genetic Algorithm: {GA[-1]}', baseline=None)\n",
    "# plot1 = plt.stairs(TS, label='Tabular Search', baseline=None)\n",
    "\n",
    "plot1 = plt.xlabel('Iterations')\n",
    "plot1 = plt.ylabel('Travel Distances')\n",
    "plot1 = plt.title('FE plot of the comparison of three algorithms')\n",
    "# plt.xlim()\n",
    "\n",
    "plot1 = plt.grid(axis='both', color='0.95')\n",
    "\n",
    "plot1 = plt.legend(loc=1)\n",
    "\n",
    "plot1 = plt.show()"
   ],
   "metadata": {
    "collapsed": false,
    "pycharm": {
     "name": "#%%\n"
    }
   }
  },
  {
   "cell_type": "code",
   "execution_count": 285,
   "outputs": [
    {
     "name": "stdout",
     "output_type": "stream",
     "text": [
      "[1 0 2 3 4]\n"
     ]
    }
   ],
   "source": [
    "print(HC_best_schedule)"
   ],
   "metadata": {
    "collapsed": false,
    "pycharm": {
     "name": "#%%\n"
    }
   }
  }
 ],
 "metadata": {
  "kernelspec": {
   "display_name": "Python 3",
   "language": "python",
   "name": "python3"
  },
  "language_info": {
   "codemirror_mode": {
    "name": "ipython",
    "version": 2
   },
   "file_extension": ".py",
   "mimetype": "text/x-python",
   "name": "python",
   "nbconvert_exporter": "python",
   "pygments_lexer": "ipython2",
   "version": "2.7.6"
  }
 },
 "nbformat": 4,
 "nbformat_minor": 0
}