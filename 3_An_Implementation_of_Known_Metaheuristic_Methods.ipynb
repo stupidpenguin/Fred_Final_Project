{
 "cells": [
  {
   "cell_type": "code",
   "execution_count": 77,
   "metadata": {
    "collapsed": true
   },
   "outputs": [
    {
     "name": "stdout",
     "output_type": "stream",
     "text": [
      "[[0 7 3 7 4]\n",
      " [7 0 8 2 3]\n",
      " [3 8 0 8 5]\n",
      " [7 2 8 0 7]\n",
      " [4 3 5 7 0]]\n"
     ]
    }
   ],
   "source": [
    "TEST_MATRIX_SIZE = 5\n",
    "ITERATIONS = 20\n",
    "import numpy as np\n",
    "\n",
    "\n",
    "# Generate a small test set\n",
    "Test_Adjacency_Matrix = np.random.randint(10, size=(TEST_MATRIX_SIZE,TEST_MATRIX_SIZE))\n",
    "Test_Adjacency_Matrix = np.add(Test_Adjacency_Matrix, np.ones(TEST_MATRIX_SIZE, dtype=int))\n",
    "\n",
    "for i in range(len(Test_Adjacency_Matrix[0])):\n",
    "    for j in range(i , len(Test_Adjacency_Matrix[1])):\n",
    "        if i==j:\n",
    "            Test_Adjacency_Matrix[i][j] = 0\n",
    "        else:\n",
    "            Test_Adjacency_Matrix[i,j] = Test_Adjacency_Matrix[j,i]\n",
    "\n",
    "print(Test_Adjacency_Matrix)\n",
    "\n",
    "Target_Data = Test_Adjacency_Matrix"
   ]
  },
  {
   "cell_type": "markdown",
   "source": [
    "##### Some settings"
   ],
   "metadata": {
    "collapsed": false,
    "pycharm": {
     "name": "#%% md\n"
    }
   }
  },
  {
   "cell_type": "code",
   "execution_count": 78,
   "outputs": [],
   "source": [
    "initial_schedule = list(range(len(Target_Data)))"
   ],
   "metadata": {
    "collapsed": false,
    "pycharm": {
     "name": "#%%\n"
    }
   }
  },
  {
   "cell_type": "markdown",
   "source": [
    "##### Some methods"
   ],
   "metadata": {
    "collapsed": false,
    "pycharm": {
     "name": "#%% md\n"
    }
   }
  },
  {
   "cell_type": "code",
   "execution_count": 79,
   "outputs": [],
   "source": [
    "def Get_Schedule_Length(given_schedule):\n",
    "    # Adjust the given_schedule (schedule), for example [A, B, C] -> [A, B, C, A]\n",
    "    # then compute the travel distance of the given array.\n",
    "    given_schedule = np.append(given_schedule, given_schedule[0])\n",
    "    sum = 0\n",
    "    for j in range(len(given_schedule)-1):\n",
    "        sum += Target_Data[given_schedule[j],given_schedule[j+1]]\n",
    "    return sum"
   ],
   "metadata": {
    "collapsed": false,
    "pycharm": {
     "name": "#%%\n"
    }
   }
  },
  {
   "cell_type": "markdown",
   "source": [
    "##### 3(a) Hill Climbing"
   ],
   "metadata": {
    "collapsed": false,
    "pycharm": {
     "name": "#%% md\n"
    }
   }
  },
  {
   "cell_type": "code",
   "execution_count": 80,
   "outputs": [],
   "source": [
    "best_schedule = initial_schedule\n",
    "best_result = Get_Schedule_Length(initial_schedule)\n",
    "\n",
    "HC = [best_result]\n",
    "\n",
    "# Start Iterations\n",
    "for i in range(ITERATIONS):\n",
    "    for j in range(1000): # try 10000 possible route in each iteration. (much less than 15!)\n",
    "        current_schedule = np.random.permutation(best_schedule)\n",
    "        if Get_Schedule_Length(current_schedule)<best_result:\n",
    "            best_schedule = current_schedule\n",
    "            best_result = Get_Schedule_Length(current_schedule)\n",
    "    HC.append(best_result)\n",
    "# print(HC)\n",
    "HC_best_schedule = best_schedule"
   ],
   "metadata": {
    "collapsed": false,
    "pycharm": {
     "name": "#%%\n"
    }
   }
  },
  {
   "cell_type": "markdown",
   "source": [
    "##### 3(b) Random Walk"
   ],
   "metadata": {
    "collapsed": false,
    "pycharm": {
     "name": "#%% md\n"
    }
   }
  },
  {
   "cell_type": "code",
   "execution_count": 81,
   "outputs": [],
   "source": [
    "best_result = Get_Schedule_Length(initial_schedule)\n",
    "best_schedule = initial_schedule\n",
    "RW = []\n",
    "RW.append(best_result)\n",
    "\n",
    "for i in range(ITERATIONS):\n",
    "    # random select an route from the permutation of old schedule\n",
    "    current_schedule = np.random.permutation(best_schedule)\n",
    "    if Get_Schedule_Length(current_schedule)<best_result:\n",
    "        best_schedule = current_schedule\n",
    "        best_result = Get_Schedule_Length(current_schedule)\n",
    "    RW.append(best_result)\n",
    "\n",
    "RW_best_schedule = best_schedule"
   ],
   "metadata": {
    "collapsed": false,
    "pycharm": {
     "name": "#%%\n"
    }
   }
  },
  {
   "cell_type": "markdown",
   "source": [
    "##### 3(c) Genetic Algorithm"
   ],
   "metadata": {
    "collapsed": false,
    "pycharm": {
     "name": "#%% md\n"
    }
   }
  },
  {
   "cell_type": "code",
   "execution_count": 82,
   "outputs": [],
   "source": [
    "POPULATION_SIZE = 10\n",
    "CROSSOVER_PROBABILITY = 0.1\n",
    "NUMBER_OF_PAIRS_OF_MULTI_BIT_FLIP = 2\n",
    "\n",
    "def Generate_Population(initial_schedule):\n",
    "    Population = []\n",
    "    for i in range(POPULATION_SIZE):\n",
    "        Single_Creature = np.random.permutation(initial_schedule)\n",
    "        Population.append(Single_Creature)\n",
    "    return Population\n",
    "\n",
    "def Roulete_Wheel_Selection(Given_Matrix):\n",
    "    A = []\n",
    "    max = -np.inf\n",
    "    for i in range(len(Given_Matrix)):\n",
    "        schedule_length = Get_Schedule_Length(Given_Matrix[i])\n",
    "        A.append(schedule_length)\n",
    "        if schedule_length > max:\n",
    "            max = schedule_length\n",
    "\n",
    "    sum = 0\n",
    "    for j in range(len(Given_Matrix)):\n",
    "        sum += A[j]\n",
    "        A[j] = sum\n",
    "\n",
    "    Matepool = []\n",
    "    for k in range(int(len(Given_Matrix)/2)):\n",
    "        a = np.random.randint(sum)\n",
    "        i=0\n",
    "        while(a>A[i]):\n",
    "            i += 1\n",
    "        Matepool.append(Given_Matrix[i])\n",
    "\n",
    "    return Matepool\n",
    "\n",
    "def Uniform_Crossover(Given_Matrix):\n",
    "    Test_Matrix = Given_Matrix\n",
    "    for i in range(int(len(Test_Matrix)/2)):\n",
    "\n",
    "        for j in range(int(len(Test_Matrix[i]))):\n",
    "            a = np.random.uniform(0,1,1)\n",
    "            if a >= CROSSOVER_PROBABILITY:\n",
    "                # SWAP the elements among two weapons lists.\n",
    "                Test_Matrix[2*i][j], Test_Matrix[2*i+1][j] = Test_Matrix[2*i+1][j], Test_Matrix[2*i][j]\n",
    "    return Test_Matrix\n",
    "\n",
    "def Multi_Bit_Flip_Mutation(Given_Matrix, Number_of_Pairs_of_Multi_Bit_Flip):\n",
    "    Test_Matrix = Given_Matrix\n",
    "    # Doubling the population size in the step\\\n",
    "    # \\to make the amount of creatures fixed in each generations.\n",
    "    Test_Matrix = np.concatenate((Test_Matrix, Test_Matrix))\n",
    "\n",
    "    #\n",
    "    for i in range(int(len(Test_Matrix)/2)):\n",
    "        for j in range(Number_of_Pairs_of_Multi_Bit_Flip):\n",
    "            interchange_location = np.random.randint(int(len(Test_Matrix[i])),size=2)\n",
    "            Test_Matrix[i][interchange_location[0]], Test_Matrix[i][interchange_location[1]] =\\\n",
    "            Test_Matrix[i][interchange_location[1]], Test_Matrix[i][interchange_location[0]]\n",
    "\n",
    "    return Test_Matrix\n",
    "\n",
    "def Get_the_Best_Combination(Given_Matrix, print_result):\n",
    "    min = np.inf\n",
    "    for i in range(len(Given_Matrix)):\n",
    "        if Get_Schedule_Length(Given_Matrix[i]) < min:\n",
    "            min = Get_Schedule_Length(Given_Matrix[i])\n",
    "            best_combination = Given_Matrix[i]\n",
    "    if (print_result):\n",
    "        print(f'   The best combination in the current generation is: {best_combination}'\n",
    "              f'\\n    with schedule travel distance: {min}')\n",
    "    return min, best_combination\n",
    "\n",
    "initial_schedule = list(range(len(Target_Data)))\n",
    "\n",
    "GA = []\n",
    "best_result = np.inf\n",
    "Population = Generate_Population(initial_schedule)\n",
    "for iters in range(int(ITERATIONS/POPULATION_SIZE)):\n",
    "    Selected_Creatures = Roulete_Wheel_Selection(Population)\n",
    "    Syngamy = Uniform_Crossover(Selected_Creatures)\n",
    "    Next_Generation = Multi_Bit_Flip_Mutation(Syngamy,\n",
    "                                              NUMBER_OF_PAIRS_OF_MULTI_BIT_FLIP)\n",
    "    Population = Next_Generation\n",
    "    current_result, current_schedule = Get_the_Best_Combination(Next_Generation,\n",
    "                                                                print_result=0)\n",
    "\n",
    "    if Get_Schedule_Length(current_schedule)<best_result:\n",
    "        best_schedule = current_schedule\n",
    "        best_result = Get_Schedule_Length(current_schedule)\n",
    "    # Since GA is a population-wise comparison algorithms,\n",
    "    # append the best result multiple times to compare GA with other algorithms.\n",
    "    for population_size in range(POPULATION_SIZE):\n",
    "        GA.append(best_result)"
   ],
   "metadata": {
    "collapsed": false,
    "pycharm": {
     "name": "#%%\n"
    }
   }
  },
  {
   "cell_type": "markdown",
   "source": [
    "##### 3(d) Simulated Annealing"
   ],
   "metadata": {
    "collapsed": false,
    "pycharm": {
     "name": "#%% md\n"
    }
   }
  },
  {
   "cell_type": "code",
   "execution_count": 83,
   "outputs": [
    {
     "name": "stdout",
     "output_type": "stream",
     "text": [
      "   The best combination over all generations is: [0 4 1 3 2]\n",
      "\n",
      "    with travel distance: 20\n"
     ]
    }
   ],
   "source": [
    "# Hyperparameters\n",
    "NO_UPDATE_TIMES = 10e5 #10e4\n",
    "\n",
    "# Generate Initial Temperature\n",
    "rand_4pts = []\n",
    "for i in range(4):\n",
    "    Creature = np.random.permutation(initial_schedule)\n",
    "    rand_4pts.append(Get_Schedule_Length(Creature))\n",
    "init_temp = np.average(rand_4pts)\n",
    "\n",
    "# Generate Initial Schedule\n",
    "current_schedule = np.random.permutation(initial_schedule)\n",
    "SA = []\n",
    "\n",
    "## Some Initializations\n",
    "n = 2 # iterations\n",
    "c = 0.7 # temperature reduction factor\n",
    "no_update_times = 0\n",
    "des_schedule = current_schedule\n",
    "temp = init_temp\n",
    "iters_sum = 0\n",
    "\n",
    "while no_update_times<=NO_UPDATE_TIMES:\n",
    "\n",
    "    iter = 0\n",
    "\n",
    "    while (iter <= n)&(no_update_times <= NO_UPDATE_TIMES):\n",
    "        # Compute current_state\n",
    "        current_state = Get_Schedule_Length(des_schedule)\n",
    "\n",
    "        r = np.random.permutation(des_schedule)\n",
    "        attempt_state = Get_Schedule_Length(r)\n",
    "\n",
    "        # Step 3 and Step 4\n",
    "        del_f = attempt_state - current_state\n",
    "\n",
    "        if del_f<0:\n",
    "            #print(f'del_f:{del_f}')\n",
    "            c = np.random.uniform(0, 1, 1)\n",
    "            Prob_of_X_2 = np.exp(-del_f/(1*temp))\n",
    "            #print(f' r = {r} , $P(X_2)$ = {Prob_of_X_2}')\n",
    "            if Prob_of_X_2 > c:\n",
    "                des_schedule = r\n",
    "                #print(f'! assign new design (x) = {des_schedule}')\n",
    "                SA.append(float(Get_Schedule_Length(r)))\n",
    "                current_state = attempt_state\n",
    "                temp = c*temp\n",
    "                no_update_times = 0\n",
    "        else:\n",
    "            no_update_times +=1\n",
    "\n",
    "        iter += 1\n",
    "        iters_sum += 1\n",
    "\n",
    "print(f'   The best combination over all generations is: {des_schedule}')\n",
    "print(f'\\n    with travel distance: {current_state}')"
   ],
   "metadata": {
    "collapsed": false,
    "pycharm": {
     "name": "#%%\n"
    }
   }
  },
  {
   "cell_type": "markdown",
   "source": [
    "##### 3(e) Tabu Search"
   ],
   "metadata": {
    "collapsed": false,
    "pycharm": {
     "name": "#%% md\n"
    }
   }
  },
  {
   "cell_type": "code",
   "execution_count": 84,
   "outputs": [],
   "source": [
    "# build a boolean table for TS, to determine whether swap or not\n",
    "size = len(Target_Data)\n",
    "TS_boolean_table = np.zeros((size, size), dtype=bool)\n",
    "for i in range(size):\n",
    "    TS_boolean_table[0, i] = TS_boolean_table[i, 0] = 1\n",
    "\n",
    "def Get_Permutation(current_schedule):\n",
    "    permutation = []\n",
    "    for i in range(len(current_schedule)):\n",
    "        for j in range(i+1, len(current_schedule)):\n",
    "            neighbor = current_schedule.copy()\n",
    "            neighbor[i] = current_schedule[j]\n",
    "            neighbor[j] = current_schedule[i]\n",
    "\n",
    "            # to convenient the work, I set the data structure of permutation matrix as follow\n",
    "            # i, j will memorized which cities were swapped in the current route.\n",
    "            # example:\n",
    "            #   0   1   2      3    ...   15       16      17      18\n",
    "            #   i   j   City1  City2      City14   City15  City1   0 (the place to fill in total travel distance)\n",
    "            #   .   .   .      .    ...   .        .       .       .\n",
    "            #   .   .   .      .    ...   .        .       .       .\n",
    "            #   .   .   .      .    ...   .        .       .       .\n",
    "\n",
    "            loc = [i, j]    # correspond to boolean table\n",
    "            loc.extend(neighbor)    # schedule after randomly swapping two cities\n",
    "            loc.extend([0])   # a place to memorized the city we start and another for total distance\n",
    "            permutation.append(loc)\n",
    "    permutation = np.array(permutation)\n",
    "    return permutation\n",
    "\n",
    "def Get_New_Schedule(permutation, best_result, boolean_table):\n",
    "    # declaration\n",
    "    store_i = 0\n",
    "    store_j = 0\n",
    "    current_schedule = []\n",
    "\n",
    "    # compare all possibilities route in permutation matrix, and choose the best.\n",
    "    for i in range(len(permutation)):\n",
    "        sum = Get_Schedule_Length(permutation[i, 2:2+len(Target_Data)])\n",
    "\n",
    "        if boolean_table[permutation[i,0], permutation[i,1]]!=1:\n",
    "            permutation[i,2+len(Target_Data)] = int(sum)\n",
    "            if (sum < best_result):\n",
    "                best_result = sum\n",
    "                store_i = permutation[i,0]\n",
    "                store_j = permutation[i,1]\n",
    "                current_schedule = permutation[i, 2:2+len(Target_Data)]\n",
    "\n",
    "    # mark the cities that have been swapped\n",
    "    boolean_table[store_i, store_j] = 1\n",
    "    boolean_table[store_j, store_i] = 1\n",
    "\n",
    "    return current_schedule, best_result, boolean_table"
   ],
   "metadata": {
    "collapsed": false,
    "pycharm": {
     "name": "#%%\n"
    }
   }
  },
  {
   "cell_type": "code",
   "execution_count": 85,
   "outputs": [
    {
     "name": "stderr",
     "output_type": "stream",
     "text": [
      "<ipython-input-85-a4cacc8dff55>:14: DeprecationWarning: elementwise comparison failed; this will raise an error in the future.\n",
      "  if current_schedule != []:\n"
     ]
    }
   ],
   "source": [
    "current_schedule = initial_schedule\n",
    "TS = []\n",
    "\n",
    "best_schedule = current_schedule\n",
    "best_result = Get_Schedule_Length(initial_schedule)\n",
    "TS.append(best_result)\n",
    "\n",
    "for i in range(ITERATIONS):\n",
    "    # print(f'Step:{i}')\n",
    "    permutation = Get_Permutation(best_schedule)\n",
    "    current_schedule, best_result, TS_boolean_table = Get_New_Schedule(permutation,\n",
    "                                                                       best_result,\n",
    "                                                                       TS_boolean_table)\n",
    "    if current_schedule != []:\n",
    "        best_schedule = current_schedule\n",
    "    else:\n",
    "        pass\n",
    "\n",
    "    TS.append(Get_Schedule_Length(best_schedule))\n",
    "\n",
    "best_result = Get_Schedule_Length(best_schedule)\n",
    "TS_best_schedule = best_schedule"
   ],
   "metadata": {
    "collapsed": false,
    "pycharm": {
     "name": "#%%\n"
    }
   }
  },
  {
   "cell_type": "markdown",
   "source": [
    "##### 3(f) Particle Swarm Optimization (the standard one, not the SIB)"
   ],
   "metadata": {
    "collapsed": false,
    "pycharm": {
     "name": "#%% md\n"
    }
   }
  },
  {
   "cell_type": "code",
   "execution_count": 86,
   "outputs": [],
   "source": [
    "def Get_Permutation_Ver2(current_schedule, index):\n",
    "    permutation = []\n",
    "    for i in range(len(current_schedule)):\n",
    "        for j in range(i+1, len(current_schedule)):\n",
    "            neighbor = current_schedule.copy()\n",
    "            neighbor[i] = current_schedule[j]\n",
    "            neighbor[j] = current_schedule[i]\n",
    "\n",
    "            # to convenient the work, I set the data structure of permutation matrix as follow\n",
    "            # i, j will memorized which cities were swapped in the current route.\n",
    "            # example:\n",
    "            #   0   1   2      3    ...   15       16      17      18\n",
    "            #   i   j   City1  City2      City14   City15  City1   0 (the place to fill in total travel distance)\n",
    "            #   .   .   .      .    ...   .        .       .       .\n",
    "            #   .   .   .      .    ...   .        .       .       .\n",
    "            #   .   .   .      .    ...   .        .       .       .\n",
    "\n",
    "            loc = [index, i, j]    # correspond to boolean table\n",
    "            loc.extend(neighbor)    # schedule after randomly swapping two cities\n",
    "            loc.extend([Get_Schedule_Length(neighbor)])   # a place to memorized the city we start and another for total distance\n",
    "            permutation.append(loc)\n",
    "    permutation = np.array(permutation)\n",
    "    return permutation\n",
    "\n",
    "def Schedules_Initialization(Particles):\n",
    "    Positions = []\n",
    "    for i in range(Particles):\n",
    "        Positions.append(np.random.permutation(initial_schedule))\n",
    "    return Positions\n",
    "\n",
    "\n",
    "def Initialize_Velocities(Particles):\n",
    "    return np.zeros(Particles)\n",
    "\n",
    "### Get Local Best Position\n",
    "def Get_Local_Best_Schedule(Schedules, Current_Local_Best_Position):\n",
    "    for i in range(len(Schedules)):\n",
    "        if Get_Schedule_Length(Schedules[i]) > Get_Schedule_Length(Current_Local_Best_Position[i]):\n",
    "            Current_Local_Best_Position[i] = Schedules[i]\n",
    "    # print(f'===== Get_Local_Best_Schedule =====')\n",
    "    # print(f'Current_Local_Best_Position : {Current_Local_Best_Position}')\n",
    "    # for j in range(4):\n",
    "    #     print(f'Local_Best_Position_Value[{j}] : {f(Local_Best_Position[j])}')\n",
    "    return Current_Local_Best_Position\n",
    "\n",
    "def Get_Global_Best_Schedule(Local_Best_Schedules,\n",
    "                             Local_Best_Positions,\n",
    "                             Global_Best_Schedule,\n",
    "                             Global_Best_Position):\n",
    "    # print(f'IN GGBS')\n",
    "    # print(Local_Best_Schedules)\n",
    "    # print(Local_Best_Positions)\n",
    "    # print(Global_Best_Schedule)\n",
    "    # print(Get_Schedule_Length(Global_Best_Schedule))\n",
    "    global_best_position = 0\n",
    "    for index in range(len(Local_Best_Schedules)):\n",
    "        # print(f'index:{index}, Local_Best_Positions[{index}]={Local_Best_Positions[index]}')\n",
    "        if Local_Best_Schedules[index][-1] <= Get_Schedule_Length(Global_Best_Schedule):\n",
    "            Global_Best_Schedule = Local_Best_Schedules[index][3:3+len(Target_Data)]\n",
    "            print(f'Global_Best_Schedule:{Global_Best_Schedule}')\n",
    "            Global_Best_Position = Local_Best_Positions[index]\n",
    "    return Global_Best_Schedule, Global_Best_Position\n",
    "\n",
    "def Get_Velocities_of_Particles(Particles,\n",
    "                                Local_Best_Position,\n",
    "                                Global_Best_Position,\n",
    "                                Current_Velocities):\n",
    "    New_Velocities = Initialize_Velocities(Particles)\n",
    "    w = 1; c_1 = 1; c_2 = 0.4\n",
    "    r_1 = np.random.uniform(0, 1, 1)\n",
    "    r_2 = np.random.uniform(0, 1, 1)\n",
    "    # print(f'===== Get_Velocities_of_Particles =====')\n",
    "    # print(f'Local_Best_Position : {Local_Best_Position}')\n",
    "    # print(f'Global_Best_Position : {Global_Best_Position}')\n",
    "    # print(f'Current_Velocities : {Current_Velocities}')\n",
    "    # print(f'Current_Position : {Current_Position}')\n",
    "    # print(f'r_1, r_2: {r_1, r_2}')\n",
    "    for i in range(Particles):\n",
    "        New_Velocities[i] = w*Current_Velocities[i]\\\n",
    "                            + c_1*r_1*(Global_Best_Position-Local_Best_Position[i])\n",
    "        New_Velocities[i] = np.round(float(New_Velocities[i]))\n",
    "    New_Velocities = New_Velocities.astype(int)\n",
    "    return New_Velocities\n",
    "\n",
    "def Get_Overall_Schdules_and_Local_Best_Schedules(Current_Schedules, boolean_tables):\n",
    "    Local_Best_Schedules = []\n",
    "    for i in range(len(Current_Schedules)):\n",
    "        Permutation_of_Each = Get_Permutation_Ver2(Current_Schedules[i], index= i)\n",
    "        Permutation_of_Each = np.array(Permutation_of_Each)\n",
    "\n",
    "        # Search for local best position\n",
    "        min = np.inf\n",
    "        for j in range(len(Permutation_of_Each)):\n",
    "            if Permutation_of_Each[j][-1] < min:\n",
    "                min = Permutation_of_Each[j][-1]\n",
    "                min_Schedule = Permutation_of_Each[j]\n",
    "        Local_Best_Schedules.append(min_Schedule)\n",
    "        boolean_tables[i][min_Schedule[1]][min_Schedule[2]]=1\n",
    "        if i == 0:\n",
    "            overall_schedules = Permutation_of_Each\n",
    "        else:\n",
    "            overall_schedules = np.vstack((overall_schedules, Permutation_of_Each))\n",
    "    return overall_schedules, Local_Best_Schedules\n",
    "\n",
    "# Find the index of Local Best Schedules in all schedules sorted by travel distances.\n",
    "def Find_the_index_of_Local_Best_Schedules(Local_Best_Schedules, overall_schedules):\n",
    "    Local_Best_Positions = []\n",
    "    for i in range(len(Local_Best_Schedules)):\n",
    "        for j in range(len(overall_schedules)):\n",
    "            comparison = Local_Best_Schedules[i] == overall_schedules[j]\n",
    "            equal_arrays = comparison.all()\n",
    "            if equal_arrays:\n",
    "                Local_Best_Positions.append(j)\n",
    "\n",
    "    print(f'Local Best Positions:{Local_Best_Positions}')\n",
    "    return Local_Best_Positions\n",
    "\n",
    "def Sort_Overall_Schedules(overall_schedules):\n",
    "    return overall_schedules[np.argsort(np.negative(overall_schedules[:, -1]))]\n",
    "\n",
    "def Get_New_Schedules(New_Positions, overall_schedules):\n",
    "    New_Schedules = []\n",
    "    for i in range(len(New_Positions)):\n",
    "        New_Schedules.append(overall_schedules[i][3:3+len(Target_Data)])\n",
    "    return New_Schedules"
   ],
   "metadata": {
    "collapsed": false,
    "pycharm": {
     "name": "#%%\n"
    }
   }
  },
  {
   "cell_type": "code",
   "execution_count": 87,
   "outputs": [
    {
     "name": "stdout",
     "output_type": "stream",
     "text": [
      "Local Best Schedule: \n",
      "[array([1, 0, 2, 3, 4]), array([3, 0, 2, 1, 4]), array([3, 4, 1, 0, 2]), array([1, 2, 4, 3, 0])]\n",
      "Global Best Schedule: \n",
      "[1 0 2 3 4]\n"
     ]
    }
   ],
   "source": [
    "PARTICLES = 4\n",
    "initial_schedule = list(range(len(Target_Data)))\n",
    "overall_schedules = []\n",
    "\n",
    "# build several boolean tables for each particle to conduct Tabular Search.\n",
    "size = len(Target_Data[0])\n",
    "boolean_tables = []\n",
    "for i in range(PARTICLES):\n",
    "    x = np.zeros((size, size), dtype=bool)\n",
    "    boolean_tables.append(x)\n",
    "\n",
    "# print(boolean_tables)\n",
    "\n",
    "\n",
    "Current_Schedules = Schedules_Initialization(PARTICLES)\n",
    "Current_Velocities = Initialize_Velocities(PARTICLES)\n",
    "\n",
    "# Initialize Local Best Position\n",
    "Local_Best_Schedule = Current_Schedules\n",
    "print(f'Local Best Schedule: \\n{Local_Best_Schedule}')\n",
    "# Initialize Global Best Position\n",
    "Global_Best_Schedule = Current_Schedules[0]\n",
    "print(f'Global Best Schedule: \\n{Global_Best_Schedule}')\n",
    "### Arbitrarily set a position as Global Best Position from Current_Schedules"
   ],
   "metadata": {
    "collapsed": false,
    "pycharm": {
     "name": "#%%\n"
    }
   }
  },
  {
   "cell_type": "code",
   "execution_count": 88,
   "outputs": [
    {
     "name": "stdout",
     "output_type": "stream",
     "text": [
      "\n",
      "====== ITERS:0 ======\n",
      "Current Schedules: \n",
      "[array([1, 0, 2, 3, 4]), array([3, 0, 2, 1, 4]), array([3, 4, 1, 0, 2]), array([1, 2, 4, 3, 0])]\n",
      "shape of overall schedules: (40, 9)\n",
      "Local Best Schedules:\n",
      "[array([ 0,  0,  4,  4,  0,  2,  3,  1, 20]), array([ 1,  0,  2,  2,  0,  3,  1,  4, 20]), array([ 2,  0,  3,  0,  4,  1,  3,  2, 20]), array([ 3,  0,  4,  0,  2,  4,  3,  1, 24])]\n",
      "Local Best Positions:[37, 35, 34, 31]\n",
      "Global_Best_Schedule:[4 0 2 3 1]\n",
      "Global_Best_Schedule:[2 0 3 1 4]\n",
      "Global_Best_Schedule:[0 4 1 3 2]\n",
      "Global Best Schedule & Position:\n",
      "(array([0, 4, 1, 3, 2]), 34)\n",
      "New Velocities: [0 0 0 0]\n",
      "New Positions: [37, 35, 34, 31]\n",
      "New Schedules: \n",
      "[array([0, 1, 2, 3, 4]), array([1, 2, 3, 4, 0]), array([3, 2, 1, 0, 4]), array([1, 0, 4, 3, 2])]\n",
      "Travel Distances of each particles:[34, 34, 34, 34]\n",
      "\n",
      "====== ITERS:1 ======\n",
      "Current Schedules: \n",
      "[array([0, 1, 2, 3, 4]), array([1, 2, 3, 4, 0]), array([3, 2, 1, 0, 4]), array([1, 0, 4, 3, 2])]\n",
      "shape of overall schedules: (40, 9)\n",
      "Local Best Schedules:\n",
      "[array([ 0,  0,  3,  3,  1,  2,  0,  4, 24]), array([ 1,  0,  1,  2,  1,  3,  4,  0, 24]), array([ 2,  0,  3,  0,  2,  1,  3,  4, 24]), array([ 3,  0,  4,  2,  0,  4,  3,  1, 24])]\n",
      "Local Best Positions:[38, 39, 33, 34]\n",
      "Global Best Schedule & Position:\n",
      "(array([0, 4, 1, 3, 2]), 34)\n",
      "New Velocities: [-1 -1  0  0]\n",
      "New Positions: [37, 38, 33, 34]\n",
      "New Schedules: \n",
      "[array([0, 1, 2, 4, 3]), array([2, 1, 0, 3, 4]), array([1, 0, 3, 4, 2]), array([1, 0, 3, 4, 2])]\n",
      "Travel Distances of each particles:[34, 34, 34, 34]\n",
      "\n",
      "====== ITERS:2 ======\n",
      "Current Schedules: \n",
      "[array([0, 1, 2, 4, 3]), array([2, 1, 0, 3, 4]), array([1, 0, 3, 4, 2]), array([1, 0, 3, 4, 2])]\n",
      "shape of overall schedules: (40, 9)\n",
      "Local Best Schedules:\n",
      "[array([ 0,  0,  1,  1,  0,  2,  4,  3, 24]), array([ 1,  0,  3,  3,  1,  0,  2,  4, 24]), array([ 2,  0,  1,  0,  1,  3,  4,  2, 24]), array([ 3,  0,  1,  0,  1,  3,  4,  2, 24])]\n",
      "Local Best Positions:[39, 34, 36, 38]\n",
      "Global Best Schedule & Position:\n",
      "(array([0, 4, 1, 3, 2]), 34)\n",
      "New Velocities: [-4  0 -1 -3]\n",
      "New Positions: [35, 34, 35, 35]\n",
      "New Schedules: \n",
      "[array([2, 1, 0, 4, 3]), array([2, 1, 0, 4, 3]), array([1, 0, 4, 3, 2]), array([1, 2, 3, 4, 0])]\n",
      "Travel Distances of each particles:[34, 34, 34, 34]\n"
     ]
    }
   ],
   "source": [
    "for i in range(3):\n",
    "    print(f'\\n====== ITERS:{i} ======')\n",
    "    print(f'Current Schedules: \\n{Current_Schedules}')\n",
    "    overall_schedules, Local_Best_Schedules \\\n",
    "        = Get_Overall_Schdules_and_Local_Best_Schedules(Current_Schedules,\n",
    "                                                        boolean_tables)\n",
    "    print(f'shape of overall schedules: {np.array(overall_schedules).shape}')\n",
    "\n",
    "    # sort all schedules by travel distances.\n",
    "    overall_schedules = Sort_Overall_Schedules(overall_schedules)\n",
    "    # print(f'overall schedules after descend sorting:\\n{overall_schedules}')\n",
    "\n",
    "    print(f'Local Best Schedules:\\n{Local_Best_Schedules}')\n",
    "    Local_Best_Positions = Find_the_index_of_Local_Best_Schedules(Local_Best_Schedules,\n",
    "                                                                  overall_schedules)\n",
    "    Global_Best_Schedule, Global_Best_Position \\\n",
    "        = Get_Global_Best_Schedule(Local_Best_Schedules,\n",
    "                                      Local_Best_Positions,\n",
    "                                      Global_Best_Schedule,\n",
    "                                   Global_Best_Position)\n",
    "    print(f'Global Best Schedule & Position:\\n{Global_Best_Schedule, Global_Best_Position}')\n",
    "\n",
    "    New_Velocities = Get_Velocities_of_Particles(PARTICLES,\n",
    "                                                 Local_Best_Positions,\n",
    "                                                 Global_Best_Position,\n",
    "                                                 Current_Velocities)\n",
    "    print(f'New Velocities: {New_Velocities}')\n",
    "    def Get_New_Positions(Local_Best_Positions, New_Velocities, overall_schedules):\n",
    "        for i in range(len(Local_Best_Positions)):\n",
    "            if Local_Best_Positions[i]+New_Velocities[i] > len(overall_schedules):\n",
    "                New_Positions[i] = len(overall_schedules)\n",
    "            else:\n",
    "                New_Positions[i] = Local_Best_Positions[i] + New_Velocities[i]\n",
    "        return New_Positions\n",
    "    New_Positions = Get_New_Positions(Local_Best_Positions, New_Velocities, overall_schedules)\n",
    "    print(f'New Positions: {New_Positions}')\n",
    "    New_Schedules = Get_New_Schedules(New_Positions, overall_schedules)\n",
    "    print(f'New Schedules: \\n{New_Schedules}')\n",
    "    test = []\n",
    "    for i in range(PARTICLES):\n",
    "        test.append(Get_Schedule_Length(New_Schedules[0]))\n",
    "    print(f'Travel Distances of each particles:{test}')\n",
    "    Current_Schedules = New_Schedules"
   ],
   "metadata": {
    "collapsed": false,
    "pycharm": {
     "name": "#%%\n"
    }
   }
  },
  {
   "cell_type": "markdown",
   "source": [
    "#### FE plot"
   ],
   "metadata": {
    "collapsed": false,
    "pycharm": {
     "name": "#%% md\n"
    }
   }
  },
  {
   "cell_type": "code",
   "execution_count": 89,
   "outputs": [
    {
     "ename": "IndexError",
     "evalue": "list index out of range",
     "output_type": "error",
     "traceback": [
      "\u001B[1;31m---------------------------------------------------------------------------\u001B[0m",
      "\u001B[1;31mIndexError\u001B[0m                                Traceback (most recent call last)",
      "\u001B[1;32m<ipython-input-89-c1550a8cd8cd>\u001B[0m in \u001B[0;36m<module>\u001B[1;34m\u001B[0m\n\u001B[0;32m      3\u001B[0m \u001B[0mplot1\u001B[0m \u001B[1;33m=\u001B[0m \u001B[0mplt\u001B[0m\u001B[1;33m.\u001B[0m\u001B[0mstairs\u001B[0m\u001B[1;33m(\u001B[0m\u001B[0mHC\u001B[0m\u001B[1;33m,\u001B[0m \u001B[0mlabel\u001B[0m\u001B[1;33m=\u001B[0m\u001B[1;34mf'Hill Climbing: {HC[-1]}'\u001B[0m\u001B[1;33m,\u001B[0m \u001B[0mbaseline\u001B[0m\u001B[1;33m=\u001B[0m\u001B[1;32mNone\u001B[0m\u001B[1;33m)\u001B[0m\u001B[1;33m\u001B[0m\u001B[1;33m\u001B[0m\u001B[0m\n\u001B[0;32m      4\u001B[0m \u001B[0mplot1\u001B[0m \u001B[1;33m=\u001B[0m \u001B[0mplt\u001B[0m\u001B[1;33m.\u001B[0m\u001B[0mstairs\u001B[0m\u001B[1;33m(\u001B[0m\u001B[0mGA\u001B[0m\u001B[1;33m,\u001B[0m \u001B[0mlabel\u001B[0m\u001B[1;33m=\u001B[0m\u001B[1;34mf'Genetic Algorithm: {GA[-1]}'\u001B[0m\u001B[1;33m,\u001B[0m \u001B[0mbaseline\u001B[0m\u001B[1;33m=\u001B[0m\u001B[1;32mNone\u001B[0m\u001B[1;33m)\u001B[0m\u001B[1;33m\u001B[0m\u001B[1;33m\u001B[0m\u001B[0m\n\u001B[1;32m----> 5\u001B[1;33m \u001B[0mplot1\u001B[0m \u001B[1;33m=\u001B[0m \u001B[0mplt\u001B[0m\u001B[1;33m.\u001B[0m\u001B[0mstairs\u001B[0m\u001B[1;33m(\u001B[0m\u001B[0mSA\u001B[0m\u001B[1;33m,\u001B[0m \u001B[0mlabel\u001B[0m\u001B[1;33m=\u001B[0m\u001B[1;34mf'Simulated Annealing: {SA[-1]}'\u001B[0m\u001B[1;33m,\u001B[0m \u001B[0mbaseline\u001B[0m\u001B[1;33m=\u001B[0m\u001B[1;32mNone\u001B[0m\u001B[1;33m)\u001B[0m\u001B[1;33m\u001B[0m\u001B[1;33m\u001B[0m\u001B[0m\n\u001B[0m\u001B[0;32m      6\u001B[0m \u001B[0mplot1\u001B[0m \u001B[1;33m=\u001B[0m \u001B[0mplt\u001B[0m\u001B[1;33m.\u001B[0m\u001B[0mstairs\u001B[0m\u001B[1;33m(\u001B[0m\u001B[0mTS\u001B[0m\u001B[1;33m,\u001B[0m \u001B[0mlabel\u001B[0m\u001B[1;33m=\u001B[0m\u001B[1;34mf'Tabular Search: {TS[-1]}'\u001B[0m\u001B[1;33m,\u001B[0m \u001B[0mbaseline\u001B[0m\u001B[1;33m=\u001B[0m\u001B[1;32mNone\u001B[0m\u001B[1;33m)\u001B[0m\u001B[1;33m\u001B[0m\u001B[1;33m\u001B[0m\u001B[0m\n\u001B[0;32m      7\u001B[0m \u001B[1;33m\u001B[0m\u001B[0m\n",
      "\u001B[1;31mIndexError\u001B[0m: list index out of range"
     ]
    },
    {
     "data": {
      "text/plain": "<Figure size 432x288 with 1 Axes>",
      "image/png": "[encoded data removed]"
     },
     "metadata": {
      "needs_background": "light"
     },
     "output_type": "display_data"
    }
   ],
   "source": [
    "import matplotlib.pyplot as plt\n",
    "plot1 = plt.stairs(RW, label=f'Random Walk: {RW[-1]}', baseline=None)\n",
    "plot1 = plt.stairs(HC, label=f'Hill Climbing: {HC[-1]}', baseline=None)\n",
    "plot1 = plt.stairs(GA, label=f'Genetic Algorithm: {GA[-1]}', baseline=None)\n",
    "plot1 = plt.stairs(SA, label=f'Simulated Annealing: {SA[-1]}', baseline=None)\n",
    "plot1 = plt.stairs(TS, label=f'Tabular Search: {TS[-1]}', baseline=None)\n",
    "\n",
    "plot1 = plt.xlabel('Iterations')\n",
    "plot1 = plt.ylabel('Travel Distances')\n",
    "plot1 = plt.title('FE plot')\n",
    "# plt.xlim()\n",
    "\n",
    "plot1 = plt.grid(axis='both', color='0.95')\n",
    "\n",
    "plot1 = plt.legend(loc=3)\n",
    "\n",
    "plot1 = plt.show()"
   ],
   "metadata": {
    "collapsed": false,
    "pycharm": {
     "name": "#%%\n"
    }
   }
  },
  {
   "cell_type": "code",
   "execution_count": null,
   "outputs": [],
   "source": [
    "print(SA)\n",
    "print(HC_best_schedule)\n",
    "print(TS_best_schedule)"
   ],
   "metadata": {
    "collapsed": false,
    "pycharm": {
     "name": "#%%\n"
    }
   }
  }
 ],
 "metadata": {
  "kernelspec": {
   "display_name": "Python 3",
   "language": "python",
   "name": "python3"
  },
  "language_info": {
   "codemirror_mode": {
    "name": "ipython",
    "version": 2
   },
   "file_extension": ".py",
   "mimetype": "text/x-python",
   "name": "python",
   "nbconvert_exporter": "python",
   "pygments_lexer": "ipython2",
   "version": "2.7.6"
  }
 },
 "nbformat": 4,
 "nbformat_minor": 0
}