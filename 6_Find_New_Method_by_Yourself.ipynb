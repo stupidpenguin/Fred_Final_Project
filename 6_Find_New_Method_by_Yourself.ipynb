{
 "cells": [
  {
   "cell_type": "code",
   "execution_count": 54,
   "metadata": {
    "collapsed": true
   },
   "outputs": [
    {
     "name": "stdout",
     "output_type": "stream",
     "text": [
      "[[ 0 20 17 17 14 12 15 18 15  2 10  7]\n",
      " [20  0 12  7  5 14 15  3 17  1  3 14]\n",
      " [17 12  0  7 16 16  8  9 17  7  6  6]\n",
      " [17  7  7  0 19  1  4  5  2  7 16  1]\n",
      " [14  5 16 19  0 14  8  5 19  3 12  5]\n",
      " [12 14 16  1 14  0 14  2 13 12  5  5]\n",
      " [15 15  8  4  8 14  0 12 10 16  8  7]\n",
      " [18  3  9  5  5  2 12  0 15  7  5  8]\n",
      " [15 17 17  2 19 13 10 15  0 19  7 10]\n",
      " [ 2  1  7  7  3 12 16  7 19  0 16 12]\n",
      " [10  3  6 16 12  5  8  5  7 16  0  6]\n",
      " [ 7 14  6  1  5  5  7  8 10 12  6  0]]\n"
     ]
    }
   ],
   "source": [
    "import copy\n",
    "\n",
    "TEST_MATRIX_SIZE = 12\n",
    "import numpy as np\n",
    "\n",
    "# Generate a small test set\n",
    "Test_Adjacency_Matrix = np.random.randint(20, size=(TEST_MATRIX_SIZE,TEST_MATRIX_SIZE))\n",
    "Test_Adjacency_Matrix = np.add(Test_Adjacency_Matrix, np.ones(TEST_MATRIX_SIZE, dtype=int))\n",
    "\n",
    "for i in range(len(Test_Adjacency_Matrix[0])):\n",
    "    for j in range(i , len(Test_Adjacency_Matrix[1])):\n",
    "        if i==j:\n",
    "            Test_Adjacency_Matrix[i][j] = 0\n",
    "        else:\n",
    "            Test_Adjacency_Matrix[i,j] = Test_Adjacency_Matrix[j,i]\n",
    "\n",
    "print(Test_Adjacency_Matrix)\n",
    "\n",
    "Target_Data = Test_Adjacency_Matrix"
   ]
  },
  {
   "cell_type": "code",
   "execution_count": 55,
   "outputs": [],
   "source": [
    "import copy\n",
    "def Minimum_Travel_Distance_by_DP(given_array, h, s):\n",
    "    if(s > h+1):\n",
    "        # print(f'computing min({h}, {s})')\n",
    "        travel_distance_wo_swap = Get_Schedule_Length(given_array)\n",
    "        min = travel_distance_wo_swap\n",
    "\n",
    "        for u in range(h+2, s):\n",
    "            array = given_array\n",
    "            # print(f'array before swap: {array}')\n",
    "            # swap\n",
    "            array[u], array[h+1] = array[h+1], array[u]\n",
    "            # print(f'swap array[{h+1}] & array[{u}], array after swap: {array}')\n",
    "            travel_distance_of_first_part = Minimum_Travel_Distance_by_DP(array, h, h+1)\n",
    "            travel_distance_of_second_part = Minimum_Travel_Distance_by_DP(array, h+1, s)\n",
    "            travel_distance_after_swap = travel_distance_of_first_part + travel_distance_of_second_part\n",
    "            # array = np.concatenate((array_of_first_part, array_of_second_part))\n",
    "            # print(f'after swapping array[{h+1}] = {array[h+1]} & array[{u}] = {array[u]},'\n",
    "            #       f'schedule: {array}, with travel distance: {travel_distance_after_swap}')\n",
    "\n",
    "            if travel_distance_after_swap < travel_distance_wo_swap:\n",
    "                min = travel_distance_after_swap\n",
    "        return min\n",
    "\n",
    "    elif(s == h+1): # h -> s\n",
    "        if s == len(given_array):\n",
    "            return Get_Distance(given_array, h, 0)\n",
    "        else:\n",
    "            return Get_Distance(given_array, h, s)\n",
    "\n",
    "    else:\n",
    "        return 0\n",
    "\n",
    "def Get_Distance(array, x, y):\n",
    "    return Target_Data[array[x]][array[y]]\n",
    "\n",
    "def Get_Schedule_Length(given_schedule):\n",
    "    sum = 0\n",
    "    for j in range(len(given_schedule)-1):\n",
    "        sum += Target_Data[given_schedule[j],given_schedule[j+1]]\n",
    "    return sum"
   ],
   "metadata": {
    "collapsed": false,
    "pycharm": {
     "name": "#%%\n"
    }
   }
  },
  {
   "cell_type": "code",
   "execution_count": 56,
   "outputs": [
    {
     "name": "stdout",
     "output_type": "stream",
     "text": [
      "[0, 1, 2, 3, 4, 5, 6, 7, 8, 9, 10, 11]\n",
      "[0, 1, 2, 3, 4, 5, 6, 7, 8, 9, 10, 11, 0]\n",
      "161\n"
     ]
    }
   ],
   "source": [
    "# schedule = np.arange(len(Target_Data))\n",
    "schedule = list(range(len(Target_Data)))\n",
    "print(schedule)\n",
    "\n",
    "schedule.append(schedule[0])\n",
    "print(schedule)\n",
    "print(Get_Schedule_Length(schedule))"
   ],
   "metadata": {
    "collapsed": false,
    "pycharm": {
     "name": "#%%\n"
    }
   }
  },
  {
   "cell_type": "code",
   "execution_count": 57,
   "outputs": [
    {
     "name": "stdout",
     "output_type": "stream",
     "text": [
      "153\n",
      "[0, 1, 2, 3, 4, 5, 6, 7, 8, 9, 10, 11, 0]\n"
     ]
    }
   ],
   "source": [
    "min = Minimum_Travel_Distance_by_DP(schedule, 0, len(schedule)-1)\n",
    "print(min)\n",
    "print(schedule)"
   ],
   "metadata": {
    "collapsed": false,
    "pycharm": {
     "name": "#%%\n"
    }
   }
  },
  {
   "cell_type": "code",
   "execution_count": 58,
   "outputs": [
    {
     "name": "stdout",
     "output_type": "stream",
     "text": [
      "[1, 2, 3]\n",
      "[1 2 3 1 2 3]\n"
     ]
    }
   ],
   "source": [
    "A = [1, 2, 3]\n",
    "print(A[0:3])\n",
    "\n",
    "X = np.concatenate((A,A))\n",
    "print(X)"
   ],
   "metadata": {
    "collapsed": false,
    "pycharm": {
     "name": "#%%\n"
    }
   }
  },
  {
   "cell_type": "code",
   "execution_count": 59,
   "outputs": [
    {
     "name": "stdout",
     "output_type": "stream",
     "text": [
      "test\n",
      "exam\n",
      "test\n"
     ]
    }
   ],
   "source": [
    "A = \"test\"\n",
    "B = A\n",
    "B = \"exam\"\n",
    "print(A)\n",
    "print(B)\n",
    "print(A)"
   ],
   "metadata": {
    "collapsed": false,
    "pycharm": {
     "name": "#%%\n"
    }
   }
  },
  {
   "cell_type": "code",
   "execution_count": 60,
   "outputs": [
    {
     "name": "stdout",
     "output_type": "stream",
     "text": [
      "1\n",
      "2\n"
     ]
    }
   ],
   "source": [
    "A = 1\n",
    "B = A\n",
    "B = 2\n",
    "print(A)\n",
    "print(B)"
   ],
   "metadata": {
    "collapsed": false,
    "pycharm": {
     "name": "#%%\n"
    }
   }
  }
 ],
 "metadata": {
  "kernelspec": {
   "display_name": "Python 3",
   "language": "python",
   "name": "python3"
  },
  "language_info": {
   "codemirror_mode": {
    "name": "ipython",
    "version": 2
   },
   "file_extension": ".py",
   "mimetype": "text/x-python",
   "name": "python",
   "nbconvert_exporter": "python",
   "pygments_lexer": "ipython2",
   "version": "2.7.6"
  }
 },
 "nbformat": 4,
 "nbformat_minor": 0
}