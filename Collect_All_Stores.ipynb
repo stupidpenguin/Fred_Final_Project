{
 "cells": [
  {
   "cell_type": "code",
   "execution_count": 62,
   "outputs": [
    {
     "name": "stdout",
     "output_type": "stream",
     "text": [
      "72\n",
      "['凱松' '經貿' '馥樺' '中坡' '玉德' '港運' '向揚' '新福玉' '玉成' '港泰' '港麗' '港環球' '雄強' '昆陽'\n",
      " '忠陽' '聯坊' '林坊' '香城' '佳樂' '港高鐵' '鵬馳' '耀港' '中研' '研究' '庄研' '胡適' '華技' '慈愛'\n",
      " '重陽' '鑫貿' '中貿' '港捷' '港勝' '港德' '港興' '聯成']\n",
      "['台北市南港區八德路四段778號780號' '台北市南港區三重路19號1樓' '台北市南港區三重路23號1樓' '台北市南港區中坡南路47號1樓'\n",
      " '台北市南港區玉成街150號1樓' '台北市南港區玉成街69號1樓' '台北市南港區向陽路166號1樓' '台北市南港區成福路145號147號'\n",
      " '台北市南港區西新里南港路三段3號1樓' '台北市南港區忠孝東路七段359號1樓' '台北市南港區忠孝東路七段369號2樓'\n",
      " '台北市南港區忠孝東路七段371號B2' '台北市南港區忠孝東路六段276號' '台北市南港區忠孝東路六段448號'\n",
      " '台北市南港區忠孝東路六段465號1樓' '台北市南港區東新街118巷1號' '台北市南港區東新街80巷1號'\n",
      " '台北市南港區南港路一段167號1樓' '台北市南港區南港路一段303號305號307號1樓' '台北市南港區南港路一段313號B2'\n",
      " '台北市南港區南港路三段49-1號' '台北市南港區研究院路一段99號1樓之14' '台北市南港區研究院路二段128號1樓(學術活動中心)'\n",
      " '台北市南港區研究院路二段14號' '台北市南港區研究院路二段152號' '台北市南港區研究院路二段94號96號98巷1號'\n",
      " '台北市南港區研究院路三段72號74號1樓' '台北市南港區重陽路164號' '台北市南港區重陽路179號181號1樓'\n",
      " '台北市南港區經貿二路168號4樓' '台北市南港區經貿二路186號2樓' '台北市南港區經貿二路1號' '台北市南港區經貿二路2號B1樓'\n",
      " '台北市南港區福德街373巷25號' '台北市南港區興華路119號121號123號125號' '台北市南港區聯成里昆陽街150-1號150-3號']\n",
      "(36, 1)\n"
     ]
    }
   ],
   "source": [
    "import pandas as pd\n",
    "import numpy as np\n",
    "\n",
    "Stores = pd.read_csv('Stores.csv', header=None)\n",
    "Stores = np.array(Stores)\n",
    "print(len(Stores))\n",
    "\n",
    "Stores_name = []\n",
    "Stores_address = []\n",
    "for i in range(len(Stores)):\n",
    "    if i%2 == 0:\n",
    "        Stores_name.append(Stores[i])\n",
    "    else:\n",
    "        Stores_address.append(Stores[i])\n",
    "\n",
    "Name = np.squeeze(Stores_name)\n",
    "Address = np.squeeze(Stores_address)\n",
    "for i in range(len(Name)):\n",
    "    Name[i] = Name[i].split('門市')[0]\n",
    "    Address[i] = '台北市南港區'+Address[i].split('台北市南港區')[1]\n",
    "print(Name)\n",
    "print(Address)\n",
    "print(np.array(Stores_name).shape)"
   ],
   "metadata": {
    "collapsed": false,
    "pycharm": {
     "name": "#%%\n"
    }
   }
  },
  {
   "cell_type": "code",
   "execution_count": 63,
   "outputs": [
    {
     "data": {
      "text/plain": "   name                     address\n0    凱松         台北市南港區八德路四段778號780號\n1    經貿              台北市南港區三重路19號1樓\n2    馥樺              台北市南港區三重路23號1樓\n3    中坡             台北市南港區中坡南路47號1樓\n4    玉德             台北市南港區玉成街150號1樓\n5    港運              台北市南港區玉成街69號1樓\n6    向揚             台北市南港區向陽路166號1樓\n7   新福玉           台北市南港區成福路145號147號\n8    玉成          台北市南港區西新里南港路三段3號1樓\n9    港泰          台北市南港區忠孝東路七段359號1樓\n10   港麗          台北市南港區忠孝東路七段369號2樓\n11  港環球          台北市南港區忠孝東路七段371號B2\n12   雄強            台北市南港區忠孝東路六段276號\n13   昆陽            台北市南港區忠孝東路六段448號\n14   忠陽          台北市南港區忠孝東路六段465號1樓\n15   聯坊             台北市南港區東新街118巷1號\n16   林坊              台北市南港區東新街80巷1號\n17   香城           台北市南港區南港路一段167號1樓\n18   佳樂   台北市南港區南港路一段303號305號307號1樓\n19  港高鐵           台北市南港區南港路一段313號B2\n20   鵬馳            台北市南港區南港路三段49-1號\n21   耀港        台北市南港區研究院路一段99號1樓之14\n22   中研  台北市南港區研究院路二段128號1樓(學術活動中心)\n23   研究             台北市南港區研究院路二段14號\n24   庄研            台北市南港區研究院路二段152號\n25   胡適     台北市南港區研究院路二段94號96號98巷1號\n26   華技        台北市南港區研究院路三段72號74號1樓\n27   慈愛               台北市南港區重陽路164號\n28   重陽         台北市南港區重陽路179號181號1樓\n29   鑫貿            台北市南港區經貿二路168號4樓\n30   中貿            台北市南港區經貿二路186號2樓\n31   港捷                台北市南港區經貿二路1號\n32   港勝             台北市南港區經貿二路2號B1樓\n33   港德            台北市南港區福德街373巷25號\n34   港興   台北市南港區興華路119號121號123號125號\n35   聯成    台北市南港區聯成里昆陽街150-1號150-3號",
      "text/html": "<div>\n<style scoped>\n    .dataframe tbody tr th:only-of-type {\n        vertical-align: middle;\n    }\n\n    .dataframe tbody tr th {\n        vertical-align: top;\n    }\n\n    .dataframe thead th {\n        text-align: right;\n    }\n</style>\n<table border=\"1\" class=\"dataframe\">\n  <thead>\n    <tr style=\"text-align: right;\">\n      <th></th>\n      <th>name</th>\n      <th>address</th>\n    </tr>\n  </thead>\n  <tbody>\n    <tr>\n      <th>0</th>\n      <td>凱松</td>\n      <td>台北市南港區八德路四段778號780號</td>\n    </tr>\n    <tr>\n      <th>1</th>\n      <td>經貿</td>\n      <td>台北市南港區三重路19號1樓</td>\n    </tr>\n    <tr>\n      <th>2</th>\n      <td>馥樺</td>\n      <td>台北市南港區三重路23號1樓</td>\n    </tr>\n    <tr>\n      <th>3</th>\n      <td>中坡</td>\n      <td>台北市南港區中坡南路47號1樓</td>\n    </tr>\n    <tr>\n      <th>4</th>\n      <td>玉德</td>\n      <td>台北市南港區玉成街150號1樓</td>\n    </tr>\n    <tr>\n      <th>5</th>\n      <td>港運</td>\n      <td>台北市南港區玉成街69號1樓</td>\n    </tr>\n    <tr>\n      <th>6</th>\n      <td>向揚</td>\n      <td>台北市南港區向陽路166號1樓</td>\n    </tr>\n    <tr>\n      <th>7</th>\n      <td>新福玉</td>\n      <td>台北市南港區成福路145號147號</td>\n    </tr>\n    <tr>\n      <th>8</th>\n      <td>玉成</td>\n      <td>台北市南港區西新里南港路三段3號1樓</td>\n    </tr>\n    <tr>\n      <th>9</th>\n      <td>港泰</td>\n      <td>台北市南港區忠孝東路七段359號1樓</td>\n    </tr>\n    <tr>\n      <th>10</th>\n      <td>港麗</td>\n      <td>台北市南港區忠孝東路七段369號2樓</td>\n    </tr>\n    <tr>\n      <th>11</th>\n      <td>港環球</td>\n      <td>台北市南港區忠孝東路七段371號B2</td>\n    </tr>\n    <tr>\n      <th>12</th>\n      <td>雄強</td>\n      <td>台北市南港區忠孝東路六段276號</td>\n    </tr>\n    <tr>\n      <th>13</th>\n      <td>昆陽</td>\n      <td>台北市南港區忠孝東路六段448號</td>\n    </tr>\n    <tr>\n      <th>14</th>\n      <td>忠陽</td>\n      <td>台北市南港區忠孝東路六段465號1樓</td>\n    </tr>\n    <tr>\n      <th>15</th>\n      <td>聯坊</td>\n      <td>台北市南港區東新街118巷1號</td>\n    </tr>\n    <tr>\n      <th>16</th>\n      <td>林坊</td>\n      <td>台北市南港區東新街80巷1號</td>\n    </tr>\n    <tr>\n      <th>17</th>\n      <td>香城</td>\n      <td>台北市南港區南港路一段167號1樓</td>\n    </tr>\n    <tr>\n      <th>18</th>\n      <td>佳樂</td>\n      <td>台北市南港區南港路一段303號305號307號1樓</td>\n    </tr>\n    <tr>\n      <th>19</th>\n      <td>港高鐵</td>\n      <td>台北市南港區南港路一段313號B2</td>\n    </tr>\n    <tr>\n      <th>20</th>\n      <td>鵬馳</td>\n      <td>台北市南港區南港路三段49-1號</td>\n    </tr>\n    <tr>\n      <th>21</th>\n      <td>耀港</td>\n      <td>台北市南港區研究院路一段99號1樓之14</td>\n    </tr>\n    <tr>\n      <th>22</th>\n      <td>中研</td>\n      <td>台北市南港區研究院路二段128號1樓(學術活動中心)</td>\n    </tr>\n    <tr>\n      <th>23</th>\n      <td>研究</td>\n      <td>台北市南港區研究院路二段14號</td>\n    </tr>\n    <tr>\n      <th>24</th>\n      <td>庄研</td>\n      <td>台北市南港區研究院路二段152號</td>\n    </tr>\n    <tr>\n      <th>25</th>\n      <td>胡適</td>\n      <td>台北市南港區研究院路二段94號96號98巷1號</td>\n    </tr>\n    <tr>\n      <th>26</th>\n      <td>華技</td>\n      <td>台北市南港區研究院路三段72號74號1樓</td>\n    </tr>\n    <tr>\n      <th>27</th>\n      <td>慈愛</td>\n      <td>台北市南港區重陽路164號</td>\n    </tr>\n    <tr>\n      <th>28</th>\n      <td>重陽</td>\n      <td>台北市南港區重陽路179號181號1樓</td>\n    </tr>\n    <tr>\n      <th>29</th>\n      <td>鑫貿</td>\n      <td>台北市南港區經貿二路168號4樓</td>\n    </tr>\n    <tr>\n      <th>30</th>\n      <td>中貿</td>\n      <td>台北市南港區經貿二路186號2樓</td>\n    </tr>\n    <tr>\n      <th>31</th>\n      <td>港捷</td>\n      <td>台北市南港區經貿二路1號</td>\n    </tr>\n    <tr>\n      <th>32</th>\n      <td>港勝</td>\n      <td>台北市南港區經貿二路2號B1樓</td>\n    </tr>\n    <tr>\n      <th>33</th>\n      <td>港德</td>\n      <td>台北市南港區福德街373巷25號</td>\n    </tr>\n    <tr>\n      <th>34</th>\n      <td>港興</td>\n      <td>台北市南港區興華路119號121號123號125號</td>\n    </tr>\n    <tr>\n      <th>35</th>\n      <td>聯成</td>\n      <td>台北市南港區聯成里昆陽街150-1號150-3號</td>\n    </tr>\n  </tbody>\n</table>\n</div>"
     },
     "execution_count": 63,
     "metadata": {},
     "output_type": "execute_result"
    }
   ],
   "source": [
    "test = {}\n",
    "dataframe = pd.DataFrame(test)\n",
    "dataframe.insert(0,'name',Name)\n",
    "dataframe.insert(1,'address',Address)\n",
    "dataframe"
   ],
   "metadata": {
    "collapsed": false,
    "pycharm": {
     "name": "#%%\n"
    }
   }
  },
  {
   "cell_type": "code",
   "execution_count": 64,
   "outputs": [],
   "source": [
    "with open('Stores_List.json', 'w', encoding='utf-8') as file:\n",
    "    dataframe.to_json(file, orient='records', force_ascii=False)"
   ],
   "metadata": {
    "collapsed": false,
    "pycharm": {
     "name": "#%%\n"
    }
   }
  }
 ],
 "metadata": {
  "kernelspec": {
   "display_name": "Python 3",
   "language": "python",
   "name": "python3"
  },
  "language_info": {
   "codemirror_mode": {
    "name": "ipython",
    "version": 2
   },
   "file_extension": ".py",
   "mimetype": "text/x-python",
   "name": "python",
   "nbconvert_exporter": "python",
   "pygments_lexer": "ipython2",
   "version": "2.7.6"
  }
 },
 "nbformat": 4,
 "nbformat_minor": 0
}